{
  "nbformat": 4,
  "nbformat_minor": 0,
  "metadata": {
    "colab": {
      "name": "Functions.ipynb",
      "version": "0.3.2",
      "provenance": [],
      "collapsed_sections": [],
      "include_colab_link": true
    },
    "kernelspec": {
      "name": "swift",
      "display_name": "Swift"
    }
  },
  "cells": [
    {
      "cell_type": "markdown",
      "metadata": {
        "id": "view-in-github",
        "colab_type": "text"
      },
      "source": [
        "<a href=\"https://colab.research.google.com/github/kurniawano/swift-notes/blob/master/Functions.ipynb\" target=\"_parent\"><img src=\"https://colab.research.google.com/assets/colab-badge.svg\" alt=\"Open In Colab\"/></a>"
      ]
    },
    {
      "cell_type": "markdown",
      "metadata": {
        "id": "JqfKnpgQUOzW",
        "colab_type": "text"
      },
      "source": [
        "# Defining a Function"
      ]
    },
    {
      "cell_type": "code",
      "metadata": {
        "id": "AeFi8FbPUgQg",
        "colab_type": "code",
        "colab": {
          "base_uri": "https://localhost:8080/",
          "height": 51
        },
        "outputId": "c2496e94-4020-4c09-d932-e7ddb8d36d6a"
      },
      "source": [
        "func sayHello(name: String) -> String{\n",
        "  return \"Hello \\(name)\"\n",
        "}\n",
        "\n",
        "print(sayHello(name: \"James\"))\n",
        "print(sayHello(name: \"John\"))"
      ],
      "execution_count": 3,
      "outputs": [
        {
          "output_type": "stream",
          "text": [
            "Hello James\r\n",
            "Hello John\r\n"
          ],
          "name": "stdout"
        }
      ]
    },
    {
      "cell_type": "markdown",
      "metadata": {
        "id": "eS2M0rYuUx6R",
        "colab_type": "text"
      },
      "source": [
        "Note:\n",
        "\n",
        "* keyword to define function: `func`\n",
        "* parameters' name must be specified during function call\n",
        "* returned data type is specified after the arrow (->)"
      ]
    },
    {
      "cell_type": "markdown",
      "metadata": {
        "id": "acJRaQIMWmtJ",
        "colab_type": "text"
      },
      "source": [
        "# Function with Multiple Parameters"
      ]
    },
    {
      "cell_type": "code",
      "metadata": {
        "id": "vc4LOxp7VaBe",
        "colab_type": "code",
        "colab": {
          "base_uri": "https://localhost:8080/",
          "height": 34
        },
        "outputId": "9cad43b7-c8f4-4f60-9a92-57e20858541b"
      },
      "source": [
        "func intPower(base: Double, exp: Int) -> Double{\n",
        "  var result = 1.0\n",
        "  for iter in 1...exp{\n",
        "    result *= base\n",
        "  }\n",
        "  return result\n",
        "}\n",
        "\n",
        "print(intPower(base:2, exp:5))"
      ],
      "execution_count": 10,
      "outputs": [
        {
          "output_type": "stream",
          "text": [
            "32.0\r\n"
          ],
          "name": "stdout"
        }
      ]
    },
    {
      "cell_type": "markdown",
      "metadata": {
        "id": "TzgUZb6kWqb0",
        "colab_type": "text"
      },
      "source": [
        "# Function with Multiple Return Values"
      ]
    },
    {
      "cell_type": "code",
      "metadata": {
        "id": "N4Qz6zR3WtBm",
        "colab_type": "code",
        "colab": {
          "base_uri": "https://localhost:8080/",
          "height": 34
        },
        "outputId": "352722bf-ba35-4ff6-b8ba-390751bcb9f6"
      },
      "source": [
        "func minMax(array: [Int]) -> (min: Int, max: Int){\n",
        "  var min = array[0]\n",
        "  var max = array[0]\n",
        "  for el in array{\n",
        "    if el > max{\n",
        "      max = el\n",
        "    }\n",
        "    if el < min{\n",
        "      min = el\n",
        "    }\n",
        "  }\n",
        "  \n",
        "  return (min, max)\n",
        "}\n",
        "\n",
        "let myarray = [8,9,3,4,7,2,3,9,7,4]\n",
        "print(minMax(array:myarray))"
      ],
      "execution_count": 11,
      "outputs": [
        {
          "output_type": "stream",
          "text": [
            "(min: 2, max: 9)\r\n"
          ],
          "name": "stdout"
        }
      ]
    },
    {
      "cell_type": "markdown",
      "metadata": {
        "id": "YD1eKM_IXfoe",
        "colab_type": "text"
      },
      "source": [
        "You can access the output from the name defined in the function definition:"
      ]
    },
    {
      "cell_type": "code",
      "metadata": {
        "id": "bwYZKHZiXisp",
        "colab_type": "code",
        "colab": {
          "base_uri": "https://localhost:8080/",
          "height": 51
        },
        "outputId": "7eadcbf5-e6f1-4603-ec42-cee10d17f68c"
      },
      "source": [
        "let output = minMax(array:myarray)\n",
        "print(output.min)\n",
        "print(output.max)"
      ],
      "execution_count": 12,
      "outputs": [
        {
          "output_type": "stream",
          "text": [
            "2\r\n",
            "9\r\n"
          ],
          "name": "stdout"
        }
      ]
    },
    {
      "cell_type": "markdown",
      "metadata": {
        "id": "cONpBO7PXzkL",
        "colab_type": "text"
      },
      "source": [
        "# Optional Return Values"
      ]
    },
    {
      "cell_type": "code",
      "metadata": {
        "id": "H8oQf-58X2pr",
        "colab_type": "code",
        "colab": {
          "base_uri": "https://localhost:8080/",
          "height": 34
        },
        "outputId": "c19ac39a-900e-4d68-aa7b-f9e75a7ba8f0"
      },
      "source": [
        "func minMax(array: [Int]) -> (min: Int, max: Int)?{\n",
        "  if array.isEmpty{\n",
        "    return nil\n",
        "  }\n",
        "  var min = array[0]\n",
        "  var max = array[0]\n",
        "  for el in array{\n",
        "    if el > max{\n",
        "      max = el\n",
        "    }\n",
        "    if el < min{\n",
        "      min = el\n",
        "    }\n",
        "  }\n",
        "  \n",
        "  return (min, max)\n",
        "}\n",
        "\n",
        "let myarray = [8,9,3,4,7,2,3,9,7,4]\n",
        "let myemptyarray = [Int]()\n",
        "if let output = minMax(array: myemptyarray){\n",
        "  print(output.min, output.max)\n",
        "} else{\n",
        "  print(\"Array is empty.\")\n",
        "}"
      ],
      "execution_count": 14,
      "outputs": [
        {
          "output_type": "stream",
          "text": [
            "Array is empty.\r\n"
          ],
          "name": "stdout"
        }
      ]
    },
    {
      "cell_type": "markdown",
      "metadata": {
        "id": "2kkvrdNrYaz3",
        "colab_type": "text"
      },
      "source": [
        "# Function with Implicit Return\n",
        "\n",
        "This works only if the body of the function is only one single statement. You do not need to put the `return` statement explicityly."
      ]
    },
    {
      "cell_type": "code",
      "metadata": {
        "id": "RYmjhQFeYisS",
        "colab_type": "code",
        "colab": {
          "base_uri": "https://localhost:8080/",
          "height": 34
        },
        "outputId": "532e2fad-b3ae-42a3-f0d3-107fb86dea44"
      },
      "source": [
        "func sayHello(name: String) -> String{\n",
        "  \"Hello \\(name)\" // Note there is no return statement\n",
        "}\n",
        "\n",
        "print(sayHello(name: \"John\"))"
      ],
      "execution_count": 15,
      "outputs": [
        {
          "output_type": "stream",
          "text": [
            "Hello John\r\n"
          ],
          "name": "stdout"
        }
      ]
    },
    {
      "cell_type": "markdown",
      "metadata": {
        "id": "HPofRcRpZB1z",
        "colab_type": "text"
      },
      "source": [
        "# Argument Labels and Parameters Name\n",
        "\n",
        "Swift can have different name for the parameters during call and the one to be used inside the function.\n",
        "\n",
        "```\n",
        "func someFunction(argumentLabel parameterName: Int) {\n",
        "    // In the function body, parameterName refers to the argument value\n",
        "    // for that parameter.\n",
        "}\n",
        "```"
      ]
    },
    {
      "cell_type": "code",
      "metadata": {
        "id": "Ctypd8mJZN90",
        "colab_type": "code",
        "colab": {
          "base_uri": "https://localhost:8080/",
          "height": 34
        },
        "outputId": "92111cdc-d094-4b8c-9f4a-4c60d06feb0a"
      },
      "source": [
        "func sayHello(to name: String) -> String{\n",
        "  \"Hello \\(name)\" // Note there is no return statement\n",
        "}\n",
        "\n",
        "print(sayHello(to: \"John\"))"
      ],
      "execution_count": 16,
      "outputs": [
        {
          "output_type": "stream",
          "text": [
            "Hello John\r\n"
          ],
          "name": "stdout"
        }
      ]
    },
    {
      "cell_type": "markdown",
      "metadata": {
        "id": "DuSd4fB5ZUv6",
        "colab_type": "text"
      },
      "source": [
        "Note that the argument has two names:\n",
        "\n",
        "* `to`: refers to the argumentLabel, which is used during function call\n",
        "* `name`: refers to the parameterName, which is used inside the function body\n",
        "\n",
        "If you don't want the argument label, use the underscore to indicate that as shown below."
      ]
    },
    {
      "cell_type": "code",
      "metadata": {
        "id": "WldGCGz9Zmb8",
        "colab_type": "code",
        "colab": {
          "base_uri": "https://localhost:8080/",
          "height": 34
        },
        "outputId": "23b25b38-3e8a-4a95-ade3-c36eb7985e47"
      },
      "source": [
        "func sayHello(_ name: String) -> String{\n",
        "  \"Hello \\(name)\" \n",
        "}\n",
        "\n",
        "print(sayHello(\"John\"))"
      ],
      "execution_count": 17,
      "outputs": [
        {
          "output_type": "stream",
          "text": [
            "Hello John\r\n"
          ],
          "name": "stdout"
        }
      ]
    },
    {
      "cell_type": "markdown",
      "metadata": {
        "id": "TiQMK6S3ZxhC",
        "colab_type": "text"
      },
      "source": [
        "Note: Function call argument does not require to specify any argument label."
      ]
    },
    {
      "cell_type": "markdown",
      "metadata": {
        "id": "gA9sck5rZ_vF",
        "colab_type": "text"
      },
      "source": [
        "# Default Parameter Values"
      ]
    },
    {
      "cell_type": "code",
      "metadata": {
        "id": "xmWmxQ8RaC_X",
        "colab_type": "code",
        "colab": {
          "base_uri": "https://localhost:8080/",
          "height": 51
        },
        "outputId": "c040285b-0169-462d-9d6b-8de477fd5738"
      },
      "source": [
        "func sayHello(name: String = \"Anonymous\") -> String{\n",
        "  return \"Hello \\(name)\" \n",
        "}\n",
        "\n",
        "print(sayHello(name: \"John\"))\n",
        "print(sayHello())"
      ],
      "execution_count": 19,
      "outputs": [
        {
          "output_type": "stream",
          "text": [
            "Hello John\r\n",
            "Hello Anonymous\r\n"
          ],
          "name": "stdout"
        }
      ]
    },
    {
      "cell_type": "markdown",
      "metadata": {
        "id": "pO38n8-HcLxG",
        "colab_type": "text"
      },
      "source": [
        "# Variadic Parameters\n",
        "\n",
        "You can specify if a parameter can have 0 or more using `...` after the parameter definition."
      ]
    },
    {
      "cell_type": "code",
      "metadata": {
        "id": "FdlFPlK-cVG5",
        "colab_type": "code",
        "colab": {
          "base_uri": "https://localhost:8080/",
          "height": 34
        },
        "outputId": "4db42f64-474d-4ffe-c638-3f08d8d512c1"
      },
      "source": [
        "func concatStr(_ str: String...) -> String{\n",
        "  var result = \"\"\n",
        "  for eachStr in str{\n",
        "    result += eachStr\n",
        "  }\n",
        "  return result\n",
        "}\n",
        "\n",
        "print(concatStr(\"hello\", \" \", \"John\"))"
      ],
      "execution_count": 22,
      "outputs": [
        {
          "output_type": "stream",
          "text": [
            "hello John\r\n"
          ],
          "name": "stdout"
        }
      ]
    },
    {
      "cell_type": "markdown",
      "metadata": {
        "id": "V1MzGnr1dT9s",
        "colab_type": "text"
      },
      "source": [
        "# In-Out Parameters\n",
        "\n",
        "Parameters values cannot be changed inside the function body. If you wish to change the value and let the value to persist after the function call, you can use `inout` keyword to define it."
      ]
    },
    {
      "cell_type": "code",
      "metadata": {
        "id": "BU5Zl_FTdf6f",
        "colab_type": "code",
        "colab": {
          "base_uri": "https://localhost:8080/",
          "height": 34
        },
        "outputId": "036d64cf-52da-45e1-991e-6fecc35016e7"
      },
      "source": [
        "func swapInt(_ a: inout Int, _ b: inout Int){\n",
        "  (b, a) = (a, b)\n",
        "}\n",
        "\n",
        "var a = 3\n",
        "var b = 4\n",
        "swapInt(&a, &b)\n",
        "print(\"a = \\(a), b = \\(b)\")"
      ],
      "execution_count": 1,
      "outputs": [
        {
          "output_type": "stream",
          "text": [
            "a = 4, b = 3\r\n"
          ],
          "name": "stdout"
        }
      ]
    },
    {
      "cell_type": "markdown",
      "metadata": {
        "id": "Bq9k9v36eBM8",
        "colab_type": "text"
      },
      "source": [
        "Note:\n",
        "\n",
        "* We put the keyword `inout` before the data type in the function header.\n",
        "* You must pass in a *variable* to variadic parameters. Constant or literal will give a compile error.\n",
        "* You use `&` to indicate that the value of `a` and `b` will be modified inside the function."
      ]
    },
    {
      "cell_type": "markdown",
      "metadata": {
        "id": "RrpG566Bfo9i",
        "colab_type": "text"
      },
      "source": [
        "# Name Pointing to Function\n",
        "\n",
        "You can use function type to define a name that is assigned to a function."
      ]
    },
    {
      "cell_type": "code",
      "metadata": {
        "id": "OWl3g_HdfxCc",
        "colab_type": "code",
        "colab": {
          "base_uri": "https://localhost:8080/",
          "height": 34
        },
        "outputId": "a8c5cfc9-77b4-4692-9624-956edd667ce7"
      },
      "source": [
        "let swapTwoInt: (inout Int, inout Int) -> Void = swapInt\n",
        "\n",
        "var a = 7\n",
        "var b = 11\n",
        "swapTwoInt(&a, &b)\n",
        "print(\"a = \\(a), b = \\(b)\")"
      ],
      "execution_count": 29,
      "outputs": [
        {
          "output_type": "stream",
          "text": [
            "a = 11, b = 7\r\n"
          ],
          "name": "stdout"
        }
      ]
    },
    {
      "cell_type": "markdown",
      "metadata": {
        "id": "ERx3gLoegMmX",
        "colab_type": "text"
      },
      "source": [
        "You can use function type also as parameter type. This means you can pass on function into another function as an argument."
      ]
    },
    {
      "cell_type": "code",
      "metadata": {
        "id": "dexzkQIQgSnB",
        "colab_type": "code",
        "colab": {
          "base_uri": "https://localhost:8080/",
          "height": 68
        },
        "outputId": "ba6b280c-2df9-499f-e68d-dff04a8263f5"
      },
      "source": [
        "func logit(funcName: (inout Int, inout Int) -> Void, a: inout Int, b: inout Int, message: String){\n",
        "  print(message)\n",
        "  print(\"Old values of args: \\(a), \\(b)\")\n",
        "  funcName(&a, &b)\n",
        "  \n",
        "  print(\"new values of args: \\(a), \\(b)\")\n",
        "}\n",
        "\n",
        "var a = 1\n",
        "var b = 10\n",
        "logit(funcName: swapInt, a:&a , b: &b, message: \"This is swapping two integers\")"
      ],
      "execution_count": 6,
      "outputs": [
        {
          "output_type": "stream",
          "text": [
            "This is swapping two integers\r\n",
            "Old values of args: 1, 10\r\n",
            "new values of args: 10, 1\r\n"
          ],
          "name": "stdout"
        }
      ]
    },
    {
      "cell_type": "markdown",
      "metadata": {
        "id": "a9GzJ_9mi6N3",
        "colab_type": "text"
      },
      "source": [
        "You can also use function type as return type of a function. This means your function can return another function."
      ]
    },
    {
      "cell_type": "code",
      "metadata": {
        "id": "Lqe4-lBSjA0j",
        "colab_type": "code",
        "colab": {
          "base_uri": "https://localhost:8080/",
          "height": 34
        },
        "outputId": "7b50ea1a-ef30-4974-a3f6-17ec15eac1ba"
      },
      "source": [
        "func moveLeft(x: inout Int, y: inout Int){\n",
        "  x -= 1\n",
        "}\n",
        "\n",
        "func moveRight(x: inout Int, y: inout Int){\n",
        "  x += 1\n",
        "}\n",
        "\n",
        "func move(direction: String) -> (inout Int, inout Int) -> Void{\n",
        "  if direction == \"left\"{\n",
        "    return moveLeft\n",
        "  } else{\n",
        "    return moveRight\n",
        "  }\n",
        "}\n",
        "\n",
        "var x = 10\n",
        "var y = 10\n",
        "move(direction:\"left\")(&x, &y)\n",
        "print(\"x = \\(x), y = \\(y)\")"
      ],
      "execution_count": 10,
      "outputs": [
        {
          "output_type": "stream",
          "text": [
            "x = 9, y = 10\r\n"
          ],
          "name": "stdout"
        }
      ]
    }
  ]
}