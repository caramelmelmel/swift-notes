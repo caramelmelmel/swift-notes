{
  "nbformat": 4,
  "nbformat_minor": 0,
  "metadata": {
    "colab": {
      "name": "Basics_Swift.ipynb",
      "version": "0.3.2",
      "provenance": [],
      "collapsed_sections": [],
      "include_colab_link": true
    },
    "kernelspec": {
      "name": "swift",
      "display_name": "Swift"
    }
  },
  "cells": [
    {
      "cell_type": "markdown",
      "metadata": {
        "id": "view-in-github",
        "colab_type": "text"
      },
      "source": [
        "<a href=\"https://colab.research.google.com/github/kurniawano/swift-notes/blob/master/Basics_Swift.ipynb\" target=\"_parent\"><img src=\"https://colab.research.google.com/assets/colab-badge.svg\" alt=\"Open In Colab\"/></a>"
      ]
    },
    {
      "cell_type": "markdown",
      "metadata": {
        "id": "-rZ80OmH2G_6",
        "colab_type": "text"
      },
      "source": [
        "# Constants\n",
        "\n",
        "Use `let` keyword to create a constant. \n",
        "The line that starts with `//` is a comment and will not be executed.\n",
        "To see the error of changing the value of a constant, edit the code below by removing the comment `name = \"John\"`. You should change it to:\n",
        "```\n",
        "let name = \"James\"\n",
        "let age = 42\n",
        "print(name)\n",
        "print(age)\n",
        "name = \"John\"\n",
        "```"
      ]
    },
    {
      "cell_type": "code",
      "metadata": {
        "id": "kZRlD4utdPuX",
        "colab_type": "code",
        "outputId": "a6120058-9382-4334-d4a2-02ee056cf1ff",
        "colab": {
          "base_uri": "https://localhost:8080/",
          "height": 51
        }
      },
      "source": [
        "// constant\n",
        "let name = \"James\"\n",
        "let age = 42\n",
        "print(name)\n",
        "print(age)\n",
        "//name = \"John\""
      ],
      "execution_count": 0,
      "outputs": [
        {
          "output_type": "stream",
          "text": [
            "James\r\n",
            "42\r\n"
          ],
          "name": "stdout"
        }
      ]
    },
    {
      "cell_type": "markdown",
      "metadata": {
        "id": "_Jm4owx62Ctp",
        "colab_type": "text"
      },
      "source": [
        "# Variables\n",
        "\n",
        "use `var` keyword to create a variable. Notice that no error is produced when changing the value of `name`. \n",
        "\n",
        "You don't have to define the type if you initialize to a particular value because the compiler can infer the type. But if you don't provide the value, you have to specify the type."
      ]
    },
    {
      "cell_type": "code",
      "metadata": {
        "id": "yjW5zJBj2RiJ",
        "colab_type": "code",
        "outputId": "c9be702b-5608-459d-d6e6-712bd3a54d22",
        "colab": {
          "base_uri": "https://localhost:8080/",
          "height": 51
        }
      },
      "source": [
        "var name = \"James\"\n",
        "print(name)\n",
        "name = \"John\"\n",
        "print(name)"
      ],
      "execution_count": 0,
      "outputs": [
        {
          "output_type": "stream",
          "text": [
            "James\r\n",
            "John\r\n"
          ],
          "name": "stdout"
        }
      ]
    },
    {
      "cell_type": "code",
      "metadata": {
        "id": "aHOMF2Yn32Q7",
        "colab_type": "code",
        "outputId": "4be64b0d-54d8-46d5-cc66-ed71920c1d65",
        "colab": {
          "base_uri": "https://localhost:8080/",
          "height": 130
        }
      },
      "source": [
        "var name"
      ],
      "execution_count": 0,
      "outputs": [
        {
          "output_type": "error",
          "ename": "",
          "evalue": "ignored",
          "traceback": [
            "error: <Cell 2>:1:5: error: type annotation missing in pattern\nvar name\n    ^\n\n"
          ]
        }
      ]
    },
    {
      "cell_type": "code",
      "metadata": {
        "id": "EpdGpsmb4HFB",
        "colab_type": "code",
        "outputId": "483a0530-b458-42eb-f891-4edadedde33a",
        "colab": {
          "base_uri": "https://localhost:8080/",
          "height": 34
        }
      },
      "source": [
        "var name: String\n",
        "name = \"John\"\n",
        "print(name)"
      ],
      "execution_count": 0,
      "outputs": [
        {
          "output_type": "stream",
          "text": [
            "John\r\n"
          ],
          "name": "stdout"
        }
      ]
    },
    {
      "cell_type": "code",
      "metadata": {
        "id": "H7jGQwtF42xZ",
        "colab_type": "code",
        "outputId": "366fe59d-3e47-48f8-e0fe-bbdaa33bc670",
        "colab": {
          "base_uri": "https://localhost:8080/",
          "height": 68
        }
      },
      "source": [
        "var name, address: String\n",
        "var age: Int\n",
        "name = \"John\"\n",
        "address = \"Punggol\"\n",
        "age = 42\n",
        "print(name)\n",
        "print(address)\n",
        "print(age)"
      ],
      "execution_count": 0,
      "outputs": [
        {
          "output_type": "stream",
          "text": [
            "John\r\n",
            "Punggol\r\n",
            "42\r\n"
          ],
          "name": "stdout"
        }
      ]
    },
    {
      "cell_type": "markdown",
      "metadata": {
        "id": "yKaxBEkR5UhA",
        "colab_type": "text"
      },
      "source": [
        "# Printing \n",
        "\n",
        "You can use the `print()` function to display the value of a variable or a constant.\n",
        "```\n",
        "print(_:separator:terminator:) function\n",
        "```\n"
      ]
    },
    {
      "cell_type": "code",
      "metadata": {
        "id": "DpYINXYz5Wgv",
        "colab_type": "code",
        "outputId": "8e6e0b59-d22a-4823-bbf1-50cc4d37d6aa",
        "colab": {
          "base_uri": "https://localhost:8080/",
          "height": 34
        }
      },
      "source": [
        "print(name,terminator:\" \")\n",
        "print(age)"
      ],
      "execution_count": 0,
      "outputs": [
        {
          "output_type": "stream",
          "text": [
            "John 76\r\n"
          ],
          "name": "stdout"
        }
      ]
    },
    {
      "cell_type": "markdown",
      "metadata": {
        "id": "y5Rj1bZ9_wOA",
        "colab_type": "text"
      },
      "source": [
        "To print a value with some string, you can use String Interpolation. "
      ]
    },
    {
      "cell_type": "code",
      "metadata": {
        "id": "glUbpxSV_3gU",
        "colab_type": "code",
        "outputId": "d40e9594-55f1-49a0-969f-c1dc10f2a025",
        "colab": {
          "base_uri": "https://localhost:8080/",
          "height": 34
        }
      },
      "source": [
        "print(\"Your name is \\(name) and your age is \\(age).\")"
      ],
      "execution_count": 0,
      "outputs": [
        {
          "output_type": "stream",
          "text": [
            "Your name is John and your age is 42.\r\n"
          ],
          "name": "stdout"
        }
      ]
    },
    {
      "cell_type": "markdown",
      "metadata": {
        "id": "l7lXcgsTAIqu",
        "colab_type": "text"
      },
      "source": [
        "# Comments and Semicolons\n",
        "\n",
        "You create comments using // or /* and */ . \n",
        "\n",
        "You can write multiple statements in one line using semicolons."
      ]
    },
    {
      "cell_type": "code",
      "metadata": {
        "id": "O267_TlfAWDm",
        "colab_type": "code",
        "outputId": "eec82a9b-e313-4c42-8ad3-1b43134ae6a9",
        "colab": {
          "base_uri": "https://localhost:8080/",
          "height": 34
        }
      },
      "source": [
        "// This will not be executed\n",
        "/* nor this one\n",
        "and this one till the last line\n",
        "*/\n",
        "\n",
        "// Use semicolon to separate multiple statements in one line\n",
        "print(name, terminator:\" \"); print(age)"
      ],
      "execution_count": 0,
      "outputs": [
        {
          "output_type": "stream",
          "text": [
            "John 42\r\n"
          ],
          "name": "stdout"
        }
      ]
    },
    {
      "cell_type": "markdown",
      "metadata": {
        "id": "A1CLX-1AB_HH",
        "colab_type": "text"
      },
      "source": [
        "# Basic Data Types"
      ]
    },
    {
      "cell_type": "markdown",
      "metadata": {
        "id": "Jabc42zFCDif",
        "colab_type": "text"
      },
      "source": [
        "## Integer"
      ]
    },
    {
      "cell_type": "code",
      "metadata": {
        "id": "BoESosICCGWB",
        "colab_type": "code",
        "outputId": "9e5bc1e4-5638-4d0c-935c-18340507b372",
        "colab": {
          "base_uri": "https://localhost:8080/",
          "height": 51
        }
      },
      "source": [
        "print(\"On 64-bit machine, the minimum integer is \\(Int.min)\")\n",
        "print(\"and the maximum integer is \\(Int.max).\")\n"
      ],
      "execution_count": 0,
      "outputs": [
        {
          "output_type": "stream",
          "text": [
            "On 64-bit machine, the minimum integer is -9223372036854775808\r\n",
            "and the maximum integer is 9223372036854775807.\r\n"
          ],
          "name": "stdout"
        }
      ]
    },
    {
      "cell_type": "code",
      "metadata": {
        "id": "NhJ0Lm-TCchq",
        "colab_type": "code",
        "outputId": "ab477c1a-feb3-4b0c-efea-b377fd862917",
        "colab": {
          "base_uri": "https://localhost:8080/",
          "height": 102
        }
      },
      "source": [
        "var age:Int\n",
        "age = 23\n",
        "print(age)\n",
        "var age2: Int8\n",
        "age = 52\n",
        "print(age)\n",
        "var age3: Int16\n",
        "age = 45\n",
        "print(age)\n",
        "var age4: Int32\n",
        "age = 32\n",
        "print(age)\n",
        "var age5: Int64\n",
        "age = 76\n",
        "print(age)"
      ],
      "execution_count": 0,
      "outputs": [
        {
          "output_type": "stream",
          "text": [
            "23\r\n",
            "52\r\n",
            "45\r\n",
            "32\r\n",
            "76\r\n"
          ],
          "name": "stdout"
        }
      ]
    },
    {
      "cell_type": "code",
      "metadata": {
        "id": "rlX7lFEfGzVe",
        "colab_type": "code",
        "outputId": "31d17d2f-2860-421b-f80f-819aa6e8bb2b",
        "colab": {
          "base_uri": "https://localhost:8080/",
          "height": 85
        }
      },
      "source": [
        "// Decimal Integer\n",
        "let decimalInteger = 17\n",
        "\n",
        "// Binary Integer\n",
        "let binaryInteger = 0b1010\n",
        "\n",
        "// Octal Integer\n",
        "let octalInteger = 0o703\n",
        "\n",
        "// Hexadecimal Integer\n",
        "let hexInteger = 0x4A\n",
        "\n",
        "print(decimalInteger)\n",
        "print(binaryInteger)\n",
        "print(octalInteger)\n",
        "print(hexInteger)"
      ],
      "execution_count": 0,
      "outputs": [
        {
          "output_type": "stream",
          "text": [
            "17\r\n",
            "10\r\n",
            "451\r\n",
            "74\r\n"
          ],
          "name": "stdout"
        }
      ]
    },
    {
      "cell_type": "markdown",
      "metadata": {
        "id": "tMz-QQoPC3DY",
        "colab_type": "text"
      },
      "source": [
        "## Floating-Point Numbers\n",
        "\n",
        "Swift provides two floating-point numbers:\n",
        "\n",
        "- Double for 64-bit floating-point number\n",
        "- Float for 32-bit floating-point number\n"
      ]
    },
    {
      "cell_type": "code",
      "metadata": {
        "id": "xzD6EVpZDHCQ",
        "colab_type": "code",
        "outputId": "f8cb83d6-3f1e-4721-dc1b-fb9cb5087895",
        "colab": {
          "base_uri": "https://localhost:8080/",
          "height": 51
        }
      },
      "source": [
        "var value:Float\n",
        "value = 1e-30\n",
        "print(value)\n",
        "\n",
        "var data:Double\n",
        "data = 1.2323232323e-50\n",
        "print(data)"
      ],
      "execution_count": 0,
      "outputs": [
        {
          "output_type": "stream",
          "text": [
            "1e-30\r\n",
            "1.2323232323e-50\r\n"
          ],
          "name": "stdout"
        }
      ]
    },
    {
      "cell_type": "code",
      "metadata": {
        "id": "hGUELiI3Hcor",
        "colab_type": "code",
        "outputId": "db06f053-ace3-4372-dece-58aec2729652",
        "colab": {
          "base_uri": "https://localhost:8080/",
          "height": 68
        }
      },
      "source": [
        "// Decimal Float literal\n",
        "let decimalFloat = 3.14\n",
        "\n",
        "// Exponent Float\n",
        "let exponentFloat = 0.314e+1\n",
        "\n",
        "// Hexadecimal Float\n",
        "let hexFloat = 0x43p2\n",
        "\n",
        "print(decimalFloat)\n",
        "print(exponentFloat)\n",
        "print(hexFloat)\n",
        "\n"
      ],
      "execution_count": 0,
      "outputs": [
        {
          "output_type": "stream",
          "text": [
            "3.14\r\n",
            "3.14\r\n",
            "268.0\r\n"
          ],
          "name": "stdout"
        }
      ]
    },
    {
      "cell_type": "markdown",
      "metadata": {
        "id": "1lGDNy6FIfcd",
        "colab_type": "text"
      },
      "source": [
        "For hexadecimal numbers with an exponent of exp, the base number is multiplied by 2^exp:"
      ]
    },
    {
      "cell_type": "code",
      "metadata": {
        "id": "OXe8xCiiInsb",
        "colab_type": "code",
        "outputId": "8c6fa3e6-a5c8-4365-f94b-c9a04d5fc524",
        "colab": {
          "base_uri": "https://localhost:8080/",
          "height": 34
        }
      },
      "source": [
        "// 0x43p2 means\n",
        "(16*4+3)*4"
      ],
      "execution_count": 0,
      "outputs": [
        {
          "output_type": "execute_result",
          "data": {
            "text/plain": [
              "268\n"
            ]
          },
          "metadata": {
            "tags": []
          },
          "execution_count": 37
        }
      ]
    },
    {
      "cell_type": "markdown",
      "metadata": {
        "id": "xV-gBWVyN7lL",
        "colab_type": "text"
      },
      "source": [
        "# Data Type Conversion"
      ]
    },
    {
      "cell_type": "code",
      "metadata": {
        "id": "YrQVGh8VODos",
        "colab_type": "code",
        "outputId": "6456ab89-4b34-4f61-8e9a-ea794443afb3",
        "colab": {
          "base_uri": "https://localhost:8080/",
          "height": 68
        }
      },
      "source": [
        "let age = 42\n",
        "let ageFloat:Float = Float(age)\n",
        "let ageInt:Int = Int(ageFloat)\n",
        "print(age)\n",
        "print(ageFloat)\n",
        "print(ageInt)"
      ],
      "execution_count": 0,
      "outputs": [
        {
          "output_type": "stream",
          "text": [
            "42\r\n",
            "42.0\r\n",
            "42\r\n"
          ],
          "name": "stdout"
        }
      ]
    },
    {
      "cell_type": "code",
      "metadata": {
        "id": "awzu0vLOO46h",
        "colab_type": "code",
        "outputId": "0f32abe2-3250-40fd-e8ce-8ed167c87cba",
        "colab": {
          "base_uri": "https://localhost:8080/",
          "height": 68
        }
      },
      "source": [
        "print(age is Int)\n",
        "print(type(of: ageFloat))\n",
        "print(type(of: ageInt))"
      ],
      "execution_count": 0,
      "outputs": [
        {
          "output_type": "stream",
          "text": [
            "true\r\n",
            "Float\r\n",
            "Int\r\n"
          ],
          "name": "stdout"
        }
      ]
    },
    {
      "cell_type": "markdown",
      "metadata": {
        "id": "a__twX0My_pR",
        "colab_type": "text"
      },
      "source": [
        "# Optionals\n",
        "\n",
        "You use optionals in situations where a value may be absent. An optional represents two possibilities: Either there is a value, and you can unwrap the optional to access that value, or there isn’t a value at all."
      ]
    },
    {
      "cell_type": "code",
      "metadata": {
        "id": "_NL6FOZNzFrv",
        "colab_type": "code",
        "outputId": "139966bc-e0bd-423e-f7bf-f1432f45fdb7",
        "colab": {
          "base_uri": "https://localhost:8080/",
          "height": 51
        }
      },
      "source": [
        "let possibleNumber = \"123\"\n",
        "let number = Int(possibleNumber)\n",
        "print(number)\n",
        "print(type(of:number))"
      ],
      "execution_count": 0,
      "outputs": [
        {
          "output_type": "stream",
          "text": [
            "Optional(123)\r\n",
            "Optional<Int>\r\n"
          ],
          "name": "stdout"
        }
      ]
    },
    {
      "cell_type": "code",
      "metadata": {
        "id": "XtNCEmjWzcgk",
        "colab_type": "code",
        "outputId": "0820d9ea-df13-4f03-c505-2cb89d5f3be0",
        "colab": {
          "base_uri": "https://localhost:8080/",
          "height": 51
        }
      },
      "source": [
        "var error: Int? \n",
        "print(error)\n",
        "error = 404\n",
        "print(error)"
      ],
      "execution_count": 0,
      "outputs": [
        {
          "output_type": "stream",
          "text": [
            "nil\r\n",
            "Optional(404)\r\n"
          ],
          "name": "stdout"
        }
      ]
    },
    {
      "cell_type": "markdown",
      "metadata": {
        "id": "8cQsagM1UCBq",
        "colab_type": "text"
      },
      "source": [
        "# Conditional"
      ]
    },
    {
      "cell_type": "markdown",
      "metadata": {
        "id": "uCTjOaGNUGBX",
        "colab_type": "text"
      },
      "source": [
        "## Boolean Data Type"
      ]
    },
    {
      "cell_type": "code",
      "metadata": {
        "id": "1zr252ApUIC4",
        "colab_type": "code",
        "outputId": "82653968-c602-409d-a146-d15b98527426",
        "colab": {
          "base_uri": "https://localhost:8080/",
          "height": 85
        }
      },
      "source": [
        "let young = true\n",
        "let old = false\n",
        "print(young)\n",
        "print(old)\n",
        "print(type(of:young))\n",
        "print(young is Bool)"
      ],
      "execution_count": 0,
      "outputs": [
        {
          "output_type": "stream",
          "text": [
            "true\r\n",
            "false\r\n",
            "Bool\r\n",
            "true\r\n"
          ],
          "name": "stdout"
        }
      ]
    },
    {
      "cell_type": "markdown",
      "metadata": {
        "id": "OfLPiwnzUqTF",
        "colab_type": "text"
      },
      "source": [
        "## If-Else Statement"
      ]
    },
    {
      "cell_type": "code",
      "metadata": {
        "id": "KFVGsD8lUsXP",
        "colab_type": "code",
        "outputId": "ee91df89-f6a0-4556-d1d2-5be222726d45",
        "colab": {
          "base_uri": "https://localhost:8080/",
          "height": 34
        }
      },
      "source": [
        "if young{\n",
        "  print(\"you are young\")\n",
        "} else{\n",
        "  print(\"you are not young\")\n",
        "}"
      ],
      "execution_count": 0,
      "outputs": [
        {
          "output_type": "stream",
          "text": [
            "you are young\r\n"
          ],
          "name": "stdout"
        }
      ]
    },
    {
      "cell_type": "code",
      "metadata": {
        "id": "9dsxV9xvU0DJ",
        "colab_type": "code",
        "outputId": "736e7f6e-dfc0-4cbc-f3cd-1fdd6a5f86f4",
        "colab": {
          "base_uri": "https://localhost:8080/",
          "height": 34
        }
      },
      "source": [
        "if old{\n",
        "  print(\"you are old\")\n",
        "} else{\n",
        "  print(\"you are not old\")\n",
        "}"
      ],
      "execution_count": 0,
      "outputs": [
        {
          "output_type": "stream",
          "text": [
            "you are not old\r\n"
          ],
          "name": "stdout"
        }
      ]
    },
    {
      "cell_type": "code",
      "metadata": {
        "id": "Q5WlgsTTVFtA",
        "colab_type": "code",
        "outputId": "96817001-260f-4949-e15c-fb3ef0b31793",
        "colab": {
          "base_uri": "https://localhost:8080/",
          "height": 34
        }
      },
      "source": [
        "let score = 87\n",
        "\n",
        "if score >= 90 {\n",
        "  print(\"A\")\n",
        "} else if score >= 80{\n",
        "  print(\"B\")\n",
        "} else if score >= 70{\n",
        "  print(\"C\")\n",
        "} else if score >= 60{\n",
        "  print(\"D\")\n",
        "} else{\n",
        "  print(\"F\")\n",
        "}"
      ],
      "execution_count": 0,
      "outputs": [
        {
          "output_type": "stream",
          "text": [
            "B\r\n"
          ],
          "name": "stdout"
        }
      ]
    },
    {
      "cell_type": "markdown",
      "metadata": {
        "id": "Tr2Rgi72Vj4U",
        "colab_type": "text"
      },
      "source": [
        "## Comparison Operator"
      ]
    },
    {
      "cell_type": "code",
      "metadata": {
        "id": "MgUw4eCeVlP2",
        "colab_type": "code",
        "outputId": "40311ff1-0bd3-46e4-9253-d83a9a82b1d5",
        "colab": {
          "base_uri": "https://localhost:8080/",
          "height": 119
        }
      },
      "source": [
        "print(score == 90)\n",
        "print(score > 90)\n",
        "print(score >= 90)\n",
        "print(score <= 90)\n",
        "print(score < 90)\n",
        "print(score != 90)"
      ],
      "execution_count": 0,
      "outputs": [
        {
          "output_type": "stream",
          "text": [
            "false\r\n",
            "false\r\n",
            "false\r\n",
            "true\r\n",
            "true\r\n",
            "true\r\n"
          ],
          "name": "stdout"
        }
      ]
    },
    {
      "cell_type": "markdown",
      "metadata": {
        "id": "p8NLAiLNV9_M",
        "colab_type": "text"
      },
      "source": [
        "## Logical Operator"
      ]
    },
    {
      "cell_type": "code",
      "metadata": {
        "id": "BbPMP-jYV_VR",
        "colab_type": "code",
        "outputId": "6bc07724-75c5-4a0b-f6f0-eb1cca722434",
        "colab": {
          "base_uri": "https://localhost:8080/",
          "height": 68
        }
      },
      "source": [
        "print(!young)\n",
        "print(young && old)\n",
        "print(young || old)"
      ],
      "execution_count": 0,
      "outputs": [
        {
          "output_type": "stream",
          "text": [
            "false\r\n",
            "false\r\n",
            "true\r\n"
          ],
          "name": "stdout"
        }
      ]
    },
    {
      "cell_type": "markdown",
      "metadata": {
        "id": "NYwCZhHyzwBv",
        "colab_type": "text"
      },
      "source": [
        "## Checking Optionals"
      ]
    },
    {
      "cell_type": "markdown",
      "metadata": {
        "id": "QP3uxkFm34go",
        "colab_type": "text"
      },
      "source": [
        "You can unwrap the value of the optional using exclamation mark."
      ]
    },
    {
      "cell_type": "code",
      "metadata": {
        "id": "DXp0j5swzyI8",
        "colab_type": "code",
        "outputId": "99cdefac-fd94-4e39-94c2-4fa398d865a9",
        "colab": {
          "base_uri": "https://localhost:8080/",
          "height": 51
        }
      },
      "source": [
        "var error: Int?\n",
        "if error == nil{\n",
        "  print(\"Error is nil.\")\n",
        "} else{\n",
        "  print(\"Error code is: \\(error)\")\n",
        "}\n",
        "\n",
        "error = 404\n",
        "\n",
        "if error == nil{\n",
        "  print(\"Error is nil.\")\n",
        "} else{\n",
        "  print(\"Error code is: \\(error), \\(error!)\")\n",
        "}\n"
      ],
      "execution_count": 0,
      "outputs": [
        {
          "output_type": "stream",
          "text": [
            "Error is nil.\r\n",
            "Error code is: Optional(404), 404\r\n"
          ],
          "name": "stdout"
        }
      ]
    },
    {
      "cell_type": "markdown",
      "metadata": {
        "id": "2uw69_D-2a8i",
        "colab_type": "text"
      },
      "source": [
        "You can use optional binding by assigning the optional to a temporary constant *if it has a value*. You don't need to use * since the value is unwrapped if the optional has a value."
      ]
    },
    {
      "cell_type": "code",
      "metadata": {
        "id": "RXzZZ40c2kH9",
        "colab_type": "code",
        "outputId": "f125652a-8b24-4643-d4cd-5023b47d746d",
        "colab": {
          "base_uri": "https://localhost:8080/",
          "height": 34
        }
      },
      "source": [
        "var error: Int?\n",
        "if let errorCode = error{\n",
        "  print(errorCode)\n",
        "} else{\n",
        "  print(\"no value.\")\n",
        "}"
      ],
      "execution_count": 0,
      "outputs": [
        {
          "output_type": "stream",
          "text": [
            "no value.\r\n"
          ],
          "name": "stdout"
        }
      ]
    },
    {
      "cell_type": "code",
      "metadata": {
        "id": "tF_xQJ3a2wcz",
        "colab_type": "code",
        "outputId": "2ea9fc95-ec3b-487d-ba7f-3ecb7d0f9763",
        "colab": {
          "base_uri": "https://localhost:8080/",
          "height": 34
        }
      },
      "source": [
        "var error: Int? = 404\n",
        "if let errorCode = error{\n",
        "  print(errorCode)\n",
        "} else{\n",
        "  print(\"no value.\")\n",
        "}"
      ],
      "execution_count": 0,
      "outputs": [
        {
          "output_type": "stream",
          "text": [
            "404\r\n"
          ],
          "name": "stdout"
        }
      ]
    },
    {
      "cell_type": "code",
      "metadata": {
        "id": "HN2gh5uo24wZ",
        "colab_type": "code",
        "outputId": "548089ef-5973-4e64-ce16-c2ff4599707c",
        "colab": {
          "base_uri": "https://localhost:8080/",
          "height": 51
        }
      },
      "source": [
        "if let number = Int(\"123\"){\n",
        "  print(number)\n",
        "} else{\n",
        "  print(\"error in converting a string\")\n",
        "}\n",
        "\n",
        "if let number = Int(\"hello\"){\n",
        "  print(number)\n",
        "} else{\n",
        "  print(\"error in converting a string\")\n",
        "}"
      ],
      "execution_count": 0,
      "outputs": [
        {
          "output_type": "stream",
          "text": [
            "123\r\n",
            "error in converting a string\r\n"
          ],
          "name": "stdout"
        }
      ]
    },
    {
      "cell_type": "markdown",
      "metadata": {
        "id": "tBnLiBbf4ifl",
        "colab_type": "text"
      },
      "source": [
        "You can use multiple optional bindings in a single if statement."
      ]
    },
    {
      "cell_type": "code",
      "metadata": {
        "id": "1h9R37344lbL",
        "colab_type": "code",
        "outputId": "02bcb612-1c9d-46e6-848d-b1cc8694a113",
        "colab": {
          "base_uri": "https://localhost:8080/",
          "height": 34
        }
      },
      "source": [
        "if let number = Int(\"123\"), let age = Int(\"4\"){\n",
        "  print(number, age)\n",
        "} else{\n",
        "  print(\"Error\")\n",
        "}"
      ],
      "execution_count": 0,
      "outputs": [
        {
          "output_type": "stream",
          "text": [
            "123 4\r\n"
          ],
          "name": "stdout"
        }
      ]
    },
    {
      "cell_type": "code",
      "metadata": {
        "id": "erMIEtGT4xL3",
        "colab_type": "code",
        "outputId": "f4f3d39b-3cd7-4f6a-be3d-13b237b3c680",
        "colab": {
          "base_uri": "https://localhost:8080/",
          "height": 34
        }
      },
      "source": [
        "if let number = Int(\"123\"), let age = Int(\"4 years\"){\n",
        "  print(number, age)\n",
        "} else{\n",
        "  print(\"Error\")\n",
        "}"
      ],
      "execution_count": 0,
      "outputs": [
        {
          "output_type": "stream",
          "text": [
            "Error\r\n"
          ],
          "name": "stdout"
        }
      ]
    },
    {
      "cell_type": "markdown",
      "metadata": {
        "id": "dNzphr785PTS",
        "colab_type": "text"
      },
      "source": [
        "## Implicitly Unwrapped Conditionals\n",
        "\n",
        "Sometimes it’s clear from a program’s structure that an optional will always have a value, after that value is first set. In these cases, it’s useful to remove the need to check and unwrap the optional’s value every time it’s accessed, because it can be safely assumed to have a value all of the time.\n",
        "\n",
        "These kinds of optionals are defined as implicitly unwrapped optionals. You write an implicitly unwrapped optional by placing an exclamation mark (String!) rather than a question mark (String?) after the type that you want to make optional.\n",
        "\n"
      ]
    },
    {
      "cell_type": "code",
      "metadata": {
        "id": "_wbG8RTe6fvR",
        "colab_type": "code",
        "outputId": "33086825-8b7c-4860-9ce2-ae7dc2799b31",
        "colab": {
          "base_uri": "https://localhost:8080/",
          "height": 51
        }
      },
      "source": [
        "// This is an optional string\n",
        "let possibleString: String? = \"hello\"\n",
        "print(possibleString)\n",
        "print(possibleString!)"
      ],
      "execution_count": 0,
      "outputs": [
        {
          "output_type": "stream",
          "text": [
            "Optional(\"hello\")\r\n",
            "hello\r\n"
          ],
          "name": "stdout"
        }
      ]
    },
    {
      "cell_type": "code",
      "metadata": {
        "id": "qrw3SHYj6o-I",
        "colab_type": "code",
        "outputId": "522a69f3-0efe-4612-e46f-540f89931fa9",
        "colab": {
          "base_uri": "https://localhost:8080/",
          "height": 68
        }
      },
      "source": [
        "// This is an implicitly unwrapped conditional\n",
        "let assumedString: String! = \"world\"\n",
        "let implicitString: String = assumedString // no need exclamation mark when unwrapping\n",
        "print(implicitString)\n",
        "print(assumedString) // assumedString is actually an optional\n",
        "print(assumedString!)"
      ],
      "execution_count": 0,
      "outputs": [
        {
          "output_type": "stream",
          "text": [
            "world\r\n",
            "Optional(\"world\")\r\n",
            "world\r\n"
          ],
          "name": "stdout"
        }
      ]
    }
  ]
}