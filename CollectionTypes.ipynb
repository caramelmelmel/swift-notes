{
  "nbformat": 4,
  "nbformat_minor": 0,
  "metadata": {
    "colab": {
      "name": "CollectionTypes.ipynb",
      "version": "0.3.2",
      "provenance": [],
      "collapsed_sections": [],
      "include_colab_link": true
    },
    "kernelspec": {
      "name": "swift",
      "display_name": "Swift"
    }
  },
  "cells": [
    {
      "cell_type": "markdown",
      "metadata": {
        "id": "view-in-github",
        "colab_type": "text"
      },
      "source": [
        "<a href=\"https://colab.research.google.com/github/kurniawano/swift-notes/blob/master/CollectionTypes.ipynb\" target=\"_parent\"><img src=\"https://colab.research.google.com/assets/colab-badge.svg\" alt=\"Open In Colab\"/></a>"
      ]
    },
    {
      "cell_type": "markdown",
      "metadata": {
        "id": "Y1-cL9oUlwTb",
        "colab_type": "text"
      },
      "source": [
        "Swift provides three primary collection types, known as arrays, sets, and dictionaries, for storing collections of values. Arrays are ordered collections of values. Sets are unordered collections of unique values. Dictionaries are unordered collections of key-value associations.\n",
        "\n"
      ]
    },
    {
      "cell_type": "markdown",
      "metadata": {
        "id": "W4cWYmzBmH_j",
        "colab_type": "text"
      },
      "source": [
        "# Array"
      ]
    },
    {
      "cell_type": "markdown",
      "metadata": {
        "id": "dFASlXALmJ7n",
        "colab_type": "text"
      },
      "source": [
        "## Creating an Array"
      ]
    },
    {
      "cell_type": "code",
      "metadata": {
        "id": "b_GY-DZkmLdx",
        "colab_type": "code",
        "outputId": "9f32654e-3e4f-4b30-9ae4-1708c08f6c1b",
        "colab": {
          "base_uri": "https://localhost:8080/",
          "height": 51
        }
      },
      "source": [
        "// creating an empty array\n",
        "var someInts = [Int]()\n",
        "print(someInts.count)\n",
        "\n",
        "// another way of creating an array\n",
        "var otherInts = Array<Int>()\n",
        "print(otherInts.count)"
      ],
      "execution_count": 0,
      "outputs": [
        {
          "output_type": "stream",
          "text": [
            "0\r\n",
            "0\r\n"
          ],
          "name": "stdout"
        }
      ]
    },
    {
      "cell_type": "markdown",
      "metadata": {
        "id": "Mg5X0F1znOhY",
        "colab_type": "text"
      },
      "source": [
        "## Creating Array with Default Value"
      ]
    },
    {
      "cell_type": "code",
      "metadata": {
        "id": "ex9e9WlwnQdO",
        "colab_type": "code",
        "outputId": "35ed3e76-cb61-474a-ca60-7c6ec9708a09",
        "colab": {
          "base_uri": "https://localhost:8080/",
          "height": 51
        }
      },
      "source": [
        "var someDouble = Array(repeating:0.0, count:3)\n",
        "print(someDouble)\n",
        "print(type(of:someDouble))"
      ],
      "execution_count": 0,
      "outputs": [
        {
          "output_type": "stream",
          "text": [
            "[0.0, 0.0, 0.0]\r\n",
            "Array<Double>\r\n"
          ],
          "name": "stdout"
        }
      ]
    },
    {
      "cell_type": "markdown",
      "metadata": {
        "id": "EEeRzfw-n-bp",
        "colab_type": "text"
      },
      "source": [
        "## Creating Array with Array Literals"
      ]
    },
    {
      "cell_type": "code",
      "metadata": {
        "id": "plyPUamJoAWR",
        "colab_type": "code",
        "outputId": "d7c712d6-b425-486e-ad84-f8fe6fd4aaea",
        "colab": {
          "base_uri": "https://localhost:8080/",
          "height": 51
        }
      },
      "source": [
        "var shoppingList:[String] = [\"Milk\", \"Egg\", \"Sugar\"]\n",
        "print(shoppingList)\n",
        "\n",
        "var scores:[Int] = [30, 97, 80]\n",
        "print(scores)"
      ],
      "execution_count": 0,
      "outputs": [
        {
          "output_type": "stream",
          "text": [
            "[\"Milk\", \"Egg\", \"Sugar\"]\r\n",
            "[30, 97, 80]\r\n"
          ],
          "name": "stdout"
        }
      ]
    },
    {
      "cell_type": "code",
      "metadata": {
        "id": "1psgu6XR3eel",
        "colab_type": "code",
        "outputId": "c5b7a720-991f-4ff9-a3d6-5d2150840490",
        "colab": {
          "base_uri": "https://localhost:8080/",
          "height": 51
        }
      },
      "source": [
        "var anyArray:[Any] = [1, 1.0, \"1.0\", true]\n",
        "print(anyArray)\n",
        "print(type(of:anyArray))"
      ],
      "execution_count": 0,
      "outputs": [
        {
          "output_type": "stream",
          "text": [
            "[1, 1.0, \"1.0\", true]\r\n",
            "Array<Any>\r\n"
          ],
          "name": "stdout"
        }
      ]
    },
    {
      "cell_type": "markdown",
      "metadata": {
        "id": "MZtbO6x4m2Vt",
        "colab_type": "text"
      },
      "source": [
        "## Adding Item"
      ]
    },
    {
      "cell_type": "code",
      "metadata": {
        "id": "RZ6IgBVmm40x",
        "colab_type": "code",
        "outputId": "38428b85-2f8d-4ae5-835c-73ed5b3a69c4",
        "colab": {
          "base_uri": "https://localhost:8080/",
          "height": 51
        }
      },
      "source": [
        "someInts.append(2)\n",
        "someInts.append(3)\n",
        "\n",
        "print(someInts)\n",
        "\n",
        "otherInts.append(7)\n",
        "otherInts.append(-2)\n",
        "\n",
        "print(otherInts)"
      ],
      "execution_count": 0,
      "outputs": [
        {
          "output_type": "stream",
          "text": [
            "[2, 3, 2, 3]\r\n",
            "[7, -2]\r\n"
          ],
          "name": "stdout"
        }
      ]
    },
    {
      "cell_type": "markdown",
      "metadata": {
        "id": "J2czlLKbniph",
        "colab_type": "text"
      },
      "source": [
        "## Concatenating Two Arrays"
      ]
    },
    {
      "cell_type": "code",
      "metadata": {
        "id": "9fZ6cPO5nlCo",
        "colab_type": "code",
        "outputId": "1eaec62b-3e26-43ae-e523-73b935828114",
        "colab": {
          "base_uri": "https://localhost:8080/",
          "height": 51
        }
      },
      "source": [
        "var someInts = Array(repeating:0, count:2)\n",
        "var otherInts = Array(repeating:7, count:4)\n",
        "var lastInts = Array(repeating:2, count:3)\n",
        "\n",
        "// use + operator\n",
        "var combineInts = someInts + otherInts\n",
        "print(combineInts)\n",
        "\n",
        "combineInts += lastInts\n",
        "print(combineInts)"
      ],
      "execution_count": 0,
      "outputs": [
        {
          "output_type": "stream",
          "text": [
            "[0, 0, 7, 7, 7, 7]\r\n",
            "[0, 0, 7, 7, 7, 7, 2, 2, 2]\r\n"
          ],
          "name": "stdout"
        }
      ]
    },
    {
      "cell_type": "markdown",
      "metadata": {
        "id": "MjSRXmpAoxDd",
        "colab_type": "text"
      },
      "source": [
        "## Checking Array"
      ]
    },
    {
      "cell_type": "code",
      "metadata": {
        "id": "FV-EyP2Moy9u",
        "colab_type": "code",
        "outputId": "4fe618d4-84f1-44d7-f324-376412c87b8f",
        "colab": {
          "base_uri": "https://localhost:8080/",
          "height": 51
        }
      },
      "source": [
        "// checking how many elements\n",
        "print(combineInts.count)\n",
        "\n",
        "// checking if empty\n",
        "print(combineInts.isEmpty)\n"
      ],
      "execution_count": 0,
      "outputs": [
        {
          "output_type": "stream",
          "text": [
            "9\r\n",
            "false\r\n"
          ],
          "name": "stdout"
        }
      ]
    },
    {
      "cell_type": "markdown",
      "metadata": {
        "id": "dOgKshxdoWal",
        "colab_type": "text"
      },
      "source": [
        "## Accessing and Modifying Array"
      ]
    },
    {
      "cell_type": "code",
      "metadata": {
        "id": "jhFiGLcCoYsp",
        "colab_type": "code",
        "outputId": "e972b312-5a14-48b7-9965-9870bc84e577",
        "colab": {
          "base_uri": "https://localhost:8080/",
          "height": 69
        }
      },
      "source": [
        "print(combineInts[0])\n",
        "print(combineInts[combineInts.count-1])\n",
        "print(combineInts[2])"
      ],
      "execution_count": 0,
      "outputs": [
        {
          "output_type": "stream",
          "text": [
            "0\r\n",
            "2\r\n",
            "7\r\n"
          ],
          "name": "stdout"
        }
      ]
    },
    {
      "cell_type": "code",
      "metadata": {
        "id": "1C3d7eSlpcfY",
        "colab_type": "code",
        "outputId": "bbce8151-9ebe-459c-8e8a-404d8cc0014b",
        "colab": {
          "base_uri": "https://localhost:8080/",
          "height": 51
        }
      },
      "source": [
        "var myints = [0, 1, 2, 3, 4, 5, 6, 7, 8]\n",
        "myints[2...5] = [9, 10]\n",
        "print(myints)\n",
        "\n",
        "myints.insert(11, at:1)\n",
        "print(myints)"
      ],
      "execution_count": 0,
      "outputs": [
        {
          "output_type": "stream",
          "text": [
            "[0, 1, 9, 10, 6, 7, 8]\r\n",
            "[0, 11, 1, 9, 10, 6, 7, 8]\r\n"
          ],
          "name": "stdout"
        }
      ]
    },
    {
      "cell_type": "code",
      "metadata": {
        "id": "rBdrreqgpsuG",
        "colab_type": "code",
        "outputId": "80c38f8c-a2e7-48f1-8117-7e671ea1238e",
        "colab": {
          "base_uri": "https://localhost:8080/",
          "height": 51
        }
      },
      "source": [
        "myints.remove(at:1)\n",
        "print(myints)\n",
        "\n",
        "myints.removeLast()\n",
        "print(myints)"
      ],
      "execution_count": 0,
      "outputs": [
        {
          "output_type": "stream",
          "text": [
            "[0, 9, 10, 6, 7, 8]\r\n",
            "[0, 9, 10, 6, 7]\r\n"
          ],
          "name": "stdout"
        }
      ]
    },
    {
      "cell_type": "markdown",
      "metadata": {
        "id": "uvtkKgbtqHXn",
        "colab_type": "text"
      },
      "source": [
        "## Iterating Over an Array"
      ]
    },
    {
      "cell_type": "code",
      "metadata": {
        "id": "nQBVgSj4qJso",
        "colab_type": "code",
        "outputId": "723ea6be-e724-4fba-e415-89b1bcfbae60",
        "colab": {
          "base_uri": "https://localhost:8080/",
          "height": 103
        }
      },
      "source": [
        "for item in myints{\n",
        "  print(item)\n",
        "}"
      ],
      "execution_count": 0,
      "outputs": [
        {
          "output_type": "stream",
          "text": [
            "0\r\n",
            "9\r\n",
            "10\r\n",
            "6\r\n",
            "7\r\n"
          ],
          "name": "stdout"
        }
      ]
    },
    {
      "cell_type": "code",
      "metadata": {
        "id": "Ofs5snNHqPkh",
        "colab_type": "code",
        "outputId": "251314ac-ea56-4aa5-ed2e-cbc528c25ab5",
        "colab": {
          "base_uri": "https://localhost:8080/",
          "height": 103
        }
      },
      "source": [
        "for (index, value) in myints.enumerated(){\n",
        "  print(index, value)\n",
        "}"
      ],
      "execution_count": 0,
      "outputs": [
        {
          "output_type": "stream",
          "text": [
            "0 0\r\n",
            "1 9\r\n",
            "2 10\r\n",
            "3 6\r\n",
            "4 7\r\n"
          ],
          "name": "stdout"
        }
      ]
    },
    {
      "cell_type": "markdown",
      "metadata": {
        "id": "maihS2EKqXpn",
        "colab_type": "text"
      },
      "source": [
        "# Sets"
      ]
    },
    {
      "cell_type": "markdown",
      "metadata": {
        "id": "fxvpiPL3qu91",
        "colab_type": "text"
      },
      "source": [
        "## Creating an Empty Set"
      ]
    },
    {
      "cell_type": "code",
      "metadata": {
        "id": "txInjpsQqwVl",
        "colab_type": "code",
        "outputId": "08647379-f021-49cd-e6d5-b713977775e8",
        "colab": {
          "base_uri": "https://localhost:8080/",
          "height": 34
        }
      },
      "source": [
        "var vowel = Set<Character>()\n",
        "print(vowel.count)"
      ],
      "execution_count": 0,
      "outputs": [
        {
          "output_type": "stream",
          "text": [
            "0\r\n"
          ],
          "name": "stdout"
        }
      ]
    },
    {
      "cell_type": "markdown",
      "metadata": {
        "id": "yv_ZwNYFrRLK",
        "colab_type": "text"
      },
      "source": [
        "## Creating Set using Literals"
      ]
    },
    {
      "cell_type": "code",
      "metadata": {
        "id": "XOgSj1vdrTSr",
        "colab_type": "code",
        "outputId": "fbb60a65-08ad-4189-9b13-35349b2f7e55",
        "colab": {
          "base_uri": "https://localhost:8080/",
          "height": 34
        }
      },
      "source": [
        "var vowel: Set<Character> = [\"a\", \"e\", \"u\", \"e\", \"o\"]\n",
        "print(vowel)"
      ],
      "execution_count": 0,
      "outputs": [
        {
          "output_type": "stream",
          "text": [
            "[\"a\", \"e\", \"u\", \"o\"]\r\n"
          ],
          "name": "stdout"
        }
      ]
    },
    {
      "cell_type": "markdown",
      "metadata": {
        "id": "ex4kJMFGq8BR",
        "colab_type": "text"
      },
      "source": [
        "## Adding an Item into the Set"
      ]
    },
    {
      "cell_type": "code",
      "metadata": {
        "id": "zWBM_nHyq94c",
        "colab_type": "code",
        "outputId": "62802dba-3e4f-4cb6-99b2-194a216db3e7",
        "colab": {
          "base_uri": "https://localhost:8080/",
          "height": 34
        }
      },
      "source": [
        "// empty the set\n",
        "vowel = []\n",
        "\n",
        "//inserting the item\n",
        "vowel.insert(\"a\")\n",
        "vowel.insert(\"i\")\n",
        "vowel.insert(\"e\")\n",
        "vowel.insert(\"u\")\n",
        "vowel.insert(\"o\")\n",
        "print(vowel)"
      ],
      "execution_count": 0,
      "outputs": [
        {
          "output_type": "stream",
          "text": [
            "[\"a\", \"i\", \"e\", \"u\", \"o\"]\r\n"
          ],
          "name": "stdout"
        }
      ]
    },
    {
      "cell_type": "markdown",
      "metadata": {
        "id": "xcVa5e0-rQTN",
        "colab_type": "text"
      },
      "source": [
        "## Removing an Item"
      ]
    },
    {
      "cell_type": "code",
      "metadata": {
        "id": "IUi3UTJLrvue",
        "colab_type": "code",
        "outputId": "416cfbcf-9561-4b39-80bb-2746fc5edc7d",
        "colab": {
          "base_uri": "https://localhost:8080/",
          "height": 34
        }
      },
      "source": [
        "vowel.remove(\"a\")\n",
        "print(vowel)"
      ],
      "execution_count": 0,
      "outputs": [
        {
          "output_type": "stream",
          "text": [
            "[\"i\", \"e\", \"u\", \"o\"]\r\n"
          ],
          "name": "stdout"
        }
      ]
    },
    {
      "cell_type": "code",
      "metadata": {
        "id": "-rh41uGwsEuJ",
        "colab_type": "code",
        "outputId": "4e8dc216-1b71-4174-b276-91d864d75f6f",
        "colab": {
          "base_uri": "https://localhost:8080/",
          "height": 34
        }
      },
      "source": [
        "if let gone = vowel.remove(\"j\"){\n",
        "  print(\"The removed character is \\(gone)\")\n",
        "} else{\n",
        "  print(\"No character removed.\")\n",
        "}"
      ],
      "execution_count": 0,
      "outputs": [
        {
          "output_type": "stream",
          "text": [
            "No character removed.\r\n"
          ],
          "name": "stdout"
        }
      ]
    },
    {
      "cell_type": "markdown",
      "metadata": {
        "id": "iomW8i4wsQup",
        "colab_type": "text"
      },
      "source": [
        "## Check If an Item is in a Set"
      ]
    },
    {
      "cell_type": "code",
      "metadata": {
        "id": "6_HOYwjVsTOd",
        "colab_type": "code",
        "outputId": "dd6503a2-7fc9-421f-c7f2-8ca48408e546",
        "colab": {
          "base_uri": "https://localhost:8080/",
          "height": 51
        }
      },
      "source": [
        "print(vowel.contains(\"b\"))\n",
        "print(vowel.contains(\"e\"))"
      ],
      "execution_count": 0,
      "outputs": [
        {
          "output_type": "stream",
          "text": [
            "false\r\n",
            "true\r\n"
          ],
          "name": "stdout"
        }
      ]
    },
    {
      "cell_type": "markdown",
      "metadata": {
        "id": "-r9zsVvssgL9",
        "colab_type": "text"
      },
      "source": [
        "## Iterating Over a Set"
      ]
    },
    {
      "cell_type": "code",
      "metadata": {
        "id": "0lNRuyGishob",
        "colab_type": "code",
        "outputId": "1e83923b-4e45-4693-dd66-7cfd0627b2cf",
        "colab": {
          "base_uri": "https://localhost:8080/",
          "height": 86
        }
      },
      "source": [
        "for item in vowel{\n",
        "  print(item)\n",
        "}"
      ],
      "execution_count": 0,
      "outputs": [
        {
          "output_type": "stream",
          "text": [
            "i\r\n",
            "e\r\n",
            "u\r\n",
            "o\r\n"
          ],
          "name": "stdout"
        }
      ]
    },
    {
      "cell_type": "code",
      "metadata": {
        "id": "eUweYzqwsk6x",
        "colab_type": "code",
        "outputId": "43c28916-1a92-40e4-f4d0-fb7e67c885a6",
        "colab": {
          "base_uri": "https://localhost:8080/",
          "height": 103
        }
      },
      "source": [
        "vowel.insert(\"a\")\n",
        "for item in vowel.sorted(){\n",
        "  print(item)\n",
        "}"
      ],
      "execution_count": 0,
      "outputs": [
        {
          "output_type": "stream",
          "text": [
            "a\r\n",
            "e\r\n",
            "i\r\n",
            "o\r\n",
            "u\r\n"
          ],
          "name": "stdout"
        }
      ]
    },
    {
      "cell_type": "markdown",
      "metadata": {
        "id": "VVGIj8XetZAt",
        "colab_type": "text"
      },
      "source": [
        "## Set Operations"
      ]
    },
    {
      "cell_type": "code",
      "metadata": {
        "id": "8ExfW-MDtaTv",
        "colab_type": "code",
        "outputId": "05f3a2a8-386a-43a0-baf0-8a4c9575799a",
        "colab": {
          "base_uri": "https://localhost:8080/",
          "height": 86
        }
      },
      "source": [
        "let oddDigits: Set<Int> = [1, 3, 5, 7, 9]\n",
        "let evenDigits: Set<Int> = [0, 2, 4, 6, 8]\n",
        "let prime: Set<Int> = [2, 3, 5, 7]\n",
        "\n",
        "// intersection\n",
        "print(oddDigits.intersection(prime).sorted())\n",
        "\n",
        "// union\n",
        "print(oddDigits.union(evenDigits).sorted())\n",
        "\n",
        "// subtracting\n",
        "print(evenDigits.subtracting(prime).sorted())\n",
        "\n",
        "// symetric difference\n",
        "print(evenDigits.symmetricDifference(oddDigits).sorted())"
      ],
      "execution_count": 0,
      "outputs": [
        {
          "output_type": "stream",
          "text": [
            "[3, 5, 7]\r\n",
            "[0, 1, 2, 3, 4, 5, 6, 7, 8, 9]\r\n",
            "[0, 4, 6, 8]\r\n",
            "[0, 1, 2, 3, 4, 5, 6, 7, 8, 9]\r\n"
          ],
          "name": "stdout"
        }
      ]
    },
    {
      "cell_type": "markdown",
      "metadata": {
        "id": "BBtdjXT0uYRO",
        "colab_type": "text"
      },
      "source": [
        "## Set Membership and Equality"
      ]
    },
    {
      "cell_type": "code",
      "metadata": {
        "id": "Sq9R7Dx7uZ9Q",
        "colab_type": "code",
        "outputId": "64749387-33cd-4d4b-f858-19a974ca9af5",
        "colab": {
          "base_uri": "https://localhost:8080/",
          "height": 121
        }
      },
      "source": [
        "print(prime == oddDigits)\n",
        "\n",
        "let someNums:Set<Int> = [0, 2, 4]\n",
        "\n",
        "print(someNums.isSubset(of:evenDigits))\n",
        "\n",
        "print(evenDigits.isSuperset(of:someNums))\n",
        "\n",
        "\n",
        "print(someNums.isStrictSubset(of:evenDigits))\n",
        "\n",
        "print(evenDigits.isStrictSuperset(of:someNums))\n",
        "\n",
        "print(oddDigits.isDisjoint(with:evenDigits))"
      ],
      "execution_count": 0,
      "outputs": [
        {
          "output_type": "stream",
          "text": [
            "false\r\n",
            "true\r\n",
            "true\r\n",
            "true\r\n",
            "true\r\n",
            "true\r\n"
          ],
          "name": "stdout"
        }
      ]
    },
    {
      "cell_type": "markdown",
      "metadata": {
        "id": "8VLHGUhMvm0u",
        "colab_type": "text"
      },
      "source": [
        "# Dictionary"
      ]
    },
    {
      "cell_type": "markdown",
      "metadata": {
        "id": "YJ8v-eH9vtFB",
        "colab_type": "text"
      },
      "source": [
        "## Creating an Empty Dictionary"
      ]
    },
    {
      "cell_type": "code",
      "metadata": {
        "id": "nuHljrZAvuwk",
        "colab_type": "code",
        "outputId": "1a9dac00-fe7d-41b3-e2f4-8c2badad2057",
        "colab": {
          "base_uri": "https://localhost:8080/",
          "height": 69
        }
      },
      "source": [
        "var phonecodes = [Int: String]()\n",
        "print(phonecodes.count)\n",
        "\n",
        "var ascii = Dictionary<Character,Int>()\n",
        "print(ascii.count)\n",
        "\n",
        "// creating an empty dict also\n",
        "ascii = [:]\n",
        "print(ascii.count)"
      ],
      "execution_count": 0,
      "outputs": [
        {
          "output_type": "stream",
          "text": [
            "0\r\n",
            "0\r\n",
            "0\r\n"
          ],
          "name": "stdout"
        }
      ]
    },
    {
      "cell_type": "markdown",
      "metadata": {
        "id": "WiH0a2ABweWV",
        "colab_type": "text"
      },
      "source": [
        "## Creating Dictionary Using Dictionary Literals"
      ]
    },
    {
      "cell_type": "code",
      "metadata": {
        "id": "fneedePLwgtj",
        "colab_type": "code",
        "outputId": "a83bee44-eba0-43bf-ed29-c61d60ed8ddd",
        "colab": {
          "base_uri": "https://localhost:8080/",
          "height": 34
        }
      },
      "source": [
        "var phonecodes:[Int: String] = [65: \"Singapore\", 62: \"Indonesia\", 61: \"Malaysia\"]\n",
        "print(phonecodes)"
      ],
      "execution_count": 0,
      "outputs": [
        {
          "output_type": "stream",
          "text": [
            "[61: \"Malaysia\", 65: \"Singapore\", 62: \"Indonesia\"]\r\n"
          ],
          "name": "stdout"
        }
      ]
    },
    {
      "cell_type": "markdown",
      "metadata": {
        "id": "nokT011wwxS3",
        "colab_type": "text"
      },
      "source": [
        "## Accessing  and Modifying Dictionary"
      ]
    },
    {
      "cell_type": "code",
      "metadata": {
        "id": "ubvNPDv_wzJu",
        "colab_type": "code",
        "outputId": "175ec1f1-574c-4f39-e755-222b389b744b",
        "colab": {
          "base_uri": "https://localhost:8080/",
          "height": 51
        }
      },
      "source": [
        "phonecodes[1] = \"USA\"\n",
        "print(phonecodes)\n",
        "\n",
        "print(phonecodes[65]!)"
      ],
      "execution_count": 0,
      "outputs": [
        {
          "output_type": "stream",
          "text": [
            "[62: \"Indonesia\", 61: \"Malaysia\", 1: \"USA\", 65: \"Singapore\"]\r\n",
            "Singapore\r\n"
          ],
          "name": "stdout"
        }
      ]
    },
    {
      "cell_type": "code",
      "metadata": {
        "id": "jfaZ30AQxYAT",
        "colab_type": "code",
        "outputId": "6f322854-142c-4c90-a466-9db44d954b22",
        "colab": {
          "base_uri": "https://localhost:8080/",
          "height": 86
        }
      },
      "source": [
        "ascii = [:]\n",
        "var returned = ascii.updateValue(97, forKey:\"A\")\n",
        "print(ascii)\n",
        "print(returned)\n",
        "\n",
        "returned = ascii.updateValue(65, forKey:\"A\")\n",
        "print(ascii)\n",
        "print(returned!)\n"
      ],
      "execution_count": 0,
      "outputs": [
        {
          "output_type": "stream",
          "text": [
            "[\"A\": 97]\r\n",
            "nil\r\n",
            "[\"A\": 65]\r\n",
            "97\r\n"
          ],
          "name": "stdout"
        }
      ]
    },
    {
      "cell_type": "code",
      "metadata": {
        "id": "phpzwCeOyV1W",
        "colab_type": "code",
        "outputId": "ec446c43-5337-4443-a1cf-19468411d5f6",
        "colab": {
          "base_uri": "https://localhost:8080/",
          "height": 34
        }
      },
      "source": [
        "if let country = phonecodes[3]{\n",
        "  print(country)\n",
        "} else{\n",
        "  print(\"Not in list yet.\")\n",
        "}"
      ],
      "execution_count": 0,
      "outputs": [
        {
          "output_type": "stream",
          "text": [
            "Not in list yet.\r\n"
          ],
          "name": "stdout"
        }
      ]
    },
    {
      "cell_type": "markdown",
      "metadata": {
        "id": "LAkiEZIKyjF2",
        "colab_type": "text"
      },
      "source": [
        "## Removing a Key-Value"
      ]
    },
    {
      "cell_type": "code",
      "metadata": {
        "id": "mcpMhiexyl_h",
        "colab_type": "code",
        "outputId": "ea4be63d-99b3-4bcd-80d1-a1970d20789f",
        "colab": {
          "base_uri": "https://localhost:8080/",
          "height": 86
        }
      },
      "source": [
        "ascii[\"A\"] = 65\n",
        "ascii[\"a\"] =  65\n",
        "print(ascii)\n",
        "\n",
        "// removing by assigning nil\n",
        "ascii[\"a\"] = nil\n",
        "print(ascii)\n",
        "\n",
        "// using removeValue(forKey:)\n",
        "if let removed = ascii.removeValue(forKey:\"A\"){\n",
        "  print(removed)\n",
        "  print(ascii)\n",
        "} else{\n",
        "  print(\"not here.\")\n",
        "  print(ascii)\n",
        "}"
      ],
      "execution_count": 0,
      "outputs": [
        {
          "output_type": "stream",
          "text": [
            "[\"A\": 65, \"a\": 65]\r\n",
            "[\"A\": 65]\r\n",
            "65\r\n",
            "[:]\r\n"
          ],
          "name": "stdout"
        }
      ]
    },
    {
      "cell_type": "markdown",
      "metadata": {
        "id": "e2b-O4E9zdXR",
        "colab_type": "text"
      },
      "source": [
        "## Iterating Over Dictionary"
      ]
    },
    {
      "cell_type": "code",
      "metadata": {
        "id": "fQ-A_6K7ze_M",
        "colab_type": "code",
        "outputId": "49af7c71-9205-40b0-e137-085f4c819a09",
        "colab": {
          "base_uri": "https://localhost:8080/",
          "height": 86
        }
      },
      "source": [
        "for (code, country) in phonecodes{\n",
        "  print(\"+\\(code): \\(country)\")\n",
        "}"
      ],
      "execution_count": 0,
      "outputs": [
        {
          "output_type": "stream",
          "text": [
            "+62: Indonesia\r\n",
            "+61: Malaysia\r\n",
            "+1: USA\r\n",
            "+65: Singapore\r\n"
          ],
          "name": "stdout"
        }
      ]
    },
    {
      "cell_type": "code",
      "metadata": {
        "id": "jzCwRB69znAG",
        "colab_type": "code",
        "outputId": "77f8a90b-c294-479d-bea0-274e6cc8e09f",
        "colab": {
          "base_uri": "https://localhost:8080/",
          "height": 155
        }
      },
      "source": [
        "for code in phonecodes.keys{\n",
        "  print(code)\n",
        "}\n",
        "\n",
        "for country in phonecodes.values{\n",
        "  print(country)\n",
        "}"
      ],
      "execution_count": 0,
      "outputs": [
        {
          "output_type": "stream",
          "text": [
            "62\r\n",
            "61\r\n",
            "1\r\n",
            "65\r\n",
            "Indonesia\r\n",
            "Malaysia\r\n",
            "USA\r\n",
            "Singapore\r\n"
          ],
          "name": "stdout"
        }
      ]
    },
    {
      "cell_type": "code",
      "metadata": {
        "id": "InTupuQXz1fl",
        "colab_type": "code",
        "outputId": "201e1d8d-9bbe-47fe-de14-47cd9f3f9b88",
        "colab": {
          "base_uri": "https://localhost:8080/",
          "height": 51
        }
      },
      "source": [
        "let codes = [Int](phonecodes.keys)\n",
        "print(codes)\n",
        "\n",
        "let countries = [String](phonecodes.values)\n",
        "print(countries)"
      ],
      "execution_count": 0,
      "outputs": [
        {
          "output_type": "stream",
          "text": [
            "[62, 61, 1, 65]\r\n",
            "[\"Indonesia\", \"Malaysia\", \"USA\", \"Singapore\"]\r\n"
          ],
          "name": "stdout"
        }
      ]
    }
  ]
}