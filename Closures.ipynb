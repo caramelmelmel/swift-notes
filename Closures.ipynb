{
  "nbformat": 4,
  "nbformat_minor": 0,
  "metadata": {
    "colab": {
      "name": "Closures.ipynb",
      "version": "0.3.2",
      "provenance": [],
      "collapsed_sections": [],
      "include_colab_link": true
    },
    "kernelspec": {
      "name": "swift",
      "display_name": "Swift"
    }
  },
  "cells": [
    {
      "cell_type": "markdown",
      "metadata": {
        "id": "view-in-github",
        "colab_type": "text"
      },
      "source": [
        "<a href=\"https://colab.research.google.com/github/kurniawano/swift-notes/blob/master/Closures.ipynb\" target=\"_parent\"><img src=\"https://colab.research.google.com/assets/colab-badge.svg\" alt=\"Open In Colab\"/></a>"
      ]
    },
    {
      "cell_type": "markdown",
      "metadata": {
        "id": "4V1_oY7LQpDy",
        "colab_type": "text"
      },
      "source": [
        "# Closures\n",
        "\n",
        "Closures is similar to lambda function in Python. They are self-contained blocks of functionality that can be passed around and used in your code. Global and nested functions are special cases of closures. \n",
        "\n",
        "Three forms of closures:\n",
        "1. Global functions\n",
        "1. Nested functions\n",
        "1. Closure expressions: unnamed closures wirtten in a lightweight syntax that can capture values from their surrounding context\n",
        "\n",
        "The following will show Closure expressions similar to lambda functions in Python.\n",
        "\n"
      ]
    },
    {
      "cell_type": "code",
      "metadata": {
        "id": "9zUawP2YRaRl",
        "colab_type": "code",
        "outputId": "69c81b6f-7e46-42e8-d366-861a2a0d943d",
        "colab": {
          "base_uri": "https://localhost:8080/",
          "height": 34
        }
      },
      "source": [
        "let names = [\"Chris\", \"Alex\", \"Ewa\", \"Barry\", \"Daniella\"]\n",
        "\n",
        "func backward(_ s1: String, _ s2: String) -> Bool {\n",
        "  return s1 > s2\n",
        "}\n",
        "\n",
        "var reversedNames = names.sorted(by:backward)\n",
        "print(reversedNames)"
      ],
      "execution_count": 0,
      "outputs": [
        {
          "output_type": "stream",
          "text": [
            "[\"Ewa\", \"Daniella\", \"Chris\", \"Barry\", \"Alex\"]\r\n"
          ],
          "name": "stdout"
        }
      ]
    },
    {
      "cell_type": "code",
      "metadata": {
        "id": "xaBYgLBSR0bg",
        "colab_type": "code",
        "outputId": "e07995d3-39ae-4964-af94-6c5c28d59ecc",
        "colab": {
          "base_uri": "https://localhost:8080/",
          "height": 34
        }
      },
      "source": [
        "// Written in closures\n",
        "\n",
        "reversedNames = names.sorted(by: {(s1: String, s2: String) -> Bool in\n",
        "    return s1 > s2\n",
        "  \n",
        "})\n",
        "\n",
        "print(reversedNames)"
      ],
      "execution_count": 0,
      "outputs": [
        {
          "output_type": "stream",
          "text": [
            "[\"Ewa\", \"Daniella\", \"Chris\", \"Barry\", \"Alex\"]\r\n"
          ],
          "name": "stdout"
        }
      ]
    },
    {
      "cell_type": "code",
      "metadata": {
        "id": "lJiCXZKVSTBk",
        "colab_type": "code",
        "outputId": "d8614263-80ef-4ae3-9351-683a957c6a9e",
        "colab": {
          "base_uri": "https://localhost:8080/",
          "height": 34
        }
      },
      "source": [
        "// Infering Type from Context\n",
        "reversedNames = names.sorted(by: {(s1, s2) in return s1 > s2})\n",
        "print(reversedNames)"
      ],
      "execution_count": 0,
      "outputs": [
        {
          "output_type": "stream",
          "text": [
            "[\"Ewa\", \"Daniella\", \"Chris\", \"Barry\", \"Alex\"]\r\n"
          ],
          "name": "stdout"
        }
      ]
    },
    {
      "cell_type": "code",
      "metadata": {
        "id": "e1x7-LDRSisH",
        "colab_type": "code",
        "outputId": "d507b72f-e141-4b40-8cd2-01dbcadbe51a",
        "colab": {
          "base_uri": "https://localhost:8080/",
          "height": 34
        }
      },
      "source": [
        "// Implicit return statement from single line body\n",
        "reversedNames = names.sorted(by: {(s1, s2) in s1 > s2})\n",
        "print(reversedNames)"
      ],
      "execution_count": 0,
      "outputs": [
        {
          "output_type": "stream",
          "text": [
            "[\"Ewa\", \"Daniella\", \"Chris\", \"Barry\", \"Alex\"]\r\n"
          ],
          "name": "stdout"
        }
      ]
    },
    {
      "cell_type": "code",
      "metadata": {
        "id": "KGA-RohZSuCA",
        "colab_type": "code",
        "outputId": "6b7933ee-2cf1-4c25-e8df-f2f1bc83ba8f",
        "colab": {
          "base_uri": "https://localhost:8080/",
          "height": 34
        }
      },
      "source": [
        "// Shorthand argument names\n",
        "reversedNames = names.sorted(by: { $0 > $1})\n",
        "print(reversedNames)"
      ],
      "execution_count": 0,
      "outputs": [
        {
          "output_type": "stream",
          "text": [
            "[\"Ewa\", \"Daniella\", \"Chris\", \"Barry\", \"Alex\"]\r\n"
          ],
          "name": "stdout"
        }
      ]
    },
    {
      "cell_type": "markdown",
      "metadata": {
        "id": "T4FZMVrlTW2U",
        "colab_type": "text"
      },
      "source": [
        "## Trailing Closures\n",
        "\n",
        "You can pass closure for a function argument and placed it after the parenthesis."
      ]
    },
    {
      "cell_type": "code",
      "metadata": {
        "id": "YCfQ8InnTtuK",
        "colab_type": "code",
        "outputId": "9d36c607-9b1b-4f90-fb34-cf76cfc1f113",
        "colab": {
          "base_uri": "https://localhost:8080/",
          "height": 34
        }
      },
      "source": [
        "reversedNames = names.sorted() {$0 > $1}\n",
        "print(reversedNames)"
      ],
      "execution_count": 0,
      "outputs": [
        {
          "output_type": "stream",
          "text": [
            "[\"Ewa\", \"Daniella\", \"Chris\", \"Barry\", \"Alex\"]\r\n"
          ],
          "name": "stdout"
        }
      ]
    },
    {
      "cell_type": "code",
      "metadata": {
        "id": "uo61ZIl8T6Rz",
        "colab_type": "code",
        "outputId": "081b580c-6a43-4135-8df1-1ca90969d28c",
        "colab": {
          "base_uri": "https://localhost:8080/",
          "height": 34
        }
      },
      "source": [
        "// if it is the only argument, can remove the paranthesis\n",
        "reversedNames = names.sorted {$0 > $1}\n",
        "print(reversedNames)"
      ],
      "execution_count": 0,
      "outputs": [
        {
          "output_type": "stream",
          "text": [
            "[\"Ewa\", \"Daniella\", \"Chris\", \"Barry\", \"Alex\"]\r\n"
          ],
          "name": "stdout"
        }
      ]
    },
    {
      "cell_type": "code",
      "metadata": {
        "id": "gH6xx7QXUzcP",
        "colab_type": "code",
        "outputId": "f7463a8a-4860-4d60-dead-1c66b027ba6a",
        "colab": {
          "base_uri": "https://localhost:8080/",
          "height": 34
        }
      },
      "source": [
        "// Example in using map\n",
        "let digitNames = [ 0: \"zero\", 1: \"one\", 2: \"two\", 3: \"three\", 4: \"four\",\n",
        "                   5: \"five\", 6: \"six\", 7: \"seven\", 8: \"eight\", 9: \"nine\"]\n",
        "\n",
        "let numbers = [16, 58, 510]\n",
        "\n",
        "let strings = numbers.map { (number) -> String in\n",
        "  var number = number\n",
        "  var output = \"\"\n",
        "  repeat{\n",
        "    output = digitNames[ number % 10]! + \" \" + output\n",
        "    number /= 10\n",
        "  } while number > 0\n",
        "  return output                           \n",
        "}\n",
        "\n",
        "print(strings)"
      ],
      "execution_count": 0,
      "outputs": [
        {
          "output_type": "stream",
          "text": [
            "[\"one six \", \"five eight \", \"five one zero \"]\r\n"
          ],
          "name": "stdout"
        }
      ]
    },
    {
      "cell_type": "markdown",
      "metadata": {
        "id": "jXFF8HdqbKc3",
        "colab_type": "text"
      },
      "source": [
        "## Nested Function\n",
        "\n",
        "Nested function can capture any of its outer function's arguments and can also capture any constants and variables defined within the outer function."
      ]
    },
    {
      "cell_type": "code",
      "metadata": {
        "id": "NN7eL1jjbYQq",
        "colab_type": "code",
        "colab": {}
      },
      "source": [
        "// return type is () -> Int, which means it's a function with Int return value\n",
        "\n",
        "func makeIncrement(forIncrement amount: Int) -> () -> Int{\n",
        "  var runningTotal = 0\n",
        "  func incrementer() -> Int{\n",
        "    runningTotal += amount\n",
        "    return runningTotal\n",
        "  }\n",
        "  return incrementer\n",
        "}\n",
        "\n",
        "let incrementByTen = makeIncrement(forIncrement: 10)"
      ],
      "execution_count": 0,
      "outputs": []
    },
    {
      "cell_type": "code",
      "metadata": {
        "id": "OyLoZbB4cCmP",
        "colab_type": "code",
        "outputId": "b7e68191-2fe8-4119-ce12-82577d6b3250",
        "colab": {
          "base_uri": "https://localhost:8080/",
          "height": 34
        }
      },
      "source": [
        "incrementByTen()"
      ],
      "execution_count": 0,
      "outputs": [
        {
          "output_type": "execute_result",
          "data": {
            "text/plain": [
              "20\n"
            ]
          },
          "metadata": {
            "tags": []
          },
          "execution_count": 11
        }
      ]
    },
    {
      "cell_type": "code",
      "metadata": {
        "id": "F5UTlYjEcMDi",
        "colab_type": "code",
        "colab": {}
      },
      "source": [
        "let incrementBySeven = makeIncrement(forIncrement: 7)"
      ],
      "execution_count": 0,
      "outputs": []
    },
    {
      "cell_type": "code",
      "metadata": {
        "id": "oxWC4FE3cQch",
        "colab_type": "code",
        "outputId": "6f658d5c-f3fa-4189-9990-893ccad2d4db",
        "colab": {
          "base_uri": "https://localhost:8080/",
          "height": 34
        }
      },
      "source": [
        "incrementBySeven()"
      ],
      "execution_count": 0,
      "outputs": [
        {
          "output_type": "execute_result",
          "data": {
            "text/plain": [
              "14\n"
            ]
          },
          "metadata": {
            "tags": []
          },
          "execution_count": 14
        }
      ]
    },
    {
      "cell_type": "code",
      "metadata": {
        "id": "ntc_FrbAcUAs",
        "colab_type": "code",
        "outputId": "32d5533e-86cf-43cd-d571-6888d838d619",
        "colab": {
          "base_uri": "https://localhost:8080/",
          "height": 34
        }
      },
      "source": [
        "incrementByTen()"
      ],
      "execution_count": 0,
      "outputs": [
        {
          "output_type": "execute_result",
          "data": {
            "text/plain": [
              "30\n"
            ]
          },
          "metadata": {
            "tags": []
          },
          "execution_count": 15
        }
      ]
    },
    {
      "cell_type": "code",
      "metadata": {
        "id": "hvPW2X2XciBN",
        "colab_type": "code",
        "colab": {}
      },
      "source": [
        "// aliasing effect\n",
        "let alsoIncrementByTen = incrementByTen\n"
      ],
      "execution_count": 0,
      "outputs": []
    },
    {
      "cell_type": "code",
      "metadata": {
        "id": "SO4JPqgtcn7u",
        "colab_type": "code",
        "outputId": "87cbb8ab-7146-4ad0-d427-8fe8b62568b5",
        "colab": {
          "base_uri": "https://localhost:8080/",
          "height": 34
        }
      },
      "source": [
        "alsoIncrementByTen()"
      ],
      "execution_count": 0,
      "outputs": [
        {
          "output_type": "execute_result",
          "data": {
            "text/plain": [
              "40\n"
            ]
          },
          "metadata": {
            "tags": []
          },
          "execution_count": 17
        }
      ]
    },
    {
      "cell_type": "markdown",
      "metadata": {
        "id": "Bz9tbeWWcws0",
        "colab_type": "text"
      },
      "source": [
        "## Escaping Closures\n",
        "\n",
        "A closure is said to *escape* a function when the closure is passed as an argument to the function, but is called after the function returns. As an example, many functions that start an asynchronous operation take a closure argument as a completion handler. The function returns after it starts the operation, but hte closure isn't called until the operation is completed. In this case, the closure needs to escape to be called later."
      ]
    },
    {
      "cell_type": "code",
      "metadata": {
        "id": "ASZJTyx_dKXE",
        "colab_type": "code",
        "colab": {}
      },
      "source": [
        "var completionHandlers: [() -> Void] = []\n",
        "\n",
        "func someFunctionWithEscapingClosure(completionHandler: @escaping () -> Void){\n",
        "  completionHandlers.append(completionHandler)\n",
        "}"
      ],
      "execution_count": 0,
      "outputs": []
    },
    {
      "cell_type": "code",
      "metadata": {
        "id": "mXxagiiTdob2",
        "colab_type": "code",
        "outputId": "e3b6f0bc-f58d-4bd3-d193-c1460fe24cda",
        "colab": {
          "base_uri": "https://localhost:8080/",
          "height": 51
        }
      },
      "source": [
        "func someFunctionWithNonescapingClosure(closure: () -> Void){\n",
        "  closure()\n",
        "}\n",
        "\n",
        "class SomeClass{\n",
        "  var x = 10\n",
        "  func doSomething(){\n",
        "    someFunctionWithEscapingClosure{self.x = 100} // need to refer to self explicitly\n",
        "    someFunctionWithNonescapingClosure{ x = 200} // can refer to self implicitly\n",
        "  }\n",
        "}\n",
        "\n",
        "let instance = SomeClass()\n",
        "instance.doSomething()\n",
        "print(instance.x)\n",
        "//prints 200\n",
        "\n",
        "completionHandlers.first?()\n",
        "print(instance.x)\n",
        "// prints 100"
      ],
      "execution_count": 0,
      "outputs": [
        {
          "output_type": "stream",
          "text": [
            "200\r\n",
            "200\r\n"
          ],
          "name": "stdout"
        }
      ]
    },
    {
      "cell_type": "markdown",
      "metadata": {
        "id": "Dc4OV_0yeyOg",
        "colab_type": "text"
      },
      "source": [
        "## Autoclosure\n",
        "\n",
        "Is a closure that is automatically created to wrap an expression that's being passed as an argument to a function. It doesn't take any arguments, and when it's called, it returns the value of the expression that's wrapped inside it. Autoclosures let you delay evaluation, because the code inside isn't run until you call the closure.\n"
      ]
    },
    {
      "cell_type": "code",
      "metadata": {
        "id": "wr5zmvnifEQm",
        "colab_type": "code",
        "outputId": "51b4bcca-7c3c-4316-b799-89ed796098d4",
        "colab": {
          "base_uri": "https://localhost:8080/",
          "height": 85
        }
      },
      "source": [
        "var customersInLine = [\"Chris\", \"Alex\", \"Ewa\", \"Barry\", \"Daniella\"]\n",
        "print(customersInLine.count)\n",
        "\n",
        "let customerProvider = {customersInLine.remove(at: 0)} // creating autoclosure\n",
        "print(customersInLine.count)\n",
        "\n",
        "print(\"Now serving \\(customerProvider())!\") // the line that calls the closure\n",
        "\n",
        "print(customersInLine.count)"
      ],
      "execution_count": 0,
      "outputs": [
        {
          "output_type": "stream",
          "text": [
            "5\r\n",
            "5\r\n",
            "Now serving Chris!\r\n",
            "4\r\n"
          ],
          "name": "stdout"
        }
      ]
    }
  ]
}