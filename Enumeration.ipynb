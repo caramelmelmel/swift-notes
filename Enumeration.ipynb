{
  "nbformat": 4,
  "nbformat_minor": 0,
  "metadata": {
    "colab": {
      "name": "Enumeration.ipynb",
      "version": "0.3.2",
      "provenance": [],
      "collapsed_sections": [],
      "include_colab_link": true
    },
    "kernelspec": {
      "name": "swift",
      "display_name": "Swift"
    }
  },
  "cells": [
    {
      "cell_type": "markdown",
      "metadata": {
        "id": "view-in-github",
        "colab_type": "text"
      },
      "source": [
        "<a href=\"https://colab.research.google.com/github/kurniawano/swift-notes/blob/master/Enumeration.ipynb\" target=\"_parent\"><img src=\"https://colab.research.google.com/assets/colab-badge.svg\" alt=\"Open In Colab\"/></a>"
      ]
    },
    {
      "cell_type": "code",
      "metadata": {
        "id": "kZRlD4utdPuX",
        "colab_type": "code",
        "colab": {}
      },
      "source": [
        "// This is how you define enumeration\n",
        "\n",
        "enum MovementList{\n",
        "  case left\n",
        "  case forward\n",
        "  case right\n",
        "  case backward\n",
        "}"
      ],
      "execution_count": 0,
      "outputs": []
    },
    {
      "cell_type": "code",
      "metadata": {
        "id": "7WgTAPMKmA7I",
        "colab_type": "code",
        "outputId": "4f0dbac1-d215-4863-8fda-16641aa6e466",
        "colab": {
          "base_uri": "https://localhost:8080/",
          "height": 34
        }
      },
      "source": [
        "// This is how you initialize a variable with enumeration type\n",
        "\n",
        "var move = MovementList.forward\n",
        "print(move)"
      ],
      "execution_count": 0,
      "outputs": [
        {
          "output_type": "stream",
          "text": [
            "forward\r\n"
          ],
          "name": "stdout"
        }
      ]
    },
    {
      "cell_type": "code",
      "metadata": {
        "id": "AZ01xDoAmQfA",
        "colab_type": "code",
        "outputId": "52740f25-50f0-4755-d2e5-1069c7645bcd",
        "colab": {
          "base_uri": "https://localhost:8080/",
          "height": 34
        }
      },
      "source": [
        "// once a variable is initialized, the type can be infered\n",
        "move = .left\n",
        "print(move)"
      ],
      "execution_count": 0,
      "outputs": [
        {
          "output_type": "stream",
          "text": [
            "left\r\n"
          ],
          "name": "stdout"
        }
      ]
    },
    {
      "cell_type": "code",
      "metadata": {
        "id": "GP6E_cPbmgXH",
        "colab_type": "code",
        "outputId": "89b65594-9e4c-47de-fdab-1c4e451ab489",
        "colab": {
          "base_uri": "https://localhost:8080/",
          "height": 34
        }
      },
      "source": [
        "// You can use switch to match enumeration value\n",
        "\n",
        "move = .backward\n",
        "\n",
        "switch move{\n",
        "  case .left:\n",
        "    print(\"Avatar moves left.\")\n",
        "  case .right:\n",
        "    print(\"Avatar moves right.\")\n",
        "  case .forward:\n",
        "    print(\"Avatar moves forward.\")\n",
        "  case .backward:\n",
        "    print(\"Avatar moves backward.\")\n",
        "  default:\n",
        "    print(\"No moves.\")\n",
        "}"
      ],
      "execution_count": 0,
      "outputs": [
        {
          "output_type": "stream",
          "text": [
            "Avatar moves backward.\r\n"
          ],
          "name": "stdout"
        }
      ]
    },
    {
      "cell_type": "code",
      "metadata": {
        "id": "ng-cj6AioOkn",
        "colab_type": "code",
        "outputId": "aaf6e04d-7086-4dc0-ed91-367bdf5d9fdc",
        "colab": {
          "base_uri": "https://localhost:8080/",
          "height": 221
        }
      },
      "source": [
        "// This is how you make enum to be iterable, use CaseIterable\n",
        "\n",
        "enum Digits: CaseIterable{\n",
        "  case zero, one, two, three, four, five, six, seven, eight, nine\n",
        "}\n",
        "\n",
        "// You can access the cases from .allCases\n",
        "let numberOfDigits = Digits.allCases.count\n",
        "print(numberOfDigits)\n",
        "\n",
        "// type is Array\n",
        "print(type(of:Digits.allCases))\n",
        "\n",
        "for digit in Digits.allCases{\n",
        "  print(digit)\n",
        "}"
      ],
      "execution_count": 0,
      "outputs": [
        {
          "output_type": "stream",
          "text": [
            "10\r\n",
            "Array<Digits>\r\n",
            "zero\r\n",
            "one\r\n",
            "two\r\n",
            "three\r\n",
            "four\r\n",
            "five\r\n",
            "six\r\n",
            "seven\r\n",
            "eight\r\n",
            "nine\r\n"
          ],
          "name": "stdout"
        }
      ]
    },
    {
      "cell_type": "code",
      "metadata": {
        "id": "a_Un8LW6pTfK",
        "colab_type": "code",
        "outputId": "817ea8ab-16d8-4d95-f7e1-c234beb80891",
        "colab": {
          "base_uri": "https://localhost:8080/",
          "height": 85
        }
      },
      "source": [
        "// case in enum can be associated value\n",
        "\n",
        "enum Barcode{\n",
        "  case upc(Int, Int, Int, Int)\n",
        "  case qrCode(String)\n",
        "}\n",
        "\n",
        "var productBarcode = Barcode.upc(8, 85909, 51226, 3)\n",
        "print(productBarcode)\n",
        "\n",
        "switch productBarcode{\n",
        "  case .upc(let numberSystem, let manufacturer, let product, let check):\n",
        "    print(\"UPC: \\(numberSystem), \\(manufacturer), \\(product), \\(check).\")\n",
        "  case .qrCode(let productCode):\n",
        "    print(\"QR: \\(productCode).\")\n",
        "}\n",
        "\n",
        "productBarcode = Barcode.qrCode(\"ABCDEFG\")\n",
        "print(productBarcode)\n",
        "\n",
        "// you can put the keyword let outside if all uses let\n",
        "switch productBarcode{\n",
        "  case let .upc(numberSystem, manufacturer, product, check):\n",
        "    print(\"UPC: \\(numberSystem), \\(manufacturer), \\(product), \\(check).\")\n",
        "  case let .qrCode(productCode):\n",
        "    print(\"QR: \\(productCode).\")\n",
        "}"
      ],
      "execution_count": 0,
      "outputs": [
        {
          "output_type": "stream",
          "text": [
            "upc(8, 85909, 51226, 3)\r\n",
            "UPC: 8, 85909, 51226, 3.\r\n",
            "qrCode(\"ABCDEFG\")\r\n",
            "QR: ABCDEFG.\r\n"
          ],
          "name": "stdout"
        }
      ]
    },
    {
      "cell_type": "code",
      "metadata": {
        "id": "qo4q9OREqo11",
        "colab_type": "code",
        "outputId": "b868246b-8775-47b9-826b-eb32ea0e1d90",
        "colab": {
          "base_uri": "https://localhost:8080/",
          "height": 85
        }
      },
      "source": [
        "// This is to create enum with default values (or raw values) which are all of \n",
        "// the same type\n",
        "\n",
        "enum ASCIIControlCharacter: Character{\n",
        "  case tab = \"\\t\"\n",
        "  case lineFeed = \"\\n\"\n",
        "  case carriageReturn = \"\\r\"\n",
        "}\n",
        "\n",
        "print(\"Tab:\",ASCIIControlCharacter.tab.rawValue,\"|\")\n",
        "print(\"LineFeed:\",ASCIIControlCharacter.lineFeed.rawValue,\"|\")\n",
        "print(\"CarriageReturn:\",ASCIIControlCharacter.carriageReturn.rawValue,\"|\")"
      ],
      "execution_count": 0,
      "outputs": [
        {
          "output_type": "stream",
          "text": [
            "Tab: \t |\r\n",
            "LineFeed: \r\n",
            " |\r\n",
            "CarriageReturn: \r |\r\n"
          ],
          "name": "stdout"
        }
      ]
    },
    {
      "cell_type": "code",
      "metadata": {
        "id": "5N9zQnY_sZeY",
        "colab_type": "code",
        "outputId": "694765ee-a612-4744-cd7e-a16ca9aa2bef",
        "colab": {
          "base_uri": "https://localhost:8080/",
          "height": 34
        }
      },
      "source": [
        "// Can use the implicit raw value, by default the first element's raw value is set to 0\n",
        "enum Planet: Int{\n",
        "  case mercury = 1, venus, earth, mars, jupyter, saturn, uranus, neptune\n",
        "}\n",
        "\n",
        "print(Planet.venus.rawValue)"
      ],
      "execution_count": 0,
      "outputs": [
        {
          "output_type": "stream",
          "text": [
            "2\r\n"
          ],
          "name": "stdout"
        }
      ]
    },
    {
      "cell_type": "code",
      "metadata": {
        "id": "iFAJsapHtA5e",
        "colab_type": "code",
        "outputId": "5548af1c-83fb-4850-cb1f-3c9e249a1e5f",
        "colab": {
          "base_uri": "https://localhost:8080/",
          "height": 34
        }
      },
      "source": [
        "// You can initialize a variable using its raw value\n",
        "let myPlanet = Planet(rawValue: 3)\n",
        "print(myPlanet!)"
      ],
      "execution_count": 0,
      "outputs": [
        {
          "output_type": "stream",
          "text": [
            "earth\r\n"
          ],
          "name": "stdout"
        }
      ]
    },
    {
      "cell_type": "code",
      "metadata": {
        "id": "EwV9Wa99tkI2",
        "colab_type": "code",
        "outputId": "ec557b79-353a-4fec-e37c-a78523e6df84",
        "colab": {
          "base_uri": "https://localhost:8080/",
          "height": 71
        }
      },
      "source": [
        "// Recursive Enumeration\n",
        "\n",
        "indirect enum ArithmeticExpression{\n",
        "  case number(Int)\n",
        "  case addition(ArithmeticExpression, ArithmeticExpression)\n",
        "  case multiplication(ArithmeticExpression, ArithmeticExpression)\n",
        "}\n",
        "\n",
        "let five = ArithmeticExpression.number(5)\n",
        "let four = ArithmeticExpression.number(4)\n",
        "let sum = ArithmeticExpression.addition(five, four)\n",
        "let product = ArithmeticExpression.multiplication(sum, ArithmeticExpression.number(2))\n",
        "\n",
        "print(sum)\n",
        "print(product)"
      ],
      "execution_count": 0,
      "outputs": [
        {
          "output_type": "stream",
          "text": [
            "addition(__lldb_expr_207.ArithmeticExpression.number(5), __lldb_expr_207.ArithmeticExpression.number(4))\r\n",
            "multiplication(__lldb_expr_207.ArithmeticExpression.addition(__lldb_expr_207.ArithmeticExpression.number(5), __lldb_expr_207.ArithmeticExpression.number(4)), __lldb_expr_207.ArithmeticExpression.number(2))\r\n"
          ],
          "name": "stdout"
        }
      ]
    },
    {
      "cell_type": "code",
      "metadata": {
        "id": "RxvUG1RuuLch",
        "colab_type": "code",
        "outputId": "36d917b0-4a45-4c43-a4be-4b006e293802",
        "colab": {
          "base_uri": "https://localhost:8080/",
          "height": 34
        }
      },
      "source": [
        "// Recursive function to evaluate recursive enumeration type of data\n",
        "\n",
        "func evaluate(_ expression: ArithmeticExpression) -> Int{\n",
        "  switch expression{\n",
        "    case let .number(value):\n",
        "      return value\n",
        "    case let .addition(left, right):\n",
        "      return evaluate(left) + evaluate(right)\n",
        "    case let .multiplication(left, right):\n",
        "      return evaluate(left) * evaluate(right)\n",
        "  }\n",
        "}\n",
        "\n",
        "print(evaluate(product))"
      ],
      "execution_count": 0,
      "outputs": [
        {
          "output_type": "stream",
          "text": [
            "18\r\n"
          ],
          "name": "stdout"
        }
      ]
    }
  ]
}