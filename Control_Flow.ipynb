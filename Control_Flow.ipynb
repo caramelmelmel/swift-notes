{
  "nbformat": 4,
  "nbformat_minor": 0,
  "metadata": {
    "colab": {
      "name": "Control_Flow.ipynb",
      "version": "0.3.2",
      "provenance": [],
      "collapsed_sections": [],
      "include_colab_link": true
    },
    "kernelspec": {
      "name": "swift",
      "display_name": "Swift"
    }
  },
  "cells": [
    {
      "cell_type": "markdown",
      "metadata": {
        "id": "view-in-github",
        "colab_type": "text"
      },
      "source": [
        "<a href=\"https://colab.research.google.com/github/kurniawano/swift-notes/blob/master/Control_Flow.ipynb\" target=\"_parent\"><img src=\"https://colab.research.google.com/assets/colab-badge.svg\" alt=\"Open In Colab\"/></a>"
      ]
    },
    {
      "cell_type": "markdown",
      "metadata": {
        "id": "jnVbJhi7FfIX",
        "colab_type": "text"
      },
      "source": [
        "# For-In"
      ]
    },
    {
      "cell_type": "code",
      "metadata": {
        "id": "LAi25oWcFh-h",
        "colab_type": "code",
        "outputId": "0f2d403b-c43a-4937-b308-d911362dc38d",
        "colab": {
          "base_uri": "https://localhost:8080/",
          "height": 69
        }
      },
      "source": [
        "let items = [\"Milk\", \"Eggs\", \"Cereal\"]\n",
        "\n",
        "for item in items{\n",
        "  print(item)\n",
        "}"
      ],
      "execution_count": 0,
      "outputs": [
        {
          "output_type": "stream",
          "text": [
            "Milk\r\n",
            "Eggs\r\n",
            "Cereal\r\n"
          ],
          "name": "stdout"
        }
      ]
    },
    {
      "cell_type": "code",
      "metadata": {
        "id": "80_0O3NQFvwL",
        "colab_type": "code",
        "outputId": "a92c4c7b-d556-4062-8b8c-792495aa7243",
        "colab": {
          "base_uri": "https://localhost:8080/",
          "height": 69
        }
      },
      "source": [
        "let phonecodes = [65: \"Singapoe\", 62: \"Indonesia\", 61: \"Malaysia\"]\n",
        "\n",
        "for (code, country) in phonecodes{\n",
        "  print(\"+(\\(code)): \\(country)\")\n",
        "}"
      ],
      "execution_count": 0,
      "outputs": [
        {
          "output_type": "stream",
          "text": [
            "+(62): Indonesia\r\n",
            "+(65): Singapoe\r\n",
            "+(61): Malaysia\r\n"
          ],
          "name": "stdout"
        }
      ]
    },
    {
      "cell_type": "code",
      "metadata": {
        "id": "nJXt0tJzGDz8",
        "colab_type": "code",
        "outputId": "e220515a-379e-41a9-8b38-9672abf3aff0",
        "colab": {
          "base_uri": "https://localhost:8080/",
          "height": 103
        }
      },
      "source": [
        "for index in 1...5{\n",
        "  print(index)\n",
        "}"
      ],
      "execution_count": 0,
      "outputs": [
        {
          "output_type": "stream",
          "text": [
            "1\r\n",
            "2\r\n",
            "3\r\n",
            "4\r\n",
            "5\r\n"
          ],
          "name": "stdout"
        }
      ]
    },
    {
      "cell_type": "code",
      "metadata": {
        "id": "CmiA6lLiGMx4",
        "colab_type": "code",
        "outputId": "52c8d1d6-7a02-4a85-b93d-956ca121157d",
        "colab": {
          "base_uri": "https://localhost:8080/",
          "height": 103
        }
      },
      "source": [
        "for _ in 1...5{\n",
        "  print(\"HAPPY!\")\n",
        "}"
      ],
      "execution_count": 0,
      "outputs": [
        {
          "output_type": "stream",
          "text": [
            "HAPPY!\r\n",
            "HAPPY!\r\n",
            "HAPPY!\r\n",
            "HAPPY!\r\n",
            "HAPPY!\r\n"
          ],
          "name": "stdout"
        }
      ]
    },
    {
      "cell_type": "code",
      "metadata": {
        "id": "UoKzQZ-eGkSa",
        "colab_type": "code",
        "outputId": "25a65e23-a7e6-4eae-8d12-d4c817ccb9d0",
        "colab": {
          "base_uri": "https://localhost:8080/",
          "height": 138
        }
      },
      "source": [
        "for index in stride(from:1, to:15, by:2){\n",
        "  print(index)\n",
        "}"
      ],
      "execution_count": 0,
      "outputs": [
        {
          "output_type": "stream",
          "text": [
            "1\r\n",
            "3\r\n",
            "5\r\n",
            "7\r\n",
            "9\r\n",
            "11\r\n",
            "13\r\n"
          ],
          "name": "stdout"
        }
      ]
    },
    {
      "cell_type": "markdown",
      "metadata": {
        "id": "eQBEVxdzG--l",
        "colab_type": "text"
      },
      "source": [
        "# While Loop"
      ]
    },
    {
      "cell_type": "markdown",
      "metadata": {
        "id": "ga9SXHo5HA_y",
        "colab_type": "text"
      },
      "source": [
        "## While statement"
      ]
    },
    {
      "cell_type": "code",
      "metadata": {
        "id": "MVIei1kNHCO4",
        "colab_type": "code",
        "outputId": "65f652ba-5916-4790-c937-02ab901fddd4",
        "colab": {
          "base_uri": "https://localhost:8080/",
          "height": 190
        }
      },
      "source": [
        "var index = 0\n",
        "while index < 10{\n",
        "  print(index)\n",
        "  index += 1\n",
        "}"
      ],
      "execution_count": 0,
      "outputs": [
        {
          "output_type": "stream",
          "text": [
            "0\r\n",
            "1\r\n",
            "2\r\n",
            "3\r\n",
            "4\r\n",
            "5\r\n",
            "6\r\n",
            "7\r\n",
            "8\r\n",
            "9\r\n"
          ],
          "name": "stdout"
        }
      ]
    },
    {
      "cell_type": "markdown",
      "metadata": {
        "id": "HuyvUOrGKys9",
        "colab_type": "text"
      },
      "source": [
        "## Repeat While"
      ]
    },
    {
      "cell_type": "code",
      "metadata": {
        "id": "Mo2XOty_Kz37",
        "colab_type": "code",
        "outputId": "e54ba7e2-6de4-47eb-b3f0-25384895d1ee",
        "colab": {
          "base_uri": "https://localhost:8080/",
          "height": 190
        }
      },
      "source": [
        "var index = 0\n",
        "repeat{\n",
        "  print(index)\n",
        "  index += 1\n",
        "} while index < 10"
      ],
      "execution_count": 0,
      "outputs": [
        {
          "output_type": "stream",
          "text": [
            "0\r\n",
            "1\r\n",
            "2\r\n",
            "3\r\n",
            "4\r\n",
            "5\r\n",
            "6\r\n",
            "7\r\n",
            "8\r\n",
            "9\r\n"
          ],
          "name": "stdout"
        }
      ]
    },
    {
      "cell_type": "markdown",
      "metadata": {
        "id": "6ca0ijnzLNzn",
        "colab_type": "text"
      },
      "source": [
        "# If Statement"
      ]
    },
    {
      "cell_type": "code",
      "metadata": {
        "id": "fZAeMafyLPlo",
        "colab_type": "code",
        "outputId": "f8c76bbd-f1ee-4986-dfd7-d8de9bdc22f0",
        "colab": {
          "base_uri": "https://localhost:8080/",
          "height": 34
        }
      },
      "source": [
        "let grade = 76\n",
        "if grade >= 90 {\n",
        "  print(\"A\")\n",
        "} else if grade >= 80{\n",
        "  print(\"B\")\n",
        "} else {\n",
        "  print(\"C or below\")\n",
        "}"
      ],
      "execution_count": 0,
      "outputs": [
        {
          "output_type": "stream",
          "text": [
            "C or below\r\n"
          ],
          "name": "stdout"
        }
      ]
    },
    {
      "cell_type": "markdown",
      "metadata": {
        "id": "Jf8NeYeZLoK5",
        "colab_type": "text"
      },
      "source": [
        "# Switch Statement"
      ]
    },
    {
      "cell_type": "code",
      "metadata": {
        "id": "kbRtPoGJLpl0",
        "colab_type": "code",
        "outputId": "71e3adae-8a60-4932-a68a-41fde8cc3bcc",
        "colab": {
          "base_uri": "https://localhost:8080/",
          "height": 34
        }
      },
      "source": [
        "let code = 65\n",
        "switch code{\n",
        "  case 65:\n",
        "    print(\"Singapore\")\n",
        "  case 61:\n",
        "    print(\"Malaysia\")\n",
        "  case 62:\n",
        "    print(\"Indonesia\")\n",
        "  default:\n",
        "    print(\"Others\")\n",
        "}"
      ],
      "execution_count": 0,
      "outputs": [
        {
          "output_type": "stream",
          "text": [
            "Singapore\r\n"
          ],
          "name": "stdout"
        }
      ]
    },
    {
      "cell_type": "code",
      "metadata": {
        "id": "HN35lli0NW2x",
        "colab_type": "code",
        "outputId": "cbaff66e-b02e-4b1e-9ece-18d58ec8c608",
        "colab": {
          "base_uri": "https://localhost:8080/",
          "height": 34
        }
      },
      "source": [
        "let cmd = \"q\"\n",
        "switch cmd{\n",
        "  case \"q\", \"Q\", \"Quit\", \"quit\":\n",
        "    print(\"quit\")\n",
        "  default:\n",
        "    print(\"not quit\")\n",
        "}"
      ],
      "execution_count": 0,
      "outputs": [
        {
          "output_type": "stream",
          "text": [
            "quit\r\n"
          ],
          "name": "stdout"
        }
      ]
    },
    {
      "cell_type": "code",
      "metadata": {
        "id": "6lvYDE1JNxQ6",
        "colab_type": "code",
        "outputId": "a7707adc-e5dd-4784-fdee-2ec3fdabe1b4",
        "colab": {
          "base_uri": "https://localhost:8080/",
          "height": 34
        }
      },
      "source": [
        "let grade = 67\n",
        "switch grade{\n",
        "  case 90...100:\n",
        "    print(\"A\")\n",
        "  case 80..<90:\n",
        "    print(\"B\")\n",
        "  case 70..<80:\n",
        "    print(\"C\")\n",
        "  case 60..<70:\n",
        "    print(\"D\")\n",
        "  default:\n",
        "    print(\"F\")\n",
        "}"
      ],
      "execution_count": 0,
      "outputs": [
        {
          "output_type": "stream",
          "text": [
            "D\r\n"
          ],
          "name": "stdout"
        }
      ]
    },
    {
      "cell_type": "code",
      "metadata": {
        "id": "e2gJnwQVOMPX",
        "colab_type": "code",
        "outputId": "07f8de39-add3-4112-d3b9-4fb8653e2dd6",
        "colab": {
          "base_uri": "https://localhost:8080/",
          "height": 34
        }
      },
      "source": [
        "let point = (1,2)\n",
        "switch point{\n",
        "  case (0, 0):\n",
        "    print(\"At centre\")\n",
        "  case (0, _):\n",
        "    print(\"At y axis\")\n",
        "  case (_, 0):\n",
        "    print(\"At x axis\")\n",
        "  case (-2...2, -2...2):\n",
        "    print(\"Inside box\")\n",
        "  default:\n",
        "    print(\"Outside\")\n",
        "}"
      ],
      "execution_count": 0,
      "outputs": [
        {
          "output_type": "stream",
          "text": [
            "Inside box\r\n"
          ],
          "name": "stdout"
        }
      ]
    },
    {
      "cell_type": "code",
      "metadata": {
        "id": "WC2kcWcUPhpT",
        "colab_type": "code",
        "outputId": "b6e3f628-fd81-4196-eda9-26abc6156d9a",
        "colab": {
          "base_uri": "https://localhost:8080/",
          "height": 34
        }
      },
      "source": [
        "let point = (0,2)\n",
        "switch point{\n",
        "  case (0, 0):\n",
        "    print(\"At centre\")\n",
        "  case (0, let y):\n",
        "    print(\"At y axis, position \\(y)\")\n",
        "  case (let x, 0):\n",
        "    print(\"At x axis, position \\(x)\")\n",
        "  case (-2...2, -2...2):\n",
        "    print(\"Inside box\")\n",
        "  default:\n",
        "    print(\"Outside\")\n",
        "}"
      ],
      "execution_count": 0,
      "outputs": [
        {
          "output_type": "stream",
          "text": [
            "At y axis, position 2\r\n"
          ],
          "name": "stdout"
        }
      ]
    },
    {
      "cell_type": "code",
      "metadata": {
        "id": "hrIvPISwP0BZ",
        "colab_type": "code",
        "outputId": "cb1e38db-49de-4ace-e602-3c61d7bfb1f1",
        "colab": {
          "base_uri": "https://localhost:8080/",
          "height": 34
        }
      },
      "source": [
        "let point = (0,2)\n",
        "switch point{\n",
        "  case (0, 0):\n",
        "    print(\"At centre\")\n",
        "  case (0, let y) where y > 0:\n",
        "    print(\"At y axis, position \\(y) above 0\")\n",
        "  case (0, let y) where y < 0:\n",
        "    print(\"At y axis, position \\(y) below 0\")\n",
        "  case (let x, 0) where x>0:\n",
        "    print(\"At x axis, position \\(x) on the right of 0\")\n",
        "  case (let x, 0) where x<0:\n",
        "    print(\"At x axis, position \\(x) on the left of 0\")\n",
        "  case (-2...2, -2...2):\n",
        "    print(\"Inside box\")\n",
        "  default:\n",
        "    print(\"Outside\")\n",
        "}"
      ],
      "execution_count": 0,
      "outputs": [
        {
          "output_type": "stream",
          "text": [
            "At y axis, position 2 above 0\r\n"
          ],
          "name": "stdout"
        }
      ]
    },
    {
      "cell_type": "markdown",
      "metadata": {
        "id": "hf46rBvRvLFO",
        "colab_type": "text"
      },
      "source": [
        "# Control Transfer Statement"
      ]
    },
    {
      "cell_type": "markdown",
      "metadata": {
        "id": "g9fk3B-OvPL7",
        "colab_type": "text"
      },
      "source": [
        "## Break"
      ]
    },
    {
      "cell_type": "code",
      "metadata": {
        "id": "iCQp-9uCvRfX",
        "colab_type": "code",
        "outputId": "d423f761-a062-4947-dd6d-eb630348a4e7",
        "colab": {
          "base_uri": "https://localhost:8080/",
          "height": 121
        }
      },
      "source": [
        "var index = 0\n",
        "while true{\n",
        "  print(index)\n",
        "  if index == 5{\n",
        "    break\n",
        "  }\n",
        "  index += 1\n",
        "}"
      ],
      "execution_count": 0,
      "outputs": [
        {
          "output_type": "stream",
          "text": [
            "0\r\n",
            "1\r\n",
            "2\r\n",
            "3\r\n",
            "4\r\n",
            "5\r\n"
          ],
          "name": "stdout"
        }
      ]
    },
    {
      "cell_type": "code",
      "metadata": {
        "id": "aPz6ASzdvcbn",
        "colab_type": "code",
        "colab": {}
      },
      "source": [
        "let code = 61\n",
        "switch code{\n",
        "  case 65:\n",
        "    print(\"Singapore\")\n",
        "  case 61:\n",
        "    break\n",
        "  case 62:\n",
        "    print(\"Indonesia\")\n",
        "  default:\n",
        "    print(\"Others\")\n",
        "}"
      ],
      "execution_count": 0,
      "outputs": []
    },
    {
      "cell_type": "markdown",
      "metadata": {
        "id": "ypMLcR2wv3px",
        "colab_type": "text"
      },
      "source": [
        "## Continue"
      ]
    },
    {
      "cell_type": "code",
      "metadata": {
        "id": "7sRTEv70v5id",
        "colab_type": "code",
        "outputId": "0b851ca0-bfa1-4171-eea1-d34927387a4a",
        "colab": {
          "base_uri": "https://localhost:8080/",
          "height": 173
        }
      },
      "source": [
        "for index in 1...10{\n",
        "  if index == 5{\n",
        "    continue\n",
        "  }\n",
        "  print(index)\n",
        "}"
      ],
      "execution_count": 0,
      "outputs": [
        {
          "output_type": "stream",
          "text": [
            "1\r\n",
            "2\r\n",
            "3\r\n",
            "4\r\n",
            "6\r\n",
            "7\r\n",
            "8\r\n",
            "9\r\n",
            "10\r\n"
          ],
          "name": "stdout"
        }
      ]
    },
    {
      "cell_type": "markdown",
      "metadata": {
        "id": "7H_bNZNawHPk",
        "colab_type": "text"
      },
      "source": [
        "## Fallthrough"
      ]
    },
    {
      "cell_type": "code",
      "metadata": {
        "id": "vGfL4TrMwIPz",
        "colab_type": "code",
        "outputId": "e7431056-cd91-4326-e3ce-776b7c2431cb",
        "colab": {
          "base_uri": "https://localhost:8080/",
          "height": 51
        }
      },
      "source": [
        "let number = 2\n",
        "switch number{\n",
        "  case 2, 3, 5, 7, 9:\n",
        "    print(\"Prime\")\n",
        "    fallthrough\n",
        "  default:\n",
        "    print(\"Integer\")\n",
        "}"
      ],
      "execution_count": 0,
      "outputs": [
        {
          "output_type": "stream",
          "text": [
            "Prime\r\n",
            "Integer\r\n"
          ],
          "name": "stdout"
        }
      ]
    },
    {
      "cell_type": "markdown",
      "metadata": {
        "id": "PlS-UJl-xY7v",
        "colab_type": "text"
      },
      "source": [
        "## Labeled Statement"
      ]
    },
    {
      "cell_type": "code",
      "metadata": {
        "id": "Bo1vOVX4xaiI",
        "colab_type": "code",
        "outputId": "89e6cd2f-3e53-41da-95e1-c34aa32fd57b",
        "colab": {
          "base_uri": "https://localhost:8080/",
          "height": 259
        }
      },
      "source": [
        "loop1: for idx1 in 1...5{\n",
        "  loop2: for idx2 in 6...10{\n",
        "    if idx1 == 2 && idx2 == 7{\n",
        "      break loop2 // you wil not see 2 7\n",
        "    }\n",
        "    \n",
        "    print(idx1, idx2)\n",
        "    \n",
        "    if idx1==4 && idx2==8{\n",
        "      break loop1 // the last number you will see is 4 8\n",
        "    }\n",
        "  }\n",
        "}"
      ],
      "execution_count": 0,
      "outputs": [
        {
          "output_type": "stream",
          "text": [
            "1 6\r\n",
            "1 7\r\n",
            "1 8\r\n",
            "1 9\r\n",
            "1 10\r\n",
            "2 6\r\n",
            "3 6\r\n",
            "3 7\r\n",
            "3 8\r\n",
            "3 9\r\n",
            "3 10\r\n",
            "4 6\r\n",
            "4 7\r\n",
            "4 8\r\n"
          ],
          "name": "stdout"
        }
      ]
    },
    {
      "cell_type": "markdown",
      "metadata": {
        "id": "ygRgRpeUJVvk",
        "colab_type": "text"
      },
      "source": [
        "# Early Exit"
      ]
    },
    {
      "cell_type": "code",
      "metadata": {
        "id": "mUXucSmMJZET",
        "colab_type": "code",
        "outputId": "6eaf4cb8-45ef-4f97-f26c-09b78e685b03",
        "colab": {
          "base_uri": "https://localhost:8080/",
          "height": 51
        }
      },
      "source": [
        "let contact = [\"name\": \"John\", \"email\": \"email@email.net\"]\n",
        "\n",
        "func foo(contact: [String:String]){\n",
        " \n",
        "  guard let email = contact[\"email\"] else{\n",
        "    print(\"Email not found\")\n",
        "    return\n",
        "  }\n",
        "\n",
        "  print(email)\n",
        "  \n",
        "  guard let hp = contact[\"hp\"] else{\n",
        "    print(\"Email not found\")\n",
        "    return\n",
        "  } \n",
        "}\n",
        "\n",
        "foo(contact: contact)"
      ],
      "execution_count": 0,
      "outputs": [
        {
          "output_type": "stream",
          "text": [
            "email@email.net\r\n",
            "Email not found\r\n"
          ],
          "name": "stdout"
        }
      ]
    }
  ]
}