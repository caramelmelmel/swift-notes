{
  "nbformat": 4,
  "nbformat_minor": 0,
  "metadata": {
    "colab": {
      "name": "Protocol.ipynb",
      "version": "0.3.2",
      "provenance": [],
      "collapsed_sections": [],
      "include_colab_link": true
    },
    "kernelspec": {
      "name": "swift",
      "display_name": "Swift"
    }
  },
  "cells": [
    {
      "cell_type": "markdown",
      "metadata": {
        "id": "view-in-github",
        "colab_type": "text"
      },
      "source": [
        "<a href=\"https://colab.research.google.com/github/kurniawano/swift-notes/blob/master/Protocol.ipynb\" target=\"_parent\"><img src=\"https://colab.research.google.com/assets/colab-badge.svg\" alt=\"Open In Colab\"/></a>"
      ]
    },
    {
      "cell_type": "markdown",
      "metadata": {
        "id": "eH6cCDlO3tEx",
        "colab_type": "text"
      },
      "source": [
        "# Protocol\n",
        "\n",
        "A protocol defines a blueprint of methods, properties, and other requirements that suit a particular task or piece of functionality. The protocol can then be adopted by a class, structure, or enumeration to provide an actual implementation of those requirements. Any type that satisfies the requirements of a protocol is said to conform to that protocol.\n",
        "\n",
        "## Syntax"
      ]
    },
    {
      "cell_type": "markdown",
      "metadata": {
        "id": "c5bD7woHEJJX",
        "colab_type": "text"
      },
      "source": [
        "### Property Requirement"
      ]
    },
    {
      "cell_type": "code",
      "metadata": {
        "id": "kZRlD4utdPuX",
        "colab_type": "code",
        "colab": {}
      },
      "source": [
        "protocol StateMachine{\n",
        "  var startState: Int {get set} // property requirements\n",
        "}"
      ],
      "execution_count": 0,
      "outputs": []
    },
    {
      "cell_type": "markdown",
      "metadata": {
        "id": "L29mqGFW57LS",
        "colab_type": "text"
      },
      "source": [
        "The above protocol specifies that any type conforming to StateMachine protocol must have a `startState` property. "
      ]
    },
    {
      "cell_type": "code",
      "metadata": {
        "id": "6oz-z0le6Od8",
        "colab_type": "code",
        "colab": {}
      },
      "source": [
        "class CM: StateMachine{ // indicate that SM conform to StateMachine Protocol\n",
        "  var startState: Int = 0\n",
        "}"
      ],
      "execution_count": 0,
      "outputs": []
    },
    {
      "cell_type": "markdown",
      "metadata": {
        "id": "2NFNpd4e6NHq",
        "colab_type": "text"
      },
      "source": [
        "Class `SM` conforms to `StateMachine` protocol and so must implement the two properties `startState``."
      ]
    },
    {
      "cell_type": "code",
      "metadata": {
        "id": "uRhNpZ4r67gy",
        "colab_type": "code",
        "outputId": "e9b3f74b-59c2-4397-84e0-12591208ae82",
        "colab": {
          "base_uri": "https://localhost:8080/",
          "height": 34
        }
      },
      "source": [
        "let cm = CM()\n",
        "print(cm.startState)"
      ],
      "execution_count": 17,
      "outputs": [
        {
          "output_type": "stream",
          "text": [
            "0\r\n"
          ],
          "name": "stdout"
        }
      ]
    },
    {
      "cell_type": "markdown",
      "metadata": {
        "id": "WlXTuQqzEMWJ",
        "colab_type": "text"
      },
      "source": [
        "### Method Requirement"
      ]
    },
    {
      "cell_type": "code",
      "metadata": {
        "id": "t3-YDfHb7Ib8",
        "colab_type": "code",
        "colab": {}
      },
      "source": [
        "protocol StateMachine: AnyObject{ // AnyObject ensures that only class-type conforms to StateMachine, not struct or enum\n",
        "  var startState: Int? {get set} \n",
        "  \n",
        "  // Method requirement\n",
        "  func getNextValues(state: Int?, inp: Int) -> (Int?, Int?)\n",
        "}"
      ],
      "execution_count": 0,
      "outputs": []
    },
    {
      "cell_type": "markdown",
      "metadata": {
        "id": "05v5UGYxEZAi",
        "colab_type": "text"
      },
      "source": [
        "Creating a base class `SM` for all State Machine class."
      ]
    },
    {
      "cell_type": "code",
      "metadata": {
        "id": "XpJrWbcv7h5G",
        "colab_type": "code",
        "colab": {}
      },
      "source": [
        "class SM{ \n",
        "  var startState: Int?\n",
        "  var state: Int?\n",
        "\n",
        "  func start(){\n",
        "    state = startState\n",
        "  }\n",
        "\n",
        "  func step(inp: Int) -> Int?{\n",
        "    var nextState: Int?\n",
        "    var output: Int?\n",
        "    (nextState, output) = getNextValues(state: state, inp: inp)\n",
        "    state = nextState\n",
        "    return output\n",
        "  }\n",
        "\n",
        "  func transduce(listInput: [Int]) -> [Int?]{\n",
        "    var output = [Int?]()\n",
        "    start()\n",
        "    for inp in listInput{\n",
        "      output.append(step(inp: inp))\n",
        "    }\n",
        "    return output\n",
        "  }\n",
        "\n",
        "  func getNextValues(state: Int?, inp: Int) -> (Int?, Int?){\n",
        "    preconditionFailure(\"This method must be overridden\")\n",
        "    //return (0,0)\n",
        "  }\n",
        "}"
      ],
      "execution_count": 0,
      "outputs": []
    },
    {
      "cell_type": "markdown",
      "metadata": {
        "id": "ZIZ6-uTpEe1y",
        "colab_type": "text"
      },
      "source": [
        "Any other state machine class inherits from SM and must conform to StateMachine protocol."
      ]
    },
    {
      "cell_type": "code",
      "metadata": {
        "id": "dPePY0sy-G9R",
        "colab_type": "code",
        "colab": {}
      },
      "source": [
        "class CM: SM, StateMachine{ // CM inherits from SM and conforms to StateMachine Protocol\n",
        "  override init(){\n",
        "    super.init()\n",
        "    startState = 0\n",
        "  }\n",
        "  override func getNextValues(state: Int?, inp: Int) -> (Int?, Int?){\n",
        "    var nextState: Int \n",
        "    var output: Int \n",
        "    if let curState = state{\n",
        "      if curState == 0{\n",
        "        if inp == 100{\n",
        "          nextState = 0\n",
        "          output = 1\n",
        "        } else if inp == 50{\n",
        "          nextState = 1\n",
        "          output = 0\n",
        "        } else{\n",
        "          nextState = 0\n",
        "          output = 0\n",
        "        }\n",
        "      } else{\n",
        "        if inp == 50 {\n",
        "          nextState = 0\n",
        "          output = 1\n",
        "        } else if inp == 100{\n",
        "          nextState = 0\n",
        "          output = 1\n",
        "        } else{\n",
        "          nextState = 1\n",
        "          output = 0\n",
        "        }\n",
        "      }\n",
        "      return (nextState, output)\n",
        "    } else{\n",
        "      return (nil, nil)\n",
        "    }\n",
        "  }\n",
        "}"
      ],
      "execution_count": 0,
      "outputs": []
    },
    {
      "cell_type": "code",
      "metadata": {
        "id": "yEBmCBenAqfn",
        "colab_type": "code",
        "outputId": "eaae243b-7d6b-4040-b324-3ba3d158ca4d",
        "colab": {
          "base_uri": "https://localhost:8080/",
          "height": 34
        }
      },
      "source": [
        "let cm = CM()\n",
        "print(cm.transduce(listInput: [50, 50, 100, 10]))"
      ],
      "execution_count": 21,
      "outputs": [
        {
          "output_type": "stream",
          "text": [
            "[Optional(0), Optional(1), Optional(1), Optional(0)]\r\n"
          ],
          "name": "stdout"
        }
      ]
    },
    {
      "cell_type": "markdown",
      "metadata": {
        "id": "6uGO28E4D7XO",
        "colab_type": "text"
      },
      "source": [
        "## Generics and Protocol"
      ]
    },
    {
      "cell_type": "markdown",
      "metadata": {
        "id": "tO1F_DF4Esst",
        "colab_type": "text"
      },
      "source": [
        "When defining a protocol, it’s sometimes useful to declare one or more associated types as part of the protocol’s definition. An associated type gives a placeholder name to a type that is used as part of the protocol. The actual type to use for that associated type isn’t specified until the protocol is adopted. Associated types are specified with the associatedtype keyword."
      ]
    },
    {
      "cell_type": "code",
      "metadata": {
        "id": "LXVqd0bPD9OQ",
        "colab_type": "code",
        "colab": {}
      },
      "source": [
        "protocol StateMachine: AnyObject{ // AnyObject ensures that only class-type conforms to StateMachine, not struct or enum\n",
        "\n",
        "  // define associated type here\n",
        "  associatedtype State\n",
        "  associatedtype Input\n",
        "  associatedtype Output\n",
        "\n",
        "  // we use Input associated type for startState\n",
        "  var startState: State? {get set} \n",
        "  \n",
        "  func getNextValues(state: State?, inp: Input) -> (State?, Output?)\n",
        "}"
      ],
      "execution_count": 0,
      "outputs": []
    },
    {
      "cell_type": "code",
      "metadata": {
        "id": "TqUmnWeUFMCK",
        "colab_type": "code",
        "colab": {}
      },
      "source": [
        "class SM<State, Input, Output>{ \n",
        "\n",
        "  var startState: State?\n",
        "  var state: State?\n",
        "\n",
        "  func start(){\n",
        "    state = startState\n",
        "  }\n",
        "\n",
        "  func step(inp: Input) -> Output?{\n",
        "    var nextState: State?\n",
        "    var output: Output?\n",
        "    (nextState, output) = getNextValues(state: state, inp: inp)\n",
        "    state = nextState\n",
        "    return output\n",
        "  }\n",
        "\n",
        "  func transduce(listInput: [Input]) -> [Output?]{\n",
        "    var output = [Output?]()\n",
        "    start()\n",
        "    for inp in listInput{\n",
        "      output.append(step(inp: inp))\n",
        "    }\n",
        "    return output\n",
        "  }\n",
        "\n",
        "  func getNextValues(state: State?, inp: Input) -> (State?, Output?){\n",
        "    preconditionFailure(\"This method must be overridden\")\n",
        "  }\n",
        "}"
      ],
      "execution_count": 0,
      "outputs": []
    },
    {
      "cell_type": "code",
      "metadata": {
        "id": "qy022CsSGDUS",
        "colab_type": "code",
        "colab": {}
      },
      "source": [
        "class CM: SM<Int,Int,(Int, String, Int)>, StateMachine{ // CM inherits from SM and conforms to StateMachine Protocol\n",
        "\n",
        "  typealias State = Int \n",
        "  typealias Input = Int \n",
        "  typealias Output = (Int, String, Int) // (coin inside, output, change)\n",
        "\n",
        "  override init(){\n",
        "    super.init()\n",
        "    startState = 0\n",
        "  }\n",
        "  override func getNextValues(state: State?, inp: Input) -> (State?, Output?){\n",
        "    var nextState: State \n",
        "    var output: Output \n",
        "    if let curState = state{\n",
        "      if curState == 0{\n",
        "        if inp == 100{\n",
        "          nextState = 0\n",
        "          output = (0, \"Coke\", 0)\n",
        "        } else if inp == 50{\n",
        "          nextState = 1\n",
        "          output = (50, \"\", 0)\n",
        "        } else{\n",
        "          nextState = 0\n",
        "          output = (inp, \"\", inp)\n",
        "        }\n",
        "      } else{\n",
        "        if inp == 50 {\n",
        "          nextState = 0\n",
        "          output = (0, \"Coke\", 0)\n",
        "        } else if inp == 100{\n",
        "          nextState = 0\n",
        "          output = (0, \"Coke\", 50)\n",
        "        } else{\n",
        "          nextState = 1\n",
        "          output = (50, \"\", inp)\n",
        "        }\n",
        "      }\n",
        "      return (nextState, output)\n",
        "    } else{\n",
        "      return (nil, nil)\n",
        "    }\n",
        "  }\n",
        "}"
      ],
      "execution_count": 0,
      "outputs": []
    },
    {
      "cell_type": "code",
      "metadata": {
        "id": "ruh0HeO7Gziu",
        "colab_type": "code",
        "outputId": "e2066deb-408e-46cd-8180-2bc14c3205cd",
        "colab": {
          "base_uri": "https://localhost:8080/",
          "height": 34
        }
      },
      "source": [
        "let cm = CM()\n",
        "print(cm.transduce(listInput: [50, 50, 100, 10]))"
      ],
      "execution_count": 25,
      "outputs": [
        {
          "output_type": "stream",
          "text": [
            "[Optional((50, \"\", 0)), Optional((0, \"Coke\", 0)), Optional((0, \"Coke\", 0)), Optional((10, \"\", 10))]\r\n"
          ],
          "name": "stdout"
        }
      ]
    }
  ]
}