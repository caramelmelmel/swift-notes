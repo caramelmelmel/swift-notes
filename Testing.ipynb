{
  "nbformat": 4,
  "nbformat_minor": 0,
  "metadata": {
    "colab": {
      "name": "Testing.ipynb",
      "version": "0.3.2",
      "provenance": [],
      "collapsed_sections": [],
      "include_colab_link": true
    },
    "kernelspec": {
      "name": "swift",
      "display_name": "Swift"
    }
  },
  "cells": [
    {
      "cell_type": "markdown",
      "metadata": {
        "id": "view-in-github",
        "colab_type": "text"
      },
      "source": [
        "<a href=\"https://colab.research.google.com/github/kurniawano/swift-notes/blob/master/Testing.ipynb\" target=\"_parent\"><img src=\"https://colab.research.google.com/assets/colab-badge.svg\" alt=\"Open In Colab\"/></a>"
      ]
    },
    {
      "cell_type": "markdown",
      "metadata": {
        "id": "tOxr8g619rtI",
        "colab_type": "text"
      },
      "source": [
        "# Assertion and Precondition\n",
        "\n",
        "Assertions and preconditions are checks that happen at runtime. You use them to make sure an essential condition is satisfied before executing any further code. If the Boolean condition in the assertion or precondition evaluates to true, code execution continues as usual. If the condition evaluates to false, the current state of the program is invalid; code execution ends, and your app is terminated.\n",
        "\n",
        "The difference between assertions and preconditions is in when they’re checked: Assertions are checked only in debug builds, but preconditions are checked in both debug and production builds. In production builds, the condition inside an assertion isn’t evaluated. This means you can use as many assertions as you want during your development process, without impacting performance in production.\n",
        "\n"
      ]
    },
    {
      "cell_type": "code",
      "metadata": {
        "id": "cpT8fElU-EE7",
        "colab_type": "code",
        "outputId": "fc7a195a-adf9-49b3-951f-1d0926945515",
        "colab": {
          "base_uri": "https://localhost:8080/",
          "height": 34
        }
      },
      "source": [
        "let age = 4\n",
        "assert(age>=3)\n",
        "print(\"this will be shown.\")"
      ],
      "execution_count": 0,
      "outputs": [
        {
          "output_type": "stream",
          "text": [
            "this will be shown.\r\n"
          ],
          "name": "stdout"
        }
      ]
    },
    {
      "cell_type": "code",
      "metadata": {
        "id": "8m2yg-FK-Ln1",
        "colab_type": "code",
        "outputId": "8d2d0a1d-142d-4210-b2d9-d5de4dd3e07a",
        "colab": {
          "base_uri": "https://localhost:8080/",
          "height": 232
        }
      },
      "source": [
        "let age = 2\n",
        "assert(age>=3) //error will be thrown here \"Assertion failed\"\n",
        "print(\"this will not be shown\")"
      ],
      "execution_count": 0,
      "outputs": [
        {
          "output_type": "stream",
          "text": [
            "Assertion failed: file <Cell 3>, line 2\r\n",
            "Current stack trace:\r\n",
            "0    libswiftCore.so                    0x00007ffaa73c34a0 _swift_stdlib_reportFatalErrorInFile + 115\r\n",
            "1    libswiftCore.so                    0x00007ffaa730b30c <unavailable> + 3035916\r\n",
            "2    libswiftCore.so                    0x00007ffaa730b3fe <unavailable> + 3036158\r\n",
            "3    libswiftCore.so                    0x00007ffaa7152736 <unavailable> + 1230646\r\n",
            "4    libswiftCore.so                    0x00007ffaa72d8292 <unavailable> + 2826898\r\n",
            "5    libswiftCore.so                    0x00007ffaa7151ba9 <unavailable> + 1227689\r\n"
          ],
          "name": "stdout"
        },
        {
          "output_type": "error",
          "ename": "",
          "evalue": "ignored",
          "traceback": [
            "Current stack trace:",
            "\tframe #2: 0x00007ffad4b2ce66 $__lldb_expr25`main at <Cell 3>:2:1"
          ]
        }
      ]
    },
    {
      "cell_type": "markdown",
      "metadata": {
        "id": "-VJjVzLc-g0L",
        "colab_type": "text"
      },
      "source": [
        "You can put an assertion message."
      ]
    },
    {
      "cell_type": "code",
      "metadata": {
        "id": "xqCVTGLO-jTM",
        "colab_type": "code",
        "outputId": "4f28fb6f-d604-4ba3-8a56-aa176a0aacaf",
        "colab": {
          "base_uri": "https://localhost:8080/",
          "height": 232
        }
      },
      "source": [
        "let age = 2\n",
        "assert(age >= 3, \"Age must be greater than or equal to 3.\")"
      ],
      "execution_count": 0,
      "outputs": [
        {
          "output_type": "stream",
          "text": [
            "Assertion failed: Age must be greater than or equal to 3.: file <Cell 4>, line 2\r\n",
            "Current stack trace:\r\n",
            "0    libswiftCore.so                    0x00007ffaa73c34a0 _swift_stdlib_reportFatalErrorInFile + 115\r\n",
            "1    libswiftCore.so                    0x00007ffaa730b30c <unavailable> + 3035916\r\n",
            "2    libswiftCore.so                    0x00007ffaa730b3fe <unavailable> + 3036158\r\n",
            "3    libswiftCore.so                    0x00007ffaa71526c2 <unavailable> + 1230530\r\n",
            "4    libswiftCore.so                    0x00007ffaa72d8292 <unavailable> + 2826898\r\n",
            "5    libswiftCore.so                    0x00007ffaa7151ba9 <unavailable> + 1227689\r\n"
          ],
          "name": "stdout"
        },
        {
          "output_type": "error",
          "ename": "",
          "evalue": "ignored",
          "traceback": [
            "Current stack trace:",
            "\tframe #2: 0x00007ffad4b2cfbc $__lldb_expr29`main at <Cell 4>:2:1"
          ]
        }
      ]
    },
    {
      "cell_type": "markdown",
      "metadata": {
        "id": "EmVQMM1bAlVY",
        "colab_type": "text"
      },
      "source": [
        "Use a precondition whenever a condition has the potential to be false, but must definitely be true for your code to continue execution. For example, use a precondition to check that a subscript is not out of bounds, or to check that a function has been passed a valid value."
      ]
    },
    {
      "cell_type": "code",
      "metadata": {
        "id": "RaKEYUTOAnoa",
        "colab_type": "code",
        "outputId": "3c3a8e8a-2526-4c94-b5b0-92f4beb55020",
        "colab": {
          "base_uri": "https://localhost:8080/",
          "height": 249
        }
      },
      "source": [
        "let index1 = 2\n",
        "let index2 = -1\n",
        "\n",
        "precondition(index1 >= 0)\n",
        "print(\"precondition pass for index1.\")\n",
        "precondition(index2 >= 0)\n",
        "print(\"precondition pass for index2.\")"
      ],
      "execution_count": 0,
      "outputs": [
        {
          "output_type": "stream",
          "text": [
            "precondition pass for index1.\r\n",
            "Precondition failed: file <Cell 5>, line 6\r\n",
            "Current stack trace:\r\n",
            "0    libswiftCore.so                    0x00007ffaa73c34a0 _swift_stdlib_reportFatalErrorInFile + 115\r\n",
            "1    libswiftCore.so                    0x00007ffaa730b30c <unavailable> + 3035916\r\n",
            "2    libswiftCore.so                    0x00007ffaa730b3fe <unavailable> + 3036158\r\n",
            "3    libswiftCore.so                    0x00007ffaa7152736 <unavailable> + 1230646\r\n",
            "4    libswiftCore.so                    0x00007ffaa72d8292 <unavailable> + 2826898\r\n",
            "5    libswiftCore.so                    0x00007ffaa7151ba9 <unavailable> + 1227689\r\n"
          ],
          "name": "stdout"
        },
        {
          "output_type": "error",
          "ename": "",
          "evalue": "ignored",
          "traceback": [
            "Current stack trace:",
            "\tframe #2: 0x00007ffad4b231e4 $__lldb_expr33`main at <Cell 5>:6:1"
          ]
        }
      ]
    }
  ]
}