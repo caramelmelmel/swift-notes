{
  "nbformat": 4,
  "nbformat_minor": 0,
  "metadata": {
    "colab": {
      "name": "Operators.ipynb",
      "version": "0.3.2",
      "provenance": [],
      "collapsed_sections": [],
      "include_colab_link": true
    },
    "kernelspec": {
      "name": "swift",
      "display_name": "Swift"
    }
  },
  "cells": [
    {
      "cell_type": "markdown",
      "metadata": {
        "id": "view-in-github",
        "colab_type": "text"
      },
      "source": [
        "<a href=\"https://colab.research.google.com/github/kurniawano/swift-notes/blob/master/Operators.ipynb\" target=\"_parent\"><img src=\"https://colab.research.google.com/assets/colab-badge.svg\" alt=\"Open In Colab\"/></a>"
      ]
    },
    {
      "cell_type": "markdown",
      "metadata": {
        "id": "p5j4tU8WBspL",
        "colab_type": "text"
      },
      "source": [
        "# Assignment Operator"
      ]
    },
    {
      "cell_type": "code",
      "metadata": {
        "id": "f626pQPOBvYQ",
        "colab_type": "code",
        "outputId": "59af6ab1-a59c-43d6-9b02-66dc39bb1457",
        "colab": {
          "base_uri": "https://localhost:8080/",
          "height": 68
        }
      },
      "source": [
        "let b = 10\n",
        "var a = 4\n",
        "print(a)\n",
        "a = b\n",
        "print(a)\n",
        "let (c, d) = (11, 12)\n",
        "print(c, d)"
      ],
      "execution_count": 0,
      "outputs": [
        {
          "output_type": "stream",
          "text": [
            "4\r\n",
            "10\r\n",
            "11 12\r\n"
          ],
          "name": "stdout"
        }
      ]
    },
    {
      "cell_type": "code",
      "metadata": {
        "id": "9zR4hyI7B_kn",
        "colab_type": "code",
        "outputId": "5ce26d88-0115-4b70-b61a-8e4d8db3826a",
        "colab": {
          "base_uri": "https://localhost:8080/",
          "height": 147
        }
      },
      "source": [
        "print(a = b)\n",
        "\n",
        "if a = b {\n",
        "  print(\"not here\")\n",
        "} else{\n",
        "  print(\"here\")\n",
        "}"
      ],
      "execution_count": 0,
      "outputs": [
        {
          "output_type": "error",
          "ename": "",
          "evalue": "ignored",
          "traceback": [
            "error: <Cell 6>:3:6: error: use of '=' in a boolean context, did you mean '=='?\nif a = b {\n   ~ ^ ~\n     ==\n\n"
          ]
        }
      ]
    },
    {
      "cell_type": "markdown",
      "metadata": {
        "id": "W6ETRxkQCg2A",
        "colab_type": "text"
      },
      "source": [
        "# Arithmetic Operators"
      ]
    },
    {
      "cell_type": "code",
      "metadata": {
        "id": "xP2Yh6-ZCf_5",
        "colab_type": "code",
        "outputId": "4c5c039f-3487-47ae-a3c2-f035b9579427",
        "colab": {
          "base_uri": "https://localhost:8080/",
          "height": 119
        }
      },
      "source": [
        "print( 4 + 5)\n",
        "print( 4 - 5)\n",
        "print( 4 * 5)\n",
        "print( 4 / 5)\n",
        "print( 4.0 / 5)\n",
        "print( 7 % 2)"
      ],
      "execution_count": 0,
      "outputs": [
        {
          "output_type": "stream",
          "text": [
            "9\r\n",
            "-1\r\n",
            "20\r\n",
            "0\r\n",
            "0.8\r\n",
            "1\r\n"
          ],
          "name": "stdout"
        }
      ]
    },
    {
      "cell_type": "code",
      "metadata": {
        "id": "aczx2KbVCvNn",
        "colab_type": "code",
        "outputId": "7693dba0-f9b3-48be-ed35-747715e42de6",
        "colab": {
          "base_uri": "https://localhost:8080/",
          "height": 34
        }
      },
      "source": [
        "print(\"4\" + \" \" + \"5\")"
      ],
      "execution_count": 0,
      "outputs": [
        {
          "output_type": "stream",
          "text": [
            "4 5\r\n"
          ],
          "name": "stdout"
        }
      ]
    },
    {
      "cell_type": "markdown",
      "metadata": {
        "id": "PFIaHCjDDMHJ",
        "colab_type": "text"
      },
      "source": [
        "# Compound Assignment Operator"
      ]
    },
    {
      "cell_type": "code",
      "metadata": {
        "id": "9zJOphFrDNzg",
        "colab_type": "code",
        "outputId": "8817d2cb-c40a-47fd-f30f-80c380260f44",
        "colab": {
          "base_uri": "https://localhost:8080/",
          "height": 85
        }
      },
      "source": [
        "var counter = 1\n",
        "print(counter)\n",
        "counter += 2\n",
        "print(counter)\n",
        "counter -= 1\n",
        "print(counter)\n",
        "counter += 3\n",
        "counter *= 2\n",
        "print(counter)"
      ],
      "execution_count": 0,
      "outputs": [
        {
          "output_type": "stream",
          "text": [
            "1\r\n",
            "3\r\n",
            "2\r\n",
            "10\r\n"
          ],
          "name": "stdout"
        }
      ]
    },
    {
      "cell_type": "markdown",
      "metadata": {
        "id": "1RQ3MKk7Dma9",
        "colab_type": "text"
      },
      "source": [
        "# Comparison Operator"
      ]
    },
    {
      "cell_type": "code",
      "metadata": {
        "id": "xEHSaJ_HDnui",
        "colab_type": "code",
        "outputId": "2dab1982-8c26-4d8c-80e2-01360f87d2d6",
        "colab": {
          "base_uri": "https://localhost:8080/",
          "height": 119
        }
      },
      "source": [
        "let score = 87\n",
        "print(score == 90)\n",
        "print(score > 90)\n",
        "print(score >= 90)\n",
        "print(score <= 90)\n",
        "print(score < 90)\n",
        "print(score != 90)"
      ],
      "execution_count": 0,
      "outputs": [
        {
          "output_type": "stream",
          "text": [
            "false\r\n",
            "false\r\n",
            "false\r\n",
            "true\r\n",
            "true\r\n",
            "true\r\n"
          ],
          "name": "stdout"
        }
      ]
    },
    {
      "cell_type": "markdown",
      "metadata": {
        "id": "09o77hhTET2V",
        "colab_type": "text"
      },
      "source": [
        "# Logical Operator"
      ]
    },
    {
      "cell_type": "code",
      "metadata": {
        "id": "XxMsAk7RD7Jl",
        "colab_type": "code",
        "outputId": "5aa0f5c9-286f-4daf-9bdc-58a53ee7b0a0",
        "colab": {
          "base_uri": "https://localhost:8080/",
          "height": 68
        }
      },
      "source": [
        "let young = true\n",
        "let old = false\n",
        "//not\n",
        "print(!young)\n",
        "//and\n",
        "print(young && old)\n",
        "//or\n",
        "print(young || old)"
      ],
      "execution_count": 0,
      "outputs": [
        {
          "output_type": "stream",
          "text": [
            "false\r\n",
            "false\r\n",
            "true\r\n"
          ],
          "name": "stdout"
        }
      ]
    },
    {
      "cell_type": "markdown",
      "metadata": {
        "id": "TugOGHLcEWJl",
        "colab_type": "text"
      },
      "source": [
        "# Ternary Conditional Operator"
      ]
    },
    {
      "cell_type": "code",
      "metadata": {
        "id": "NnQLAuYGEbHc",
        "colab_type": "code",
        "outputId": "83966e34-4a95-4216-f416-a4e07484ba3b",
        "colab": {
          "base_uri": "https://localhost:8080/",
          "height": 34
        }
      },
      "source": [
        "let student = false\n",
        "let cost = student ? 10: 50\n",
        "print(cost)"
      ],
      "execution_count": 0,
      "outputs": [
        {
          "output_type": "stream",
          "text": [
            "50\r\n"
          ],
          "name": "stdout"
        }
      ]
    },
    {
      "cell_type": "markdown",
      "metadata": {
        "id": "sL855W-AFHwr",
        "colab_type": "text"
      },
      "source": [
        "# Nil-Coalescing Operator"
      ]
    },
    {
      "cell_type": "code",
      "metadata": {
        "id": "wv1xjv3kFLbJ",
        "colab_type": "code",
        "outputId": "d1120554-9aed-45a3-df1c-cf952fb361bf",
        "colab": {
          "base_uri": "https://localhost:8080/",
          "height": 51
        }
      },
      "source": [
        "let defaultVal = \"default\"\n",
        "var enterName: String? \n",
        "\n",
        "var data = enterName ?? defaultVal\n",
        "print(data)\n",
        "enterName = \"James Bond\"\n",
        "data = enterName ?? defaultVal\n",
        "print(data)"
      ],
      "execution_count": 0,
      "outputs": [
        {
          "output_type": "stream",
          "text": [
            "default\r\n",
            "James Bond\r\n"
          ],
          "name": "stdout"
        }
      ]
    },
    {
      "cell_type": "markdown",
      "metadata": {
        "id": "tO0OhSKMF56n",
        "colab_type": "text"
      },
      "source": [
        "# Range Operators"
      ]
    },
    {
      "cell_type": "markdown",
      "metadata": {
        "id": "VZpghgDrF_3_",
        "colab_type": "text"
      },
      "source": [
        "## Closed Range Operator\n",
        "\n",
        "Use a...b"
      ]
    },
    {
      "cell_type": "code",
      "metadata": {
        "id": "S3LdQn5YF7ZQ",
        "colab_type": "code",
        "outputId": "6fb25ef5-8544-4b5d-bd36-52b2a69d0fe8",
        "colab": {
          "base_uri": "https://localhost:8080/",
          "height": 204
        }
      },
      "source": [
        "for index in 0...10{\n",
        "  print(index)\n",
        "}"
      ],
      "execution_count": 0,
      "outputs": [
        {
          "output_type": "stream",
          "text": [
            "0\r\n",
            "1\r\n",
            "2\r\n",
            "3\r\n",
            "4\r\n",
            "5\r\n",
            "6\r\n",
            "7\r\n",
            "8\r\n",
            "9\r\n",
            "10\r\n"
          ],
          "name": "stdout"
        }
      ]
    },
    {
      "cell_type": "markdown",
      "metadata": {
        "id": "GMwi2HbAGKpO",
        "colab_type": "text"
      },
      "source": [
        "## Half-Open Range Operator\n",
        "\n",
        "Use a..<b"
      ]
    },
    {
      "cell_type": "code",
      "metadata": {
        "id": "8nH68lSHGTPT",
        "colab_type": "code",
        "outputId": "8832934e-059b-4579-dfe6-0d3d6188be2e",
        "colab": {
          "base_uri": "https://localhost:8080/",
          "height": 102
        }
      },
      "source": [
        "for index in 0..<5{\n",
        "  print(index)\n",
        "}"
      ],
      "execution_count": 0,
      "outputs": [
        {
          "output_type": "stream",
          "text": [
            "0\r\n",
            "1\r\n",
            "2\r\n",
            "3\r\n",
            "4\r\n"
          ],
          "name": "stdout"
        }
      ]
    },
    {
      "cell_type": "markdown",
      "metadata": {
        "id": "YVVZDabYGmBb",
        "colab_type": "text"
      },
      "source": [
        "## One Sided Range Operator"
      ]
    },
    {
      "cell_type": "code",
      "metadata": {
        "id": "i-u-jR9dGpH0",
        "colab_type": "code",
        "outputId": "d22529c2-6086-45fe-b738-3b39e356c2ec",
        "colab": {
          "base_uri": "https://localhost:8080/",
          "height": 357
        }
      },
      "source": [
        "let numbers = [0, 1, 2, 3, 4, 5, 6, 7, 8, 9, 10]\n",
        "print(\"from index 3 to the end\")\n",
        "for num in numbers[3...]{\n",
        "  print(num)\n",
        "}\n",
        "print(\"from the beginning to index 4\")\n",
        "for num in numbers[...4]{\n",
        "  print(num)\n",
        "}\n",
        "print(\"from the beginning to index less than 4\")\n",
        "for num in numbers[..<4]{\n",
        "  print(num)\n",
        "}"
      ],
      "execution_count": 0,
      "outputs": [
        {
          "output_type": "stream",
          "text": [
            "from index 3 to the end\r\n",
            "3\r\n",
            "4\r\n",
            "5\r\n",
            "6\r\n",
            "7\r\n",
            "8\r\n",
            "9\r\n",
            "10\r\n",
            "from the beginning to index 4\r\n",
            "0\r\n",
            "1\r\n",
            "2\r\n",
            "3\r\n",
            "4\r\n",
            "from the beginning to index less than 4\r\n",
            "0\r\n",
            "1\r\n",
            "2\r\n",
            "3\r\n"
          ],
          "name": "stdout"
        }
      ]
    },
    {
      "cell_type": "code",
      "metadata": {
        "id": "7S934S9iHHCy",
        "colab_type": "code",
        "outputId": "10b7f9a4-a5b7-46cf-9a49-cba756fda33a",
        "colab": {
          "base_uri": "https://localhost:8080/",
          "height": 85
        }
      },
      "source": [
        "let index = ..<4\n",
        "for num in numbers[index]{\n",
        "  print(num)\n",
        "}"
      ],
      "execution_count": 0,
      "outputs": [
        {
          "output_type": "stream",
          "text": [
            "0\r\n",
            "1\r\n",
            "2\r\n",
            "3\r\n"
          ],
          "name": "stdout"
        }
      ]
    }
  ]
}