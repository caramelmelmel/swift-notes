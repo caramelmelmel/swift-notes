{
  "nbformat": 4,
  "nbformat_minor": 0,
  "metadata": {
    "colab": {
      "name": "Tuple.ipynb",
      "version": "0.3.2",
      "provenance": [],
      "collapsed_sections": [],
      "include_colab_link": true
    },
    "kernelspec": {
      "name": "swift",
      "display_name": "Swift"
    }
  },
  "cells": [
    {
      "cell_type": "markdown",
      "metadata": {
        "id": "view-in-github",
        "colab_type": "text"
      },
      "source": [
        "<a href=\"https://colab.research.google.com/github/kurniawano/swift-notes/blob/master/Tuple.ipynb\" target=\"_parent\"><img src=\"https://colab.research.google.com/assets/colab-badge.svg\" alt=\"Open In Colab\"/></a>"
      ]
    },
    {
      "cell_type": "markdown",
      "metadata": {
        "id": "wUIxoWJ_u0Tg",
        "colab_type": "text"
      },
      "source": [
        "# Tuple"
      ]
    },
    {
      "cell_type": "markdown",
      "metadata": {
        "id": "Wgh4cXl8wDh8",
        "colab_type": "text"
      },
      "source": [
        "## Creating a Tuple"
      ]
    },
    {
      "cell_type": "code",
      "metadata": {
        "id": "GSKfxP_Lu31h",
        "colab_type": "code",
        "outputId": "0eedb9e2-5e24-4516-902e-202376e5e071",
        "colab": {
          "base_uri": "https://localhost:8080/",
          "height": 51
        }
      },
      "source": [
        "let sgcode = (65, \"Singapore\")\n",
        "print(sgcode)\n",
        "print(type(of:sgcode))"
      ],
      "execution_count": 0,
      "outputs": [
        {
          "output_type": "stream",
          "text": [
            "(65, \"Singapore\")\r\n",
            "(Int, String)\r\n"
          ],
          "name": "stdout"
        }
      ]
    },
    {
      "cell_type": "markdown",
      "metadata": {
        "id": "8njmUlFZwGRX",
        "colab_type": "text"
      },
      "source": [
        "## Decomposing a Tuple"
      ]
    },
    {
      "cell_type": "code",
      "metadata": {
        "id": "cB27NSCuvWaG",
        "colab_type": "code",
        "outputId": "66dce52a-2123-4352-f5c1-291e0ef55763",
        "colab": {
          "base_uri": "https://localhost:8080/",
          "height": 51
        }
      },
      "source": [
        "let (code, country) = sgcode\n",
        "print(code)\n",
        "print(country)"
      ],
      "execution_count": 0,
      "outputs": [
        {
          "output_type": "stream",
          "text": [
            "65\r\n",
            "Singapore\r\n"
          ],
          "name": "stdout"
        }
      ]
    },
    {
      "cell_type": "markdown",
      "metadata": {
        "id": "WH8rq9NdwK6j",
        "colab_type": "text"
      },
      "source": [
        "You can ignore some values when decomposing using \"underscore\" (_)."
      ]
    },
    {
      "cell_type": "code",
      "metadata": {
        "id": "0zvYTDcIvgTT",
        "colab_type": "code",
        "outputId": "fc8378f4-719d-49a7-c5e8-63516b090406",
        "colab": {
          "base_uri": "https://localhost:8080/",
          "height": 34
        }
      },
      "source": [
        "let (_, country) = sgcode\n",
        "print(country)"
      ],
      "execution_count": 0,
      "outputs": [
        {
          "output_type": "stream",
          "text": [
            "Singapore\r\n"
          ],
          "name": "stdout"
        }
      ]
    },
    {
      "cell_type": "markdown",
      "metadata": {
        "id": "OXs0e7szwRCU",
        "colab_type": "text"
      },
      "source": [
        "## Accessing Elements of a Tuple"
      ]
    },
    {
      "cell_type": "markdown",
      "metadata": {
        "id": "lIWxnXpcwVg_",
        "colab_type": "text"
      },
      "source": [
        "You can use index to access the element."
      ]
    },
    {
      "cell_type": "code",
      "metadata": {
        "id": "O0NK1I-YvrwZ",
        "colab_type": "code",
        "outputId": "a2b0e6c7-05fb-42d1-c0be-5cd8d0781d18",
        "colab": {
          "base_uri": "https://localhost:8080/",
          "height": 51
        }
      },
      "source": [
        "print(sgcode.0)\n",
        "print(sgcode.1)"
      ],
      "execution_count": 0,
      "outputs": [
        {
          "output_type": "stream",
          "text": [
            "65\r\n",
            "Singapore\r\n"
          ],
          "name": "stdout"
        }
      ]
    },
    {
      "cell_type": "markdown",
      "metadata": {
        "id": "MY92lOVRwohe",
        "colab_type": "text"
      },
      "source": [
        "You can create a named element in a tuple and access the element using the names."
      ]
    },
    {
      "cell_type": "code",
      "metadata": {
        "id": "gA7dWS60vzy9",
        "colab_type": "code",
        "outputId": "4893b636-a6b8-41da-88aa-4f575b2ad620",
        "colab": {
          "base_uri": "https://localhost:8080/",
          "height": 51
        }
      },
      "source": [
        "let sgcode = (code:65, country:\"Singapore\")\n",
        "print(sgcode.code)\n",
        "print(sgcode.country)"
      ],
      "execution_count": 0,
      "outputs": [
        {
          "output_type": "stream",
          "text": [
            "65\r\n",
            "Singapore\r\n"
          ],
          "name": "stdout"
        }
      ]
    }
  ]
}