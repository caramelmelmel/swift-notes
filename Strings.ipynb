{
  "nbformat": 4,
  "nbformat_minor": 0,
  "metadata": {
    "colab": {
      "name": "Strings.ipynb",
      "version": "0.3.2",
      "provenance": [],
      "collapsed_sections": [],
      "include_colab_link": true
    },
    "kernelspec": {
      "name": "swift",
      "display_name": "Swift"
    }
  },
  "cells": [
    {
      "cell_type": "markdown",
      "metadata": {
        "id": "view-in-github",
        "colab_type": "text"
      },
      "source": [
        "<a href=\"https://colab.research.google.com/github/kurniawano/swift-notes/blob/master/Strings.ipynb\" target=\"_parent\"><img src=\"https://colab.research.google.com/assets/colab-badge.svg\" alt=\"Open In Colab\"/></a>"
      ]
    },
    {
      "cell_type": "markdown",
      "metadata": {
        "id": "zWgNpn0xH4hU",
        "colab_type": "text"
      },
      "source": [
        "# Creating Strings"
      ]
    },
    {
      "cell_type": "code",
      "metadata": {
        "id": "x4WnpT_RH7M8",
        "colab_type": "code",
        "outputId": "34f17388-68b0-41cb-b148-ec15c6213b2b",
        "colab": {
          "base_uri": "https://localhost:8080/",
          "height": 34
        }
      },
      "source": [
        "let message = \"Hello\"\n",
        "print(message)\n"
      ],
      "execution_count": 0,
      "outputs": [
        {
          "output_type": "stream",
          "text": [
            "Hello\r\n"
          ],
          "name": "stdout"
        }
      ]
    },
    {
      "cell_type": "markdown",
      "metadata": {
        "id": "rdQs88dWIBGW",
        "colab_type": "text"
      },
      "source": [
        "You can create multi-line strings using triple double quote."
      ]
    },
    {
      "cell_type": "code",
      "metadata": {
        "id": "-0WL4eloIEba",
        "colab_type": "code",
        "outputId": "6b2e17b0-d62e-49fd-8db5-ddd0e0fa9084",
        "colab": {
          "base_uri": "https://localhost:8080/",
          "height": 68
        }
      },
      "source": [
        "let docs = \"\"\"\n",
        "hello, \n",
        "this is a multiple line\n",
        "string\n",
        "\"\"\"\n",
        "print(docs)"
      ],
      "execution_count": 0,
      "outputs": [
        {
          "output_type": "stream",
          "text": [
            "hello, \r\n",
            "this is a multiple line\r\n",
            "string\r\n"
          ],
          "name": "stdout"
        }
      ]
    },
    {
      "cell_type": "code",
      "metadata": {
        "id": "G-oUI173Ihoo",
        "colab_type": "code",
        "outputId": "3ef681a4-02b8-4460-f3a7-e690de9c8c0e",
        "colab": {
          "base_uri": "https://localhost:8080/",
          "height": 34
        }
      },
      "source": [
        "let singleLine = \"\"\"\n",
        "this is actually \\\n",
        "a single line \\\n",
        "string\n",
        "\"\"\"\n",
        "print(singleLine)"
      ],
      "execution_count": 0,
      "outputs": [
        {
          "output_type": "stream",
          "text": [
            "this is actually a single line string\r\n"
          ],
          "name": "stdout"
        }
      ]
    },
    {
      "cell_type": "markdown",
      "metadata": {
        "id": "Ke-NPT2EIz8w",
        "colab_type": "text"
      },
      "source": [
        "# Special Characters"
      ]
    },
    {
      "cell_type": "code",
      "metadata": {
        "id": "vGjwqEJ4I1go",
        "colab_type": "code",
        "outputId": "f4735b1b-b371-4abc-9277-be5ac61e6eec",
        "colab": {
          "base_uri": "https://localhost:8080/",
          "height": 68
        }
      },
      "source": [
        "let newline = \"Line 1 \\nLine 2\\nLine 3\"\n",
        "print(newline)"
      ],
      "execution_count": 0,
      "outputs": [
        {
          "output_type": "stream",
          "text": [
            "Line 1 \r\n",
            "Line 2\r\n",
            "Line 3\r\n"
          ],
          "name": "stdout"
        }
      ]
    },
    {
      "cell_type": "code",
      "metadata": {
        "id": "rS80PujJJDMP",
        "colab_type": "code",
        "outputId": "59803e71-6ed1-4b30-f810-f9ca5773959b",
        "colab": {
          "base_uri": "https://localhost:8080/",
          "height": 51
        }
      },
      "source": [
        "let quotes = \"What's up doc\"\n",
        "print(quotes)\n",
        "let dblquotes = \"John said, \\\"Hi, I'm John\\\".\"\n",
        "print(dblquotes)"
      ],
      "execution_count": 0,
      "outputs": [
        {
          "output_type": "stream",
          "text": [
            "What's up doc\r\n",
            "John said, \"Hi, I'm John\".\r\n"
          ],
          "name": "stdout"
        }
      ]
    },
    {
      "cell_type": "code",
      "metadata": {
        "id": "uUC3yKwTKNra",
        "colab_type": "code",
        "outputId": "7101de0b-8958-4a96-8a92-4f1a0cbf70a8",
        "colab": {
          "base_uri": "https://localhost:8080/",
          "height": 34
        }
      },
      "source": [
        "let specialchar = #\"this is the new line character: \\n\"#\n",
        "print(specialchar)"
      ],
      "execution_count": 0,
      "outputs": [
        {
          "output_type": "stream",
          "text": [
            "this is the new line character: \\n\r\n"
          ],
          "name": "stdout"
        }
      ]
    },
    {
      "cell_type": "markdown",
      "metadata": {
        "id": "kVErIeFEKazW",
        "colab_type": "text"
      },
      "source": [
        "# Empty String"
      ]
    },
    {
      "cell_type": "code",
      "metadata": {
        "id": "q-tYzZ_VKc2L",
        "colab_type": "code",
        "outputId": "43736aff-27ea-4165-a3e5-4ed5562e4734",
        "colab": {
          "base_uri": "https://localhost:8080/",
          "height": 34
        }
      },
      "source": [
        "let empty = \"\"\n",
        "if empty.isEmpty{\n",
        "  print(\"it's empty\")\n",
        "} else{\n",
        "  print(\"it's not empty\")\n",
        "}"
      ],
      "execution_count": 0,
      "outputs": [
        {
          "output_type": "stream",
          "text": [
            "it's empty\r\n"
          ],
          "name": "stdout"
        }
      ]
    },
    {
      "cell_type": "markdown",
      "metadata": {
        "id": "XNSKhOztKo2N",
        "colab_type": "text"
      },
      "source": [
        "# String Mutability"
      ]
    },
    {
      "cell_type": "code",
      "metadata": {
        "id": "Hw0A-sSaKq06",
        "colab_type": "code",
        "outputId": "d1906e06-ffe8-4b4d-e32d-8596c85101a4",
        "colab": {
          "base_uri": "https://localhost:8080/",
          "height": 215
        }
      },
      "source": [
        "let immutable = \"original\"\n",
        "immutable += \"addition\"\n"
      ],
      "execution_count": 0,
      "outputs": [
        {
          "output_type": "error",
          "ename": "",
          "evalue": "ignored",
          "traceback": [
            "error: <Cell 13>:2:11: error: left side of mutating operator isn't mutable: 'immutable' is a 'let' constant\nimmutable += \"addition\"\n~~~~~~~~~ ^\n\n<Cell 13>:1:1: note: change 'let' to 'var' to make it mutable\nlet immutable = \"original\"\n^~~\nvar\n\n"
          ]
        }
      ]
    },
    {
      "cell_type": "code",
      "metadata": {
        "id": "0piNBE4HK31l",
        "colab_type": "code",
        "outputId": "0fa3285b-08cc-4e53-bd58-0015075e5b1e",
        "colab": {
          "base_uri": "https://localhost:8080/",
          "height": 34
        }
      },
      "source": [
        "var mutable = \"original\"\n",
        "mutable += \" additional\"\n",
        "print(mutable)"
      ],
      "execution_count": 0,
      "outputs": [
        {
          "output_type": "stream",
          "text": [
            "original additional\r\n"
          ],
          "name": "stdout"
        }
      ]
    },
    {
      "cell_type": "markdown",
      "metadata": {
        "id": "IE-DcywYDhzA",
        "colab_type": "text"
      },
      "source": [
        "# Characters"
      ]
    },
    {
      "cell_type": "markdown",
      "metadata": {
        "id": "Lgs3Xh6xDmX_",
        "colab_type": "text"
      },
      "source": [
        "## Accessing Characters of a String"
      ]
    },
    {
      "cell_type": "code",
      "metadata": {
        "id": "zp07cHS0DrIZ",
        "colab_type": "code",
        "outputId": "e1061c10-38f3-4a31-993c-ef1e87ce3e70",
        "colab": {
          "base_uri": "https://localhost:8080/",
          "height": 207
        }
      },
      "source": [
        "let message = \"Hello world\"\n",
        "\n",
        "for char in message{\n",
        "  print(char)\n",
        "}"
      ],
      "execution_count": 0,
      "outputs": [
        {
          "output_type": "stream",
          "text": [
            "H\r\n",
            "e\r\n",
            "l\r\n",
            "l\r\n",
            "o\r\n",
            " \r\n",
            "w\r\n",
            "o\r\n",
            "r\r\n",
            "l\r\n",
            "d\r\n"
          ],
          "name": "stdout"
        }
      ]
    },
    {
      "cell_type": "code",
      "metadata": {
        "id": "_8WGI2LwD6IW",
        "colab_type": "code",
        "outputId": "12bb3aee-56dd-4706-bb1a-dd1738c03c51",
        "colab": {
          "base_uri": "https://localhost:8080/",
          "height": 51
        }
      },
      "source": [
        "let name:[Character] = [\"J\", \"A\", \"M\", \"E\", \"S\"]\n",
        "let namestr: String = String(name)\n",
        "print(name)\n",
        "print(namestr)"
      ],
      "execution_count": 0,
      "outputs": [
        {
          "output_type": "stream",
          "text": [
            "[\"J\", \"A\", \"M\", \"E\", \"S\"]\r\n",
            "JAMES\r\n"
          ],
          "name": "stdout"
        }
      ]
    },
    {
      "cell_type": "markdown",
      "metadata": {
        "id": "d74mpeiYEcYk",
        "colab_type": "text"
      },
      "source": [
        "# Concatenation"
      ]
    },
    {
      "cell_type": "code",
      "metadata": {
        "id": "ZnVNLj3OEeiA",
        "colab_type": "code",
        "outputId": "380dad9a-2276-412e-c6e3-7addb2da58a3",
        "colab": {
          "base_uri": "https://localhost:8080/",
          "height": 34
        }
      },
      "source": [
        "let message1 = \"Hello\"\n",
        "let message2 = \"World\"\n",
        "\n",
        "print(message1 + message2)"
      ],
      "execution_count": 0,
      "outputs": [
        {
          "output_type": "stream",
          "text": [
            "HelloWorld\r\n"
          ],
          "name": "stdout"
        }
      ]
    },
    {
      "cell_type": "code",
      "metadata": {
        "id": "6Tbj8E5UEmsX",
        "colab_type": "code",
        "outputId": "af7111f5-36ec-4627-e983-ff72df0127fc",
        "colab": {
          "base_uri": "https://localhost:8080/",
          "height": 34
        }
      },
      "source": [
        "var message = message1 + message2\n",
        "let mark: Character = \"!\"\n",
        "message.append(mark)\n",
        "print(message)"
      ],
      "execution_count": 0,
      "outputs": [
        {
          "output_type": "stream",
          "text": [
            "HelloWorld!\r\n"
          ],
          "name": "stdout"
        }
      ]
    },
    {
      "cell_type": "markdown",
      "metadata": {
        "id": "TxBGHdYRFKYC",
        "colab_type": "text"
      },
      "source": [
        "# String Interpolation"
      ]
    },
    {
      "cell_type": "code",
      "metadata": {
        "id": "hZrQaSLjFMmJ",
        "colab_type": "code",
        "outputId": "7ec3b4b3-d5d9-4f17-fedc-415ea5ecc10e",
        "colab": {
          "base_uri": "https://localhost:8080/",
          "height": 34
        }
      },
      "source": [
        "let age = 3\n",
        "print(\"You have lived for \\(age * 12) months and \\(Float(age) / 10) decade.\")"
      ],
      "execution_count": 0,
      "outputs": [
        {
          "output_type": "stream",
          "text": [
            "You have lived for 36 months and 0.3 decade.\r\n"
          ],
          "name": "stdout"
        }
      ]
    },
    {
      "cell_type": "markdown",
      "metadata": {
        "id": "J4-UF1xOFdSl",
        "colab_type": "text"
      },
      "source": [
        "Use Extended string delimiters if you want to see the blackslash."
      ]
    },
    {
      "cell_type": "code",
      "metadata": {
        "id": "RqvE-oD9Fhw1",
        "colab_type": "code",
        "outputId": "1827a0e8-9eec-4629-9773-09cd11b50ba1",
        "colab": {
          "base_uri": "https://localhost:8080/",
          "height": 34
        }
      },
      "source": [
        "\n",
        "print(#\"You have lived for \\(age * 12) months and \\(Float(age) / 10) decade.\"#)"
      ],
      "execution_count": 0,
      "outputs": [
        {
          "output_type": "stream",
          "text": [
            "You have lived for \\(age * 12) months and \\(Float(age) / 10) decade.\r\n"
          ],
          "name": "stdout"
        }
      ]
    },
    {
      "cell_type": "code",
      "metadata": {
        "id": "udERl_j4Fpd0",
        "colab_type": "code",
        "outputId": "bc12e566-c14e-431e-ad5a-fc6be500081d",
        "colab": {
          "base_uri": "https://localhost:8080/",
          "height": 34
        }
      },
      "source": [
        "\n",
        "print(#\"You have lived for \\#(age * 12) months and \\(Float(age) / 10) decade.\"#)"
      ],
      "execution_count": 0,
      "outputs": [
        {
          "output_type": "stream",
          "text": [
            "You have lived for 36 months and \\(Float(age) / 10) decade.\r\n"
          ],
          "name": "stdout"
        }
      ]
    },
    {
      "cell_type": "markdown",
      "metadata": {
        "id": "-f3naqTrPzmj",
        "colab_type": "text"
      },
      "source": [
        "# Accessing and Modifying Strings"
      ]
    },
    {
      "cell_type": "markdown",
      "metadata": {
        "id": "RLbJKWsoP2KZ",
        "colab_type": "text"
      },
      "source": [
        "You cannot use integer indexing because Swift's string support characters with different amount of memory to store. So you must iterate for each character from start or end of that string."
      ]
    },
    {
      "cell_type": "code",
      "metadata": {
        "id": "nRSRihPaQPqQ",
        "colab_type": "code",
        "outputId": "fc9ae410-bf6e-413e-d7e7-801aedc78204",
        "colab": {
          "base_uri": "https://localhost:8080/",
          "height": 86
        }
      },
      "source": [
        "let message = \"Hello World\"\n",
        "//Use subscript indexing\n",
        "print(message[message.startIndex])\n",
        "\n",
        "//use index() to get the String.Index \n",
        "//use index(before:)\n",
        "print(message[message.index(before:message.endIndex)])\n",
        "\n",
        "//use index(after:)\n",
        "print(message[message.index(after:message.startIndex)])\n",
        "\n",
        "//use index(start:offsetBy)\n",
        "let idx = message.index(message.startIndex, offsetBy:4)\n",
        "print(message[idx])"
      ],
      "execution_count": 0,
      "outputs": [
        {
          "output_type": "stream",
          "text": [
            "H\r\n",
            "d\r\n",
            "e\r\n",
            "o\r\n"
          ],
          "name": "stdout"
        }
      ]
    },
    {
      "cell_type": "code",
      "metadata": {
        "id": "RgbvoK9_ReUq",
        "colab_type": "code",
        "outputId": "bd754953-3db7-4ea1-9bd5-2274b81ff5b0",
        "colab": {
          "base_uri": "https://localhost:8080/",
          "height": 207
        }
      },
      "source": [
        "for idx in message.indices{\n",
        "  print(message[idx])\n",
        "}"
      ],
      "execution_count": 0,
      "outputs": [
        {
          "output_type": "stream",
          "text": [
            "H\r\n",
            "e\r\n",
            "l\r\n",
            "l\r\n",
            "o\r\n",
            " \r\n",
            "W\r\n",
            "o\r\n",
            "r\r\n",
            "l\r\n",
            "d\r\n"
          ],
          "name": "stdout"
        }
      ]
    },
    {
      "cell_type": "markdown",
      "metadata": {
        "id": "Yc5zu_TfRoKj",
        "colab_type": "text"
      },
      "source": [
        "# Inserting and Removing"
      ]
    },
    {
      "cell_type": "code",
      "metadata": {
        "id": "G5hwhClpRpyo",
        "colab_type": "code",
        "outputId": "0b42a123-33ab-410e-bc7a-31bdcaa0a9d7",
        "colab": {
          "base_uri": "https://localhost:8080/",
          "height": 51
        }
      },
      "source": [
        "var message = \"hello world\"\n",
        "message.insert(\"!\", at:message.endIndex)\n",
        "print(message)\n",
        "\n",
        "message.insert(contentsOf: \" of James\", at:message.index(before:message.endIndex))\n",
        "print(message)"
      ],
      "execution_count": 0,
      "outputs": [
        {
          "output_type": "stream",
          "text": [
            "hello world!\r\n",
            "hello world of James!\r\n"
          ],
          "name": "stdout"
        }
      ]
    },
    {
      "cell_type": "code",
      "metadata": {
        "id": "nlruW0llSPeg",
        "colab_type": "code",
        "outputId": "60b5b15c-9a42-4028-d2fc-0c91f508ee6d",
        "colab": {
          "base_uri": "https://localhost:8080/",
          "height": 69
        }
      },
      "source": [
        "var message = \"hello world!\"\n",
        "\n",
        "// removing the last character\n",
        "message.remove(at:message.index(before:message.endIndex))\n",
        "print(message)\n",
        "\n",
        "// removing substring\n",
        "let range = message.index(message.endIndex, offsetBy:-\" world\".count)..<message.endIndex\n",
        "message.removeSubrange(range)\n",
        "print(message)\n",
        "print(message.count)"
      ],
      "execution_count": 0,
      "outputs": [
        {
          "output_type": "stream",
          "text": [
            "hello world\r\n",
            "hello\r\n",
            "5\r\n"
          ],
          "name": "stdout"
        }
      ]
    },
    {
      "cell_type": "markdown",
      "metadata": {
        "id": "OrGXuak2TeXq",
        "colab_type": "text"
      },
      "source": [
        "# Substring\n",
        "\n",
        "When you get a substring from a string, the result is an instance of Substring, not another string. Substrings in Swift have most of the same methods as strings, which means you can work with substrings the same way you work with strings. However, unlike strings, you use substrings for only a short amount of time while performing actions on a string. When you’re ready to store the result for a longer time, you convert the substring to an instance of String."
      ]
    },
    {
      "cell_type": "code",
      "metadata": {
        "id": "R2Wh0YipTl-H",
        "colab_type": "code",
        "outputId": "a5b9fa07-2d43-4383-e9f0-7c021810359c",
        "colab": {
          "base_uri": "https://localhost:8080/",
          "height": 86
        }
      },
      "source": [
        "let greeting = \"hello, world!\"\n",
        "let index = greeting.firstIndex(of: \",\") ?? greeting.endIndex\n",
        "print(greeting[...index])\n",
        "print(greeting[..<index])\n",
        "print(type(of:greeting[..<index]))\n",
        "\n",
        "// for long term\n",
        "let firstgreeting = String(greeting[..<index])\n",
        "print(type(of:firstgreeting))"
      ],
      "execution_count": 0,
      "outputs": [
        {
          "output_type": "stream",
          "text": [
            "hello,\r\n",
            "hello\r\n",
            "Substring\r\n",
            "String\r\n"
          ],
          "name": "stdout"
        }
      ]
    }
  ]
}