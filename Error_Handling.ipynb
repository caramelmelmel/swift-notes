{
  "nbformat": 4,
  "nbformat_minor": 0,
  "metadata": {
    "colab": {
      "name": "Error_Handling.ipynb",
      "version": "0.3.2",
      "provenance": [],
      "collapsed_sections": [],
      "include_colab_link": true
    },
    "kernelspec": {
      "name": "swift",
      "display_name": "Swift"
    }
  },
  "cells": [
    {
      "cell_type": "markdown",
      "metadata": {
        "id": "view-in-github",
        "colab_type": "text"
      },
      "source": [
        "<a href=\"https://colab.research.google.com/github/kurniawano/swift-notes/blob/master/Error_Handling.ipynb\" target=\"_parent\"><img src=\"https://colab.research.google.com/assets/colab-badge.svg\" alt=\"Open In Colab\"/></a>"
      ]
    },
    {
      "cell_type": "markdown",
      "metadata": {
        "id": "xvqO7G368CGO",
        "colab_type": "text"
      },
      "source": [
        "# Using do-catch"
      ]
    },
    {
      "cell_type": "code",
      "metadata": {
        "id": "m3N5gsBc8Elj",
        "colab_type": "code",
        "outputId": "720fec1d-a2d5-4975-c8b2-9dc4bf716270",
        "colab": {
          "base_uri": "https://localhost:8080/",
          "height": 283
        }
      },
      "source": [
        "var nilString:String? = nil\n",
        "\n",
        "func unwrapOpt() throws{\n",
        "  print(nilString!)\n",
        "}\n",
        "do{\n",
        "  print(nilString)\n",
        "  try unwrapOpt()\n",
        "} catch{\n",
        "  print(\"Error\")\n",
        "}"
      ],
      "execution_count": 0,
      "outputs": [
        {
          "output_type": "stream",
          "text": [
            "nil\r\n",
            "Fatal error: Unexpectedly found nil while unwrapping an Optional value\r\n",
            "Current stack trace:\r\n",
            "0    libswiftCore.so                    0x00007f0fb491d620 _swift_stdlib_reportFatalError + 69\r\n",
            "1    libswiftCore.so                    0x00007f0fb4830ed6 <unavailable> + 2821846\r\n",
            "2    libswiftCore.so                    0x00007f0fb4831255 <unavailable> + 2822741\r\n",
            "3    libswiftCore.so                    0x00007f0fb46abd30 _fatalErrorMessage(_:_:file:line:flags:) + 19\r\n"
          ],
          "name": "stdout"
        },
        {
          "output_type": "error",
          "ename": "",
          "evalue": "ignored",
          "traceback": [
            "Current stack trace:",
            "\tframe #2: 0x00007f0fe207dc06 $__lldb_expr36`main [inlined] __lldb_expr_35.unwrapOpt() throws -> () at <Cell 5>:4:18",
            "\tframe #3: 0x00007f0fe207dbb9 $__lldb_expr36`main at <Cell 5>:8",
            "\tframe #7: 0x00007f0fe207d2e6 $__lldb_expr26`main [inlined] __lldb_expr_25.unwrapOpt() throws -> () at <Cell 3>:4:18",
            "\tframe #8: 0x00007f0fe207d299 $__lldb_expr26`main at <Cell 3>:8",
            "\tframe #12: 0x00007f0fe2086fb6 $__lldb_expr22`main at <Cell 2>:4:18"
          ]
        }
      ]
    }
  ]
}