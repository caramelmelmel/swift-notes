{
  "nbformat": 4,
  "nbformat_minor": 0,
  "metadata": {
    "colab": {
      "name": "Inheritance and Extensions.ipynb",
      "version": "0.3.2",
      "provenance": [],
      "collapsed_sections": [],
      "include_colab_link": true
    },
    "kernelspec": {
      "name": "swift",
      "display_name": "Swift"
    }
  },
  "cells": [
    {
      "cell_type": "markdown",
      "metadata": {
        "id": "view-in-github",
        "colab_type": "text"
      },
      "source": [
        "<a href=\"https://colab.research.google.com/github/kurniawano/swift-notes/blob/master/Inheritance_and_Extensions.ipynb\" target=\"_parent\"><img src=\"https://colab.research.google.com/assets/colab-badge.svg\" alt=\"Open In Colab\"/></a>"
      ]
    },
    {
      "cell_type": "markdown",
      "metadata": {
        "id": "vjIqo7NQ784R",
        "colab_type": "text"
      },
      "source": [
        "# Inheritance\n",
        "\n",
        "A class can inherit methods, properties, and other characteristics from another class. When one class inherits from another, the inheriting class is known as a subclass, and the class it inherits from is known as its superclass. Inheritance is a fundamental behavior that differentiates classes from other types in Swift.\n",
        "\n",
        "## Defining a Base Class"
      ]
    },
    {
      "cell_type": "code",
      "metadata": {
        "id": "kZRlD4utdPuX",
        "colab_type": "code",
        "colab": {}
      },
      "source": [
        "class GeometricObject{\n",
        "  var color: String\n",
        "  var filled: Bool\n",
        "\n",
        "  init(color: String = \"\", filled:Bool=false){ // must have init, only struct create default initializer\n",
        "    self.color = color // use self to access the property because the argument name is the same\n",
        "    self.filled = filled\n",
        "  }\n",
        "\n",
        "  func toString()->String{\n",
        "    let status = filled ? \"filled\": \"not filled\"\n",
        "    return \"Geometric Object with \\(color) color \\(status).\"\n",
        "  }\n",
        "}"
      ],
      "execution_count": 0,
      "outputs": []
    },
    {
      "cell_type": "markdown",
      "metadata": {
        "id": "KT_4Sk3h9tCD",
        "colab_type": "text"
      },
      "source": [
        "## Creating a Subclass"
      ]
    },
    {
      "cell_type": "code",
      "metadata": {
        "id": "caZjhU4-9vIs",
        "colab_type": "code",
        "colab": {}
      },
      "source": [
        "class Circle: GeometricObject{\n",
        "  var radius: Double\n",
        "  var area: Double{\n",
        "    get{\n",
        "      return Double.pi*radius*radius\n",
        "    }\n",
        "    set(newArea){\n",
        "      radius = Double.sqrt(newArea/Double.pi)\n",
        "    }\n",
        "  }\n",
        "\n",
        "  init(radius:Double=0.0){\n",
        "    self.radius = radius\n",
        "    // implicit call to super.init() to initialize color and filled\n",
        "  }\n",
        "\n",
        "  init(radius:Double=0.0, color:String=\"\", filled:Bool=false){\n",
        "    self.radius = radius\n",
        "    super.init(color: color, filled: filled)\n",
        "  }\n",
        "}"
      ],
      "execution_count": 0,
      "outputs": []
    },
    {
      "cell_type": "code",
      "metadata": {
        "id": "7LwEW1e6-kHi",
        "colab_type": "code",
        "outputId": "81de9342-df07-446b-932f-113533f574cd",
        "colab": {
          "base_uri": "https://localhost:8080/",
          "height": 102
        }
      },
      "source": [
        "// various way to instantiate\n",
        "let c1 = Circle()\n",
        "print(c1.radius, c1.color, c1.filled) // you can access parent's properties\n",
        "let c2 = Circle(radius: 5)\n",
        "print(c2.radius, c2.color, c2.filled)\n",
        "let c3 = Circle(radius: 5, color: \"Blue\", filled: true)\n",
        "print(c3.radius, c3.color, c3.filled)\n",
        "\n",
        "print(c3.toString()) // you can access parent's method\n",
        "print(c3.area) // or subclass property\n"
      ],
      "execution_count": 0,
      "outputs": [
        {
          "output_type": "stream",
          "text": [
            "0.0  false\r\n",
            "5.0  false\r\n",
            "5.0 Blue true\r\n",
            "Geometric Object with Blue color filled.\r\n",
            "78.53981633974483\r\n"
          ],
          "name": "stdout"
        }
      ]
    },
    {
      "cell_type": "markdown",
      "metadata": {
        "id": "lIn1Ujo5_5CT",
        "colab_type": "text"
      },
      "source": [
        "## Overriding"
      ]
    },
    {
      "cell_type": "code",
      "metadata": {
        "id": "q7cKEENM_6Ur",
        "colab_type": "code",
        "colab": {}
      },
      "source": [
        "class Circle: GeometricObject{\n",
        "  var radius: Double\n",
        "  var area: Double{\n",
        "    get{\n",
        "      return Double.pi*radius*radius\n",
        "    }\n",
        "    set(newArea){\n",
        "      radius = Double.sqrt(newArea/Double.pi)\n",
        "    }\n",
        "  }\n",
        "\n",
        "  init(radius:Double=0.0){\n",
        "    self.radius = radius\n",
        "  }\n",
        "\n",
        "  init(radius:Double=0.0, color:String=\"\", filled:Bool=false){\n",
        "    self.radius = radius\n",
        "    super.init(color: color, filled: filled)\n",
        "  }\n",
        "\n",
        "  override func toString() -> String{ // use override keyword to override the parent's method\n",
        "    let status = filled ? \"filled\": \"not filled\"\n",
        "    return \"A circle with \\(color) color \\(status) and radius of \\(radius).\"\n",
        "  }\n",
        "}"
      ],
      "execution_count": 0,
      "outputs": []
    },
    {
      "cell_type": "code",
      "metadata": {
        "id": "BWNjNGTDAKfG",
        "colab_type": "code",
        "outputId": "f85b8608-0a92-4a1a-a573-977d23a4683d",
        "colab": {
          "base_uri": "https://localhost:8080/",
          "height": 34
        }
      },
      "source": [
        "let c1 = Circle(radius:1, color: \"Red\", filled: true)\n",
        "print(c1.toString())"
      ],
      "execution_count": 0,
      "outputs": [
        {
          "output_type": "stream",
          "text": [
            "A circle with Red color filled and radius of 1.0.\r\n"
          ],
          "name": "stdout"
        }
      ]
    },
    {
      "cell_type": "markdown",
      "metadata": {
        "id": "PTGvVPPwAhvN",
        "colab_type": "text"
      },
      "source": [
        "## Preventing Override\n",
        "\n",
        "You can prevent override by using the keyword `final` in the parent's class definition."
      ]
    },
    {
      "cell_type": "markdown",
      "metadata": {
        "id": "JLsyoW1xJim6",
        "colab_type": "text"
      },
      "source": [
        "# Extensions\n",
        "Extensions add new **functionality** to an existing class, structure, enumeration, or protocol type. This includes the ability to extend types for which you do not have access to the original source code (known as retroactive modeling). "
      ]
    },
    {
      "cell_type": "markdown",
      "metadata": {
        "id": "F0IexvplL2vC",
        "colab_type": "text"
      },
      "source": [
        "## Extension Syntax"
      ]
    },
    {
      "cell_type": "code",
      "metadata": {
        "id": "jy_eB_MWKIZw",
        "colab_type": "code",
        "outputId": "2f4eb249-798a-42e9-ba9e-7fe93edd23c3",
        "colab": {
          "base_uri": "https://localhost:8080/",
          "height": 34
        }
      },
      "source": [
        "let c1 = Circle()\n",
        "print(c1)"
      ],
      "execution_count": 0,
      "outputs": [
        {
          "output_type": "stream",
          "text": [
            "__lldb_expr_36.Circle\r\n"
          ],
          "name": "stdout"
        }
      ]
    },
    {
      "cell_type": "code",
      "metadata": {
        "id": "8DNhmmuYKPWf",
        "colab_type": "code",
        "colab": {}
      },
      "source": [
        "extension GeometricObject: CustomStringConvertible{\n",
        "  public var description: String{\n",
        "    return self.toString()\n",
        "  }\n",
        "}"
      ],
      "execution_count": 0,
      "outputs": []
    },
    {
      "cell_type": "code",
      "metadata": {
        "id": "6-4ILG2-KkCa",
        "colab_type": "code",
        "outputId": "28200049-046c-442d-9e74-82fc718dfac0",
        "colab": {
          "base_uri": "https://localhost:8080/",
          "height": 34
        }
      },
      "source": [
        "let c1 = Circle()\n",
        "print(c1)"
      ],
      "execution_count": 0,
      "outputs": [
        {
          "output_type": "stream",
          "text": [
            "A circle with  color not filled and radius of 0.0.\r\n"
          ],
          "name": "stdout"
        }
      ]
    },
    {
      "cell_type": "markdown",
      "metadata": {
        "id": "tD7pKwQhL8pu",
        "colab_type": "text"
      },
      "source": [
        "## Extending Computed Properties"
      ]
    },
    {
      "cell_type": "code",
      "metadata": {
        "id": "fXUDENq-L_IU",
        "colab_type": "code",
        "colab": {}
      },
      "source": [
        "extension Circle{\n",
        "  var perimeter: Double{\n",
        "    get{\n",
        "      return 2*Double.pi*radius\n",
        "    }\n",
        "    set(newP){\n",
        "      radius = newP / (2*Double.pi)\n",
        "    }\n",
        "  }\n",
        "}"
      ],
      "execution_count": 0,
      "outputs": []
    },
    {
      "cell_type": "code",
      "metadata": {
        "id": "bCMFEkQcMSNq",
        "colab_type": "code",
        "outputId": "a0df4c8d-2734-4f56-9de0-1f64c5c80001",
        "colab": {
          "base_uri": "https://localhost:8080/",
          "height": 34
        }
      },
      "source": [
        "let c1 = Circle(radius: 2)\n",
        "print(c1.perimeter)"
      ],
      "execution_count": 0,
      "outputs": [
        {
          "output_type": "stream",
          "text": [
            "12.566370614359172\r\n"
          ],
          "name": "stdout"
        }
      ]
    },
    {
      "cell_type": "markdown",
      "metadata": {
        "id": "atFGV83_Me6q",
        "colab_type": "text"
      },
      "source": [
        "## Extending Initializer"
      ]
    },
    {
      "cell_type": "code",
      "metadata": {
        "id": "qbOqROfyMg7J",
        "colab_type": "code",
        "colab": {}
      },
      "source": [
        "extension Circle{\n",
        "  convenience init(area: Double){\n",
        "    self.init() // must call init (phase 1)\n",
        "    self.area = area // before modify its property (phase 2)\n",
        "  }\n",
        "}"
      ],
      "execution_count": 0,
      "outputs": []
    },
    {
      "cell_type": "code",
      "metadata": {
        "id": "RofnViIMNHuv",
        "colab_type": "code",
        "outputId": "7bf7a75e-5e98-47f9-98f0-bbe060784fbb",
        "colab": {
          "base_uri": "https://localhost:8080/",
          "height": 34
        }
      },
      "source": [
        "let c1 = Circle(area: Double.pi*1.0)\n",
        "print(c1)"
      ],
      "execution_count": 0,
      "outputs": [
        {
          "output_type": "stream",
          "text": [
            "A circle with  color not filled and radius of 1.0.\r\n"
          ],
          "name": "stdout"
        }
      ]
    },
    {
      "cell_type": "markdown",
      "metadata": {
        "id": "FSOjYcmvQrYY",
        "colab_type": "text"
      },
      "source": [
        "You can also extend existing Type such as Int and any other built-in classes."
      ]
    },
    {
      "cell_type": "code",
      "metadata": {
        "id": "fgGZK9tHNvbx",
        "colab_type": "code",
        "colab": {}
      },
      "source": [
        "extension Int{ // extending existing type\n",
        "  enum Kind{\n",
        "    case even, odd\n",
        "  }\n",
        "  var kind: Kind{\n",
        "    (self % 2 == 0) ? .even : .odd\n",
        "  }\n",
        "}\n",
        "\n"
      ],
      "execution_count": 0,
      "outputs": []
    },
    {
      "cell_type": "code",
      "metadata": {
        "id": "r5wU5mbvQPk3",
        "colab_type": "code",
        "outputId": "2ea62038-ea0c-48b2-bbad-fa4cb379a2ac",
        "colab": {
          "base_uri": "https://localhost:8080/",
          "height": 51
        }
      },
      "source": [
        "let num1 = 1\n",
        "print(num1.kind)\n",
        "let num2 = 16\n",
        "print(num2.kind)"
      ],
      "execution_count": 0,
      "outputs": [
        {
          "output_type": "stream",
          "text": [
            "odd\r\n",
            "even\r\n"
          ],
          "name": "stdout"
        }
      ]
    },
    {
      "cell_type": "markdown",
      "metadata": {
        "id": "gsDk8lMFNs9e",
        "colab_type": "text"
      },
      "source": [
        "## Extending Methods"
      ]
    },
    {
      "cell_type": "code",
      "metadata": {
        "id": "zO7mNx_cQqMg",
        "colab_type": "code",
        "colab": {}
      },
      "source": [
        "extension Circle{\n",
        "  func fill(with color: String){\n",
        "    self.color = color\n",
        "    filled = true\n",
        "  }\n",
        "}"
      ],
      "execution_count": 0,
      "outputs": []
    },
    {
      "cell_type": "code",
      "metadata": {
        "id": "h_r4QlElRUr_",
        "colab_type": "code",
        "outputId": "2eeba73a-ef2e-45ab-afca-a68821473230",
        "colab": {
          "base_uri": "https://localhost:8080/",
          "height": 34
        }
      },
      "source": [
        "let c1 = Circle()\n",
        "c1.fill(with: \"Blue\")\n",
        "print(c1)"
      ],
      "execution_count": 0,
      "outputs": [
        {
          "output_type": "stream",
          "text": [
            "A circle with Blue color filled and radius of 0.0.\r\n"
          ],
          "name": "stdout"
        }
      ]
    }
  ]
}